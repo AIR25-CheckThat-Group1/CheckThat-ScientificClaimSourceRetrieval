{
 "cells": [
  {
   "cell_type": "markdown",
   "metadata": {},
   "source": [
    "# SBERT Hyperparameter Tuning Experiment 4\n",
    "\n",
    "**Experiment focus:** Testing different data augmentation techniques for SBERT fine-tuning.\n",
    "\n",
    "This notebook explores the effect of different data augmentation methods on SBERT performance for scientific claim source retrieval."
   ]
  },
  {
   "cell_type": "code",
   "execution_count": null,
   "metadata": {},
   "outputs": [],
   "source": [
    "import pandas as pd\n",
    "import pickle\n",
    "from sentence_transformers import SentenceTransformer, InputExample, losses\n",
    "from torch.utils.data import DataLoader\n",
    "import torch\n",
    "import numpy as np\n",
    "import random\n",
    "import nltk\n",
    "from nltk.corpus import wordnet\n",
    "from nltk.tokenize import word_tokenize\n",
    "import re\n",
    "\n",
    "# Download required NLTK data\n",
    "nltk.download('punkt')\n",
    "nltk.download('wordnet')\n",
    "nltk.download('averaged_perceptron_tagger')"
   ]
  },
  {
   "cell_type": "markdown",
   "metadata": {},
   "source": [
    "## Data Augmentation Functions\n",
    "\n",
    "Define different data augmentation techniques."
   ]
  },
  {
   "cell_type": "code",
   "execution_count": null,
   "metadata": {},
   "outputs": [],
   "source": [
    "# Data Augmentation Functions\n",
    "def clean_text(text):\n",
    "    # Remove URLs\n",
    "    text = re.sub(r'http\\S+|www\\S+|https\\S+', '', text, flags=re.MULTILINE)\n",
    "    # Remove special characters and digits\n",
    "    text = re.sub(r'[^\\w\\s]', '', text)\n",
    "    # Remove extra whitespace\n",
    "    text = ' '.join(text.split())\n",
    "    return text\n",
    "\n",
    "def synonym_replacement(text, n=1):\n",
    "    words = word_tokenize(text)\n",
    "    new_words = words.copy()\n",
    "    random_word_list = list(set([word for word in words if wordnet.synsets(word)]))\n",
    "    random.shuffle(random_word_list)\n",
    "    num_replaced = 0\n",
    "    \n",
    "    for random_word in random_word_list:\n",
    "        synonyms = get_synonyms(random_word)\n",
    "        if len(synonyms) >= 1:\n",
    "            synonym = random.choice(list(synonyms))\n",
    "            new_words = [synonym if word == random_word else word for word in new_words]\n",
    "            num_replaced += 1\n",
    "        if num_replaced >= n:\n",
    "            break\n",
    "    \n",
    "    return ' '.join(new_words)\n",
    "\n",
    "def get_synonyms(word):\n",
    "    synonyms = set()\n",
    "    for syn in wordnet.synsets(word):\n",
    "        for lemma in syn.lemmas():\n",
    "            synonym = lemma.name().replace('_', ' ')\n",
    "            if synonym != word:\n",
    "                synonyms.add(synonym)\n",
    "    return synonyms"
   ]
  },
  {
   "cell_type": "markdown",
   "metadata": {},
   "source": [
    "## Data Loading and Augmentation\n",
    "\n",
    "Load the data and apply different augmentation techniques."
   ]
  },
  {
   "cell_type": "code",
   "execution_count": null,
   "metadata": {},
   "outputs": [],
   "source": [
    "# Load train and dev data\n",
    "train_df = pd.read_csv('../subtask4b_query_tweets_train.tsv', sep='\\t', names=['post_id', 'tweet_text', 'cord_uid'])\n",
    "dev_df = pd.read_csv('../subtask4b_query_tweets_dev.tsv', sep='\\t', names=['post_id', 'tweet_text', 'cord_uid'])\n",
    "with open('../subtask4b_collection_data.pkl', 'rb') as f:\n",
    "    papers_df = pickle.load(f)\n",
    "papers_df['text'] = papers_df['title'] + '. ' + papers_df['abstract']\n",
    "paper_dict = dict(zip(papers_df['cord_uid'], papers_df['text']))\n",
    "\n",
    "# Define augmentation strategies\n",
    "augmentation_strategies = {\n",
    "    'baseline': lambda x: x,\n",
    "    'cleaning': clean_text,\n",
    "    'synonym_replacement': lambda x: synonym_replacement(x, n=2),\n",
    "}\n",
    "\n",
    "# Prepare training examples with different augmentation strategies\n",
    "train_samples = {}\n",
    "for strategy_name, strategy_func in augmentation_strategies.items():\n",
    "    samples = []\n",
    "    for _, row in train_df.iterrows():\n",
    "        if row['cord_uid'] in paper_dict:\n",
    "            tweet = strategy_func(row['tweet_text'])\n",
    "            paper = paper_dict[row['cord_uid']]\n",
    "            samples.append(InputExample(texts=[tweet, paper]))\n",
    "    train_samples[strategy_name] = samples\n",
    "\n",
    "# Prepare dev examples\n",
    "dev_samples = []\n",
    "for _, row in dev_df.iterrows():\n",
    "    if row['cord_uid'] in paper_dict:\n",
    "        tweet = row['tweet_text']\n",
    "        paper = paper_dict[row['cord_uid']]\n",
    "        dev_samples.append(InputExample(texts=[tweet, paper]))"
   ]
  },
  {
   "cell_type": "markdown",
   "metadata": {},
   "source": [
    "## Training Configuration\n",
    "\n",
    "Set up the training parameters."
   ]
  },
  {
   "cell_type": "code",
   "execution_count": null,
   "metadata": {},
   "outputs": [],
   "source": [
    "# Fixed hyperparameters\n",
    "learning_rate = 2e-5\n",
    "batch_size = 16\n",
    "epochs = 4\n",
    "warmup_steps = 100\n",
    "model_name = 'multi-qa-mpnet-base-cos-v1'"
   ]
  },
  {
   "cell_type": "markdown",
   "metadata": {},
   "source": [
    "## Training and Evaluation Loop\n",
    "\n",
    "Train and evaluate models with different augmentation strategies."
   ]
  },
  {
   "cell_type": "code",
   "execution_count": null,
   "metadata": {},
   "outputs": [],
   "source": [
    "def evaluate_mrr(model, dev_df, papers_df, top_k=5):\n",
    "    # Encode dev queries\n",
    "    query_embeddings = model.encode(dev_df['tweet_text'].tolist(), show_progress_bar=True, convert_to_tensor=True)\n",
    "    # Encode papers\n",
    "    paper_embeddings = model.encode(papers_df['text'].tolist(), show_progress_bar=True, convert_to_tensor=True)\n",
    "    # Compute similarity\n",
    "    paper_norm = torch.nn.functional.normalize(paper_embeddings, p=2, dim=1)\n",
    "    paper_ids = papers_df['cord_uid'].tolist()\n",
    "    predictions = []\n",
    "    for query_emb in query_embeddings:\n",
    "        query_norm = torch.nn.functional.normalize(query_emb.unsqueeze(0), p=2, dim=1)\n",
    "        similarity = torch.matmul(query_norm, paper_norm.T).squeeze()\n",
    "        top_indices = torch.topk(similarity, k=min(top_k, len(paper_norm))).indices.tolist()\n",
    "        preds = [paper_ids[i] for i in top_indices]\n",
    "        predictions.append(preds)\n",
    "    # Calculate MRR\n",
    "    scores = []\n",
    "    for i, row in dev_df.iterrows():\n",
    "        gold = row['cord_uid']\n",
    "        preds = predictions[i]\n",
    "        if gold in preds:\n",
    "            rank = preds.index(gold) + 1\n",
    "            scores.append(1.0 / rank)\n",
    "        else:\n",
    "            scores.append(0.0)\n",
    "    return np.mean(scores) if scores else 0.0"
   ]
  },
  {
   "cell_type": "code",
   "execution_count": null,
   "metadata": {},
   "outputs": [],
   "source": [
    "results = []\n",
    "for strategy_name, samples in train_samples.items():\n",
    "    print(f'Training {model_name} with {strategy_name} augmentation')\n",
    "    model = SentenceTransformer(model_name)\n",
    "    train_dataloader = DataLoader(samples, shuffle=True, batch_size=batch_size)\n",
    "    train_loss = losses.MultipleNegativesRankingLoss(model)\n",
    "    \n",
    "    model.fit(\n",
    "        train_objectives=[(train_dataloader, train_loss)],\n",
    "        epochs=epochs,\n",
    "        warmup_steps=warmup_steps,\n",
    "        show_progress_bar=True,\n",
    "        optimizer_params={'lr': learning_rate}\n",
    "    )\n",
    "    \n",
    "    mrr = evaluate_mrr(model, dev_df, papers_df, top_k=5)\n",
    "    results.append({\n",
    "        'model': model_name,\n",
    "        'augmentation_strategy': strategy_name,\n",
    "        'learning_rate': learning_rate,\n",
    "        'batch_size': batch_size,\n",
    "        'epochs': epochs,\n",
    "        'warmup_steps': warmup_steps,\n",
    "        'dev_mrr': mrr\n",
    "    })\n",
    "    print(f'Result: MRR={mrr}')"
   ]
  },
  {
   "cell_type": "markdown",
   "metadata": {},
   "source": [
    "## Save Results\n",
    "\n",
    "Save the results to a CSV file for later analysis."
   ]
  },
  {
   "cell_type": "code",
   "execution_count": null,
   "metadata": {},
   "outputs": [],
   "source": [
    "pd.DataFrame(results).to_csv('hyperparam_results_4.csv', index=False)\n",
    "print('Results saved to hyperparam_results_4.csv')"
   ]
  }
 ],
 "metadata": {
  "kernelspec": {
   "display_name": "sbert-env",
   "language": "python",
   "name": "python3"
  },
  "language_info": {
   "name": "python",
   "version": "3.10.16"
  }
 },
 "nbformat": 4,
 "nbformat_minor": 2
}
