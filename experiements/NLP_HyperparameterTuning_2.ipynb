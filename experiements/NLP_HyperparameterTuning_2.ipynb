{
 "cells": [
  {
   "cell_type": "markdown",
   "metadata": {},
   "source": [
    "# SBERT Hyperparameter Tuning Experiment 2\n",
    "\n",
    "**Experiment focus:** Tuning epochs and warmup steps for SBERT fine-tuning.\n",
    "\n",
    "This notebook explores the effect of different epochs and warmup steps on SBERT performance for scientific claim source retrieval."
   ]
  },
  {
   "cell_type": "code",
   "execution_count": 1,
   "metadata": {},
   "outputs": [
    {
     "name": "stderr",
     "output_type": "stream",
     "text": [
      "/opt/anaconda3/envs/sbert-env/lib/python3.10/site-packages/tqdm/auto.py:21: TqdmWarning: IProgress not found. Please update jupyter and ipywidgets. See https://ipywidgets.readthedocs.io/en/stable/user_install.html\n",
      "  from .autonotebook import tqdm as notebook_tqdm\n"
     ]
    }
   ],
   "source": [
    "import pandas as pd\n",
    "import pickle\n",
    "from sentence_transformers import SentenceTransformer, InputExample, losses\n",
    "from torch.utils.data import DataLoader\n",
    "import torch\n",
    "import numpy as np"
   ]
  },
  {
   "cell_type": "markdown",
   "metadata": {
    "vscode": {
     "languageId": "plaintext"
    }
   },
   "source": [
    "## Data Loading\n",
    "\n",
    "Load the train and dev datasets, and prepare InputExample objects for SBERT."
   ]
  },
  {
   "cell_type": "code",
   "execution_count": null,
   "metadata": {},
   "outputs": [],
   "source": [
    "# Load train and dev data\n",
    "train_df = pd.read_csv('../subtask4b_query_tweets_train.tsv', sep='\\t', names=['post_id', 'tweet_text', 'cord_uid'])\n",
    "dev_df = pd.read_csv('../subtask4b_query_tweets_dev.tsv', sep='\\t', names=['post_id', 'tweet_text', 'cord_uid'])\n",
    "with open('../subtask4b_collection_data.pkl', 'rb') as f:\n",
    "    papers_df = pickle.load(f)\n",
    "papers_df['text'] = papers_df['title'] + '. ' + papers_df['abstract']\n",
    "paper_dict = dict(zip(papers_df['cord_uid'], papers_df['text']))\n",
    "\n",
    "# Prepare training examples\n",
    "train_samples = []\n",
    "for _, row in train_df.iterrows():\n",
    "    if row['cord_uid'] in paper_dict:\n",
    "        tweet = row['tweet_text']\n",
    "        paper = paper_dict[row['cord_uid']]\n",
    "        train_samples.append(InputExample(texts=[tweet, paper]))\n",
    "\n",
    "# Prepare dev examples\n",
    "dev_samples = []\n",
    "for _, row in dev_df.iterrows():\n",
    "    if row['cord_uid'] in paper_dict:\n",
    "        tweet = row['tweet_text']\n",
    "        paper = paper_dict[row['cord_uid']]\n",
    "        dev_samples.append(InputExample(texts=[tweet, paper]))"
   ]
  },
  {
   "cell_type": "markdown",
   "metadata": {},
   "source": [
    "## Hyperparameter Grid\n",
    "\n",
    "Define the epochs and warmup steps to try."
   ]
  },
  {
   "cell_type": "code",
   "execution_count": null,
   "metadata": {},
   "outputs": [],
   "source": [
    "epochs_list = [2, 5, 8]\n",
    "warmup_steps_list = [50, 90, 120]\n",
    "learning_rate = 2e-5  # Fixed for this experiment\n",
    "batch_size = 16       # Fixed for this experiment\n",
    "model_name = 'multi-qa-mpnet-base-cos-v1'"
   ]
  },
  {
   "cell_type": "markdown",
   "metadata": {},
   "source": [
    "## Training and Evaluation Loop\n",
    "\n",
    "For each combination, fine-tune SBERT and evaluate on the dev set."
   ]
  },
  {
   "cell_type": "code",
   "execution_count": null,
   "metadata": {},
   "outputs": [],
   "source": [
    "def evaluate_mrr(model, dev_df, papers_df, top_k=5):\n",
    "    # Encode dev queries\n",
    "    query_embeddings = model.encode(dev_df['tweet_text'].tolist(), show_progress_bar=True, convert_to_tensor=True)\n",
    "    # Encode papers\n",
    "    paper_embeddings = model.encode(papers_df['text'].tolist(), show_progress_bar=True, convert_to_tensor=True)\n",
    "    # Compute similarity\n",
    "    paper_norm = torch.nn.functional.normalize(paper_embeddings, p=2, dim=1)\n",
    "    paper_ids = papers_df['cord_uid'].tolist()\n",
    "    predictions = []\n",
    "    for query_emb in query_embeddings:\n",
    "        query_norm = torch.nn.functional.normalize(query_emb.unsqueeze(0), p=2, dim=1)\n",
    "        similarity = torch.matmul(query_norm, paper_norm.T).squeeze()\n",
    "        top_indices = torch.topk(similarity, k=min(top_k, len(paper_norm))).indices.tolist()\n",
    "        preds = [paper_ids[i] for i in top_indices]\n",
    "        predictions.append(preds)\n",
    "    # Calculate MRR\n",
    "    scores = []\n",
    "    for i, row in dev_df.iterrows():\n",
    "        gold = row['cord_uid']\n",
    "        preds = predictions[i]\n",
    "        if gold in preds:\n",
    "            rank = preds.index(gold) + 1\n",
    "            scores.append(1.0 / rank)\n",
    "        else:\n",
    "            scores.append(0.0)\n",
    "    return np.mean(scores) if scores else 0.0"
   ]
  },
  {
   "cell_type": "code",
   "execution_count": null,
   "metadata": {},
   "outputs": [],
   "source": [
    "results = []\n",
    "for epochs in epochs_list:\n",
    "    for warmup_steps in warmup_steps_list:\n",
    "        print(f'Training {model_name} | epochs={epochs} | warmup={warmup_steps}')\n",
    "        model = SentenceTransformer(model_name)\n",
    "        train_dataloader = DataLoader(train_samples, shuffle=True, batch_size=batch_size)\n",
    "        train_loss = losses.MultipleNegativesRankingLoss(model)\n",
    "        model.fit(\n",
    "            train_objectives=[(train_dataloader, train_loss)],\n",
    "            epochs=epochs,\n",
    "            warmup_steps=warmup_steps,\n",
    "            show_progress_bar=True,\n",
    "            optimizer_params={'lr': learning_rate}\n",
    "        )\n",
    "        mrr = evaluate_mrr(model, dev_df, papers_df, top_k=5)\n",
    "        results.append({\n",
    "            'model': model_name,\n",
    "            'epochs': epochs,\n",
    "            'warmup_steps': warmup_steps,\n",
    "            'learning_rate': learning_rate,\n",
    "            'batch_size': batch_size,\n",
    "            'dev_mrr': mrr\n",
    "        })\n",
    "        print(f'Result: MRR={mrr}')"
   ]
  },
  {
   "cell_type": "markdown",
   "metadata": {},
   "source": [
    "## Save Results\n",
    "\n",
    "Save the results to a CSV file for later analysis."
   ]
  },
  {
   "cell_type": "code",
   "execution_count": null,
   "metadata": {},
   "outputs": [],
   "source": [
    "pd.DataFrame(results).to_csv('hyperparam_results_2.csv', index=False)\n",
    "print('Results saved to hyperparam_results_2.csv')"
   ]
  }
 ],
 "metadata": {
  "kernelspec": {
   "display_name": "sbert-env",
   "language": "python",
   "name": "python3"
  },
  "language_info": {
   "codemirror_mode": {
    "name": "ipython",
    "version": 3
   },
   "file_extension": ".py",
   "mimetype": "text/x-python",
   "name": "python",
   "nbconvert_exporter": "python",
   "pygments_lexer": "ipython3",
   "version": "3.10.16"
  }
 },
 "nbformat": 4,
 "nbformat_minor": 2
}
