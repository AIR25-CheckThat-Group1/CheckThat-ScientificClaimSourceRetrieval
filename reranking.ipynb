{
 "cells": [
  {
   "cell_type": "code",
   "execution_count": 1,
   "id": "58e2003b",
   "metadata": {},
   "outputs": [
    {
     "name": "stderr",
     "output_type": "stream",
     "text": [
      "/home/vscode/.local/lib/python3.12/site-packages/tqdm/auto.py:21: TqdmWarning: IProgress not found. Please update jupyter and ipywidgets. See https://ipywidgets.readthedocs.io/en/stable/user_install.html\n",
      "  from .autonotebook import tqdm as notebook_tqdm\n"
     ]
    }
   ],
   "source": [
    "import pandas as pd\n",
    "import bm25s\n",
    "from pathlib import Path\n",
    "import torch\n",
    "from transformers import AutoModelForSequenceClassification, AutoTokenizer\n",
    "from tqdm import tqdm\n",
    "from mxbai_rerank import MxbaiRerankV2"
   ]
  },
  {
   "cell_type": "code",
   "execution_count": 2,
   "id": "d91b9f90",
   "metadata": {},
   "outputs": [
    {
     "data": {
      "text/plain": [
       "'NVIDIA GeForce RTX 2070'"
      ]
     },
     "execution_count": 2,
     "metadata": {},
     "output_type": "execute_result"
    }
   ],
   "source": [
    "torch.cuda.get_device_name(0)"
   ]
  },
  {
   "cell_type": "code",
   "execution_count": 3,
   "id": "28ddfe89",
   "metadata": {},
   "outputs": [],
   "source": [
    "data_path = Path('data/')\n",
    "\n",
    "collection_data_path = data_path / 'subtask4b_collection_data.pkl' \n",
    "query_dev_data_path = data_path / 'subtask4b_query_tweets_dev.tsv'\n",
    "query_train_data_path = data_path / 'subtask4b_query_tweets_train.tsv'"
   ]
  },
  {
   "cell_type": "code",
   "execution_count": 4,
   "id": "6cfb2779",
   "metadata": {},
   "outputs": [
    {
     "data": {
      "text/html": [
       "<div>\n",
       "<style scoped>\n",
       "    .dataframe tbody tr th:only-of-type {\n",
       "        vertical-align: middle;\n",
       "    }\n",
       "\n",
       "    .dataframe tbody tr th {\n",
       "        vertical-align: top;\n",
       "    }\n",
       "\n",
       "    .dataframe thead th {\n",
       "        text-align: right;\n",
       "    }\n",
       "</style>\n",
       "<table border=\"1\" class=\"dataframe\">\n",
       "  <thead>\n",
       "    <tr style=\"text-align: right;\">\n",
       "      <th></th>\n",
       "      <th>cord_uid</th>\n",
       "      <th>source_x</th>\n",
       "      <th>title</th>\n",
       "      <th>doi</th>\n",
       "      <th>pmcid</th>\n",
       "      <th>pubmed_id</th>\n",
       "      <th>license</th>\n",
       "      <th>abstract</th>\n",
       "      <th>publish_time</th>\n",
       "      <th>authors</th>\n",
       "      <th>journal</th>\n",
       "      <th>mag_id</th>\n",
       "      <th>who_covidence_id</th>\n",
       "      <th>arxiv_id</th>\n",
       "      <th>label</th>\n",
       "      <th>time</th>\n",
       "      <th>timet</th>\n",
       "    </tr>\n",
       "  </thead>\n",
       "  <tbody>\n",
       "    <tr>\n",
       "      <th>162</th>\n",
       "      <td>umvrwgaw</td>\n",
       "      <td>PMC</td>\n",
       "      <td>Professional and Home-Made Face Masks Reduce E...</td>\n",
       "      <td>10.1371/journal.pone.0002618</td>\n",
       "      <td>PMC2440799</td>\n",
       "      <td>18612429</td>\n",
       "      <td>cc-by</td>\n",
       "      <td>BACKGROUND: Governments are preparing for a po...</td>\n",
       "      <td>2008-07-09</td>\n",
       "      <td>van der Sande, Marianne; Teunis, Peter; Sabel,...</td>\n",
       "      <td>PLoS One</td>\n",
       "      <td>NaN</td>\n",
       "      <td>NaN</td>\n",
       "      <td>NaN</td>\n",
       "      <td>umvrwgaw</td>\n",
       "      <td>2008-07-09</td>\n",
       "      <td>1215561600</td>\n",
       "    </tr>\n",
       "    <tr>\n",
       "      <th>611</th>\n",
       "      <td>spiud6ok</td>\n",
       "      <td>PMC</td>\n",
       "      <td>The Failure of R (0)</td>\n",
       "      <td>10.1155/2011/527610</td>\n",
       "      <td>PMC3157160</td>\n",
       "      <td>21860658</td>\n",
       "      <td>cc-by</td>\n",
       "      <td>The basic reproductive ratio, R (0), is one of...</td>\n",
       "      <td>2011-08-16</td>\n",
       "      <td>Li, Jing; Blakeley, Daniel; Smith?, Robert J.</td>\n",
       "      <td>Comput Math Methods Med</td>\n",
       "      <td>NaN</td>\n",
       "      <td>NaN</td>\n",
       "      <td>NaN</td>\n",
       "      <td>spiud6ok</td>\n",
       "      <td>2011-08-16</td>\n",
       "      <td>1313452800</td>\n",
       "    </tr>\n",
       "    <tr>\n",
       "      <th>918</th>\n",
       "      <td>aclzp3iy</td>\n",
       "      <td>PMC</td>\n",
       "      <td>Pulmonary sequelae in a patient recovered from...</td>\n",
       "      <td>10.4103/0970-2113.99118</td>\n",
       "      <td>PMC3424870</td>\n",
       "      <td>22919170</td>\n",
       "      <td>cc-by-nc-sa</td>\n",
       "      <td>The pandemic of swine flu (H1N1) influenza spr...</td>\n",
       "      <td>2012</td>\n",
       "      <td>Singh, Virendra; Sharma, Bharat Bhushan; Patel...</td>\n",
       "      <td>Lung India</td>\n",
       "      <td>NaN</td>\n",
       "      <td>NaN</td>\n",
       "      <td>NaN</td>\n",
       "      <td>aclzp3iy</td>\n",
       "      <td>2012-01-01</td>\n",
       "      <td>1325376000</td>\n",
       "    </tr>\n",
       "    <tr>\n",
       "      <th>993</th>\n",
       "      <td>ycxyn2a2</td>\n",
       "      <td>PMC</td>\n",
       "      <td>What was the primary mode of smallpox transmis...</td>\n",
       "      <td>10.3389/fcimb.2012.00150</td>\n",
       "      <td>PMC3509329</td>\n",
       "      <td>23226686</td>\n",
       "      <td>cc-by</td>\n",
       "      <td>The mode of infection transmission has profoun...</td>\n",
       "      <td>2012-11-29</td>\n",
       "      <td>Milton, Donald K.</td>\n",
       "      <td>Front Cell Infect Microbiol</td>\n",
       "      <td>NaN</td>\n",
       "      <td>NaN</td>\n",
       "      <td>NaN</td>\n",
       "      <td>ycxyn2a2</td>\n",
       "      <td>2012-11-29</td>\n",
       "      <td>1354147200</td>\n",
       "    </tr>\n",
       "    <tr>\n",
       "      <th>1053</th>\n",
       "      <td>zxe95qy9</td>\n",
       "      <td>PMC</td>\n",
       "      <td>Lessons from the History of Quarantine, from P...</td>\n",
       "      <td>10.3201/eid1902.120312</td>\n",
       "      <td>PMC3559034</td>\n",
       "      <td>23343512</td>\n",
       "      <td>no-cc</td>\n",
       "      <td>In the new millennium, the centuries-old strat...</td>\n",
       "      <td>2013-02-03</td>\n",
       "      <td>Tognotti, Eugenia</td>\n",
       "      <td>Emerg Infect Dis</td>\n",
       "      <td>NaN</td>\n",
       "      <td>NaN</td>\n",
       "      <td>NaN</td>\n",
       "      <td>zxe95qy9</td>\n",
       "      <td>2013-02-03</td>\n",
       "      <td>1359849600</td>\n",
       "    </tr>\n",
       "  </tbody>\n",
       "</table>\n",
       "</div>"
      ],
      "text/plain": [
       "      cord_uid source_x                                              title  \\\n",
       "162   umvrwgaw      PMC  Professional and Home-Made Face Masks Reduce E...   \n",
       "611   spiud6ok      PMC                               The Failure of R (0)   \n",
       "918   aclzp3iy      PMC  Pulmonary sequelae in a patient recovered from...   \n",
       "993   ycxyn2a2      PMC  What was the primary mode of smallpox transmis...   \n",
       "1053  zxe95qy9      PMC  Lessons from the History of Quarantine, from P...   \n",
       "\n",
       "                               doi       pmcid pubmed_id      license  \\\n",
       "162   10.1371/journal.pone.0002618  PMC2440799  18612429        cc-by   \n",
       "611            10.1155/2011/527610  PMC3157160  21860658        cc-by   \n",
       "918        10.4103/0970-2113.99118  PMC3424870  22919170  cc-by-nc-sa   \n",
       "993       10.3389/fcimb.2012.00150  PMC3509329  23226686        cc-by   \n",
       "1053        10.3201/eid1902.120312  PMC3559034  23343512        no-cc   \n",
       "\n",
       "                                               abstract publish_time  \\\n",
       "162   BACKGROUND: Governments are preparing for a po...   2008-07-09   \n",
       "611   The basic reproductive ratio, R (0), is one of...   2011-08-16   \n",
       "918   The pandemic of swine flu (H1N1) influenza spr...         2012   \n",
       "993   The mode of infection transmission has profoun...   2012-11-29   \n",
       "1053  In the new millennium, the centuries-old strat...   2013-02-03   \n",
       "\n",
       "                                                authors  \\\n",
       "162   van der Sande, Marianne; Teunis, Peter; Sabel,...   \n",
       "611       Li, Jing; Blakeley, Daniel; Smith?, Robert J.   \n",
       "918   Singh, Virendra; Sharma, Bharat Bhushan; Patel...   \n",
       "993                                   Milton, Donald K.   \n",
       "1053                                  Tognotti, Eugenia   \n",
       "\n",
       "                          journal  mag_id who_covidence_id arxiv_id     label  \\\n",
       "162                      PLoS One     NaN              NaN      NaN  umvrwgaw   \n",
       "611       Comput Math Methods Med     NaN              NaN      NaN  spiud6ok   \n",
       "918                    Lung India     NaN              NaN      NaN  aclzp3iy   \n",
       "993   Front Cell Infect Microbiol     NaN              NaN      NaN  ycxyn2a2   \n",
       "1053             Emerg Infect Dis     NaN              NaN      NaN  zxe95qy9   \n",
       "\n",
       "           time       timet  \n",
       "162  2008-07-09  1215561600  \n",
       "611  2011-08-16  1313452800  \n",
       "918  2012-01-01  1325376000  \n",
       "993  2012-11-29  1354147200  \n",
       "1053 2013-02-03  1359849600  "
      ]
     },
     "execution_count": 4,
     "metadata": {},
     "output_type": "execute_result"
    }
   ],
   "source": [
    "df_collection = pd.read_pickle(collection_data_path)\n",
    "df_collection.head(5)"
   ]
  },
  {
   "cell_type": "code",
   "execution_count": 5,
   "id": "02fe1d0f",
   "metadata": {},
   "outputs": [
    {
     "data": {
      "text/html": [
       "<div>\n",
       "<style scoped>\n",
       "    .dataframe tbody tr th:only-of-type {\n",
       "        vertical-align: middle;\n",
       "    }\n",
       "\n",
       "    .dataframe tbody tr th {\n",
       "        vertical-align: top;\n",
       "    }\n",
       "\n",
       "    .dataframe thead th {\n",
       "        text-align: right;\n",
       "    }\n",
       "</style>\n",
       "<table border=\"1\" class=\"dataframe\">\n",
       "  <thead>\n",
       "    <tr style=\"text-align: right;\">\n",
       "      <th></th>\n",
       "      <th>post_id</th>\n",
       "      <th>tweet_text</th>\n",
       "      <th>cord_uid</th>\n",
       "    </tr>\n",
       "  </thead>\n",
       "  <tbody>\n",
       "    <tr>\n",
       "      <th>0</th>\n",
       "      <td>16</td>\n",
       "      <td>covid recovery: this study from the usa reveal...</td>\n",
       "      <td>3qvh482o</td>\n",
       "    </tr>\n",
       "    <tr>\n",
       "      <th>1</th>\n",
       "      <td>69</td>\n",
       "      <td>\"Among 139 clients exposed to two symptomatic ...</td>\n",
       "      <td>r58aohnu</td>\n",
       "    </tr>\n",
       "    <tr>\n",
       "      <th>2</th>\n",
       "      <td>73</td>\n",
       "      <td>I recall early on reading that researchers who...</td>\n",
       "      <td>sts48u9i</td>\n",
       "    </tr>\n",
       "    <tr>\n",
       "      <th>3</th>\n",
       "      <td>93</td>\n",
       "      <td>You know you're credible when NIH website has ...</td>\n",
       "      <td>3sr2exq9</td>\n",
       "    </tr>\n",
       "    <tr>\n",
       "      <th>4</th>\n",
       "      <td>96</td>\n",
       "      <td>Resistance to antifungal medications is a grow...</td>\n",
       "      <td>ybwwmyqy</td>\n",
       "    </tr>\n",
       "    <tr>\n",
       "      <th>...</th>\n",
       "      <td>...</td>\n",
       "      <td>...</td>\n",
       "      <td>...</td>\n",
       "    </tr>\n",
       "    <tr>\n",
       "      <th>1395</th>\n",
       "      <td>14193</td>\n",
       "      <td>Residents at high risk of covid-19: effectiven...</td>\n",
       "      <td>0gn3b98n</td>\n",
       "    </tr>\n",
       "    <tr>\n",
       "      <th>1396</th>\n",
       "      <td>14196</td>\n",
       "      <td>61% of teenagers hospitalized for covid were \"...</td>\n",
       "      <td>25bdifv6</td>\n",
       "    </tr>\n",
       "    <tr>\n",
       "      <th>1397</th>\n",
       "      <td>14203</td>\n",
       "      <td>\"fresh evidence backing melatonin against covi...</td>\n",
       "      <td>qn6wawxk</td>\n",
       "    </tr>\n",
       "    <tr>\n",
       "      <th>1398</th>\n",
       "      <td>14233</td>\n",
       "      <td>the vaccine doesn't halt the spread, it is pro...</td>\n",
       "      <td>3u3i5myh</td>\n",
       "    </tr>\n",
       "    <tr>\n",
       "      <th>1399</th>\n",
       "      <td>14236</td>\n",
       "      <td>\"Great commentary from K. Carvalho,  black pre...</td>\n",
       "      <td>nih4l4ok</td>\n",
       "    </tr>\n",
       "  </tbody>\n",
       "</table>\n",
       "<p>1400 rows × 3 columns</p>\n",
       "</div>"
      ],
      "text/plain": [
       "      post_id                                         tweet_text  cord_uid\n",
       "0          16  covid recovery: this study from the usa reveal...  3qvh482o\n",
       "1          69  \"Among 139 clients exposed to two symptomatic ...  r58aohnu\n",
       "2          73  I recall early on reading that researchers who...  sts48u9i\n",
       "3          93  You know you're credible when NIH website has ...  3sr2exq9\n",
       "4          96  Resistance to antifungal medications is a grow...  ybwwmyqy\n",
       "...       ...                                                ...       ...\n",
       "1395    14193  Residents at high risk of covid-19: effectiven...  0gn3b98n\n",
       "1396    14196  61% of teenagers hospitalized for covid were \"...  25bdifv6\n",
       "1397    14203  \"fresh evidence backing melatonin against covi...  qn6wawxk\n",
       "1398    14233  the vaccine doesn't halt the spread, it is pro...  3u3i5myh\n",
       "1399    14236  \"Great commentary from K. Carvalho,  black pre...  nih4l4ok\n",
       "\n",
       "[1400 rows x 3 columns]"
      ]
     },
     "metadata": {},
     "output_type": "display_data"
    },
    {
     "data": {
      "text/html": [
       "<div>\n",
       "<style scoped>\n",
       "    .dataframe tbody tr th:only-of-type {\n",
       "        vertical-align: middle;\n",
       "    }\n",
       "\n",
       "    .dataframe tbody tr th {\n",
       "        vertical-align: top;\n",
       "    }\n",
       "\n",
       "    .dataframe thead th {\n",
       "        text-align: right;\n",
       "    }\n",
       "</style>\n",
       "<table border=\"1\" class=\"dataframe\">\n",
       "  <thead>\n",
       "    <tr style=\"text-align: right;\">\n",
       "      <th></th>\n",
       "      <th>post_id</th>\n",
       "      <th>tweet_text</th>\n",
       "      <th>cord_uid</th>\n",
       "    </tr>\n",
       "  </thead>\n",
       "  <tbody>\n",
       "    <tr>\n",
       "      <th>0</th>\n",
       "      <td>0</td>\n",
       "      <td>Oral care in rehabilitation medicine: oral vul...</td>\n",
       "      <td>htlvpvz5</td>\n",
       "    </tr>\n",
       "    <tr>\n",
       "      <th>1</th>\n",
       "      <td>1</td>\n",
       "      <td>this study isn't receiving sufficient attentio...</td>\n",
       "      <td>4kfl29ul</td>\n",
       "    </tr>\n",
       "    <tr>\n",
       "      <th>2</th>\n",
       "      <td>2</td>\n",
       "      <td>thanks, xi jinping. a reminder that this study...</td>\n",
       "      <td>jtwb17u8</td>\n",
       "    </tr>\n",
       "    <tr>\n",
       "      <th>3</th>\n",
       "      <td>3</td>\n",
       "      <td>Taiwan - a population of 23 million has had ju...</td>\n",
       "      <td>0w9k8iy1</td>\n",
       "    </tr>\n",
       "    <tr>\n",
       "      <th>4</th>\n",
       "      <td>4</td>\n",
       "      <td>Obtaining a diagnosis of autism in lower incom...</td>\n",
       "      <td>tiqksd69</td>\n",
       "    </tr>\n",
       "    <tr>\n",
       "      <th>...</th>\n",
       "      <td>...</td>\n",
       "      <td>...</td>\n",
       "      <td>...</td>\n",
       "    </tr>\n",
       "    <tr>\n",
       "      <th>12848</th>\n",
       "      <td>14248</td>\n",
       "      <td>\"evidence on covid-19 reveals a growing body o...</td>\n",
       "      <td>9169o29b</td>\n",
       "    </tr>\n",
       "    <tr>\n",
       "      <th>12849</th>\n",
       "      <td>14249</td>\n",
       "      <td>Outdoor lighting has detrimental impacts on lo...</td>\n",
       "      <td>s2bpha8l</td>\n",
       "    </tr>\n",
       "    <tr>\n",
       "      <th>12850</th>\n",
       "      <td>14250</td>\n",
       "      <td>26/ and influenza virus (and other pathogens, ...</td>\n",
       "      <td>atloc9th</td>\n",
       "    </tr>\n",
       "    <tr>\n",
       "      <th>12851</th>\n",
       "      <td>14251</td>\n",
       "      <td>does it?'sars-cov-2-naïve vaccinees had a 13.0...</td>\n",
       "      <td>t4y1ylb3</td>\n",
       "    </tr>\n",
       "    <tr>\n",
       "      <th>12852</th>\n",
       "      <td>14252</td>\n",
       "      <td>when \"the airway immune cells of children are ...</td>\n",
       "      <td>nlsv8bin</td>\n",
       "    </tr>\n",
       "  </tbody>\n",
       "</table>\n",
       "<p>12853 rows × 3 columns</p>\n",
       "</div>"
      ],
      "text/plain": [
       "       post_id                                         tweet_text  cord_uid\n",
       "0            0  Oral care in rehabilitation medicine: oral vul...  htlvpvz5\n",
       "1            1  this study isn't receiving sufficient attentio...  4kfl29ul\n",
       "2            2  thanks, xi jinping. a reminder that this study...  jtwb17u8\n",
       "3            3  Taiwan - a population of 23 million has had ju...  0w9k8iy1\n",
       "4            4  Obtaining a diagnosis of autism in lower incom...  tiqksd69\n",
       "...        ...                                                ...       ...\n",
       "12848    14248  \"evidence on covid-19 reveals a growing body o...  9169o29b\n",
       "12849    14249  Outdoor lighting has detrimental impacts on lo...  s2bpha8l\n",
       "12850    14250  26/ and influenza virus (and other pathogens, ...  atloc9th\n",
       "12851    14251  does it?'sars-cov-2-naïve vaccinees had a 13.0...  t4y1ylb3\n",
       "12852    14252  when \"the airway immune cells of children are ...  nlsv8bin\n",
       "\n",
       "[12853 rows x 3 columns]"
      ]
     },
     "metadata": {},
     "output_type": "display_data"
    }
   ],
   "source": [
    "df_query_dev = pd.read_csv(query_dev_data_path, sep='\\t')\n",
    "df_query_train = pd.read_csv(query_train_data_path, sep='\\t')\n",
    "display(df_query_dev)\n",
    "display(df_query_train)"
   ]
  },
  {
   "cell_type": "code",
   "execution_count": 6,
   "id": "a720417a",
   "metadata": {},
   "outputs": [
    {
     "data": {
      "text/html": [
       "<div>\n",
       "<style scoped>\n",
       "    .dataframe tbody tr th:only-of-type {\n",
       "        vertical-align: middle;\n",
       "    }\n",
       "\n",
       "    .dataframe tbody tr th {\n",
       "        vertical-align: top;\n",
       "    }\n",
       "\n",
       "    .dataframe thead th {\n",
       "        text-align: right;\n",
       "    }\n",
       "</style>\n",
       "<table border=\"1\" class=\"dataframe\">\n",
       "  <thead>\n",
       "    <tr style=\"text-align: right;\">\n",
       "      <th></th>\n",
       "      <th>post_id</th>\n",
       "      <th>tweet_text</th>\n",
       "      <th>cord_uid</th>\n",
       "    </tr>\n",
       "  </thead>\n",
       "  <tbody>\n",
       "    <tr>\n",
       "      <th>0</th>\n",
       "      <td>16</td>\n",
       "      <td>covid recovery: this study from the usa reveal...</td>\n",
       "      <td>3qvh482o</td>\n",
       "    </tr>\n",
       "    <tr>\n",
       "      <th>1</th>\n",
       "      <td>69</td>\n",
       "      <td>\"Among 139 clients exposed to two symptomatic ...</td>\n",
       "      <td>r58aohnu</td>\n",
       "    </tr>\n",
       "    <tr>\n",
       "      <th>2</th>\n",
       "      <td>73</td>\n",
       "      <td>I recall early on reading that researchers who...</td>\n",
       "      <td>sts48u9i</td>\n",
       "    </tr>\n",
       "    <tr>\n",
       "      <th>3</th>\n",
       "      <td>93</td>\n",
       "      <td>You know you're credible when NIH website has ...</td>\n",
       "      <td>3sr2exq9</td>\n",
       "    </tr>\n",
       "    <tr>\n",
       "      <th>4</th>\n",
       "      <td>96</td>\n",
       "      <td>Resistance to antifungal medications is a grow...</td>\n",
       "      <td>ybwwmyqy</td>\n",
       "    </tr>\n",
       "    <tr>\n",
       "      <th>...</th>\n",
       "      <td>...</td>\n",
       "      <td>...</td>\n",
       "      <td>...</td>\n",
       "    </tr>\n",
       "    <tr>\n",
       "      <th>14248</th>\n",
       "      <td>14248</td>\n",
       "      <td>\"evidence on covid-19 reveals a growing body o...</td>\n",
       "      <td>9169o29b</td>\n",
       "    </tr>\n",
       "    <tr>\n",
       "      <th>14249</th>\n",
       "      <td>14249</td>\n",
       "      <td>Outdoor lighting has detrimental impacts on lo...</td>\n",
       "      <td>s2bpha8l</td>\n",
       "    </tr>\n",
       "    <tr>\n",
       "      <th>14250</th>\n",
       "      <td>14250</td>\n",
       "      <td>26/ and influenza virus (and other pathogens, ...</td>\n",
       "      <td>atloc9th</td>\n",
       "    </tr>\n",
       "    <tr>\n",
       "      <th>14251</th>\n",
       "      <td>14251</td>\n",
       "      <td>does it?'sars-cov-2-naïve vaccinees had a 13.0...</td>\n",
       "      <td>t4y1ylb3</td>\n",
       "    </tr>\n",
       "    <tr>\n",
       "      <th>14252</th>\n",
       "      <td>14252</td>\n",
       "      <td>when \"the airway immune cells of children are ...</td>\n",
       "      <td>nlsv8bin</td>\n",
       "    </tr>\n",
       "  </tbody>\n",
       "</table>\n",
       "<p>14253 rows × 3 columns</p>\n",
       "</div>"
      ],
      "text/plain": [
       "       post_id                                         tweet_text  cord_uid\n",
       "0           16  covid recovery: this study from the usa reveal...  3qvh482o\n",
       "1           69  \"Among 139 clients exposed to two symptomatic ...  r58aohnu\n",
       "2           73  I recall early on reading that researchers who...  sts48u9i\n",
       "3           93  You know you're credible when NIH website has ...  3sr2exq9\n",
       "4           96  Resistance to antifungal medications is a grow...  ybwwmyqy\n",
       "...        ...                                                ...       ...\n",
       "14248    14248  \"evidence on covid-19 reveals a growing body o...  9169o29b\n",
       "14249    14249  Outdoor lighting has detrimental impacts on lo...  s2bpha8l\n",
       "14250    14250  26/ and influenza virus (and other pathogens, ...  atloc9th\n",
       "14251    14251  does it?'sars-cov-2-naïve vaccinees had a 13.0...  t4y1ylb3\n",
       "14252    14252  when \"the airway immune cells of children are ...  nlsv8bin\n",
       "\n",
       "[14253 rows x 3 columns]"
      ]
     },
     "execution_count": 6,
     "metadata": {},
     "output_type": "execute_result"
    }
   ],
   "source": [
    "df_query_combined = pd.concat([df_query_dev, df_query_train], ignore_index=True)\n",
    "df_query_combined"
   ]
  },
  {
   "cell_type": "code",
   "execution_count": 7,
   "id": "a66f44e6",
   "metadata": {},
   "outputs": [],
   "source": [
    "df_collection['last_names'] = df_collection['authors'].str.split(';').apply(\n",
    "    lambda authors: [author.split(',')[0].strip() for author in authors] if isinstance(authors, list) else authors\n",
    ")\n",
    "df_collection['last_names'] = df_collection['last_names'].apply(\n",
    "    lambda x: '; '.join(x) if isinstance(x, list) else x\n",
    ")\n",
    "df_collection['publish_year'] = df_collection['publish_time'].str.split('-').str[0]"
   ]
  },
  {
   "cell_type": "code",
   "execution_count": 8,
   "id": "10c6aa4f",
   "metadata": {},
   "outputs": [],
   "source": [
    "def initialize_bm25(corpus: list[str], cord_uids:list[str], k1=1.5, b=0.75, method='lucene', stemmer=None):\n",
    "    tokenized_corpus = bm25s.tokenize(corpus, stemmer=stemmer)\n",
    "    bm25 = bm25s.BM25(corpus=cord_uids, k1=k1, b=b, method=method)\n",
    "    bm25.index(tokenized_corpus)\n",
    "    return bm25"
   ]
  },
  {
   "cell_type": "code",
   "execution_count": 9,
   "id": "33950172",
   "metadata": {},
   "outputs": [],
   "source": [
    "def experiment_single_bm25(df_collection, df_query, k1=1.5, b=0.75, stemmer=None, k=10):\n",
    "    corpus = df_collection.apply(\n",
    "        lambda x: f\"{x['title']} {x['abstract']} {x['last_names']} {x['journal']} {x['publish_year']}\", axis=1\n",
    "    ).tolist()\n",
    "    bm25 = initialize_bm25(corpus, df_collection['cord_uid'].tolist(), k1, b, stemmer=stemmer)\n",
    "    tokenized_queries = bm25s.tokenize(df_query['tweet_text'], stemmer=stemmer)\n",
    "    doc_scores = bm25.retrieve(tokenized_queries, n_threads=-1, k=k)\n",
    "    df_query['bm25_topk'] = doc_scores.documents.tolist()\n",
    "    \n",
    "    return df_query"
   ]
  },
  {
   "cell_type": "code",
   "execution_count": 10,
   "id": "e1d4677d",
   "metadata": {},
   "outputs": [],
   "source": [
    "def get_performance_mrr(data, col_gold, col_pred, list_k = [1, 5, 10]):\n",
    "    d_performance = {}\n",
    "    for k in list_k:\n",
    "        data[\"in_topx\"] = data.apply(lambda x: (1/([i for i in x[col_pred][:k]].index(x[col_gold]) + 1) if x[col_gold] in [i for i in x[col_pred][:k]] else 0), axis=1)\n",
    "        d_performance[k] = data[\"in_topx\"].mean()\n",
    "        print(f\"{k = }\")\n",
    "        in_topx = data[\"in_topx\"] > 0\n",
    "        print(f\"Number of queries in top {k}: {in_topx.sum()}\")\n",
    "        print(f\"Number of queries not in top {k}: {len(data) - in_topx.sum()}\")\n",
    "    return d_performance"
   ]
  },
  {
   "cell_type": "code",
   "execution_count": 11,
   "id": "3a580058",
   "metadata": {},
   "outputs": [],
   "source": [
    "def evaluate_experiment(df_query_train, df_query_dev, experiment_name, list_k=[1, 5, 10]):\n",
    "    results = get_performance_mrr(df_query_train, 'cord_uid', 'bm25_topk', list_k)\n",
    "    print(f\"Results for {experiment_name}, train: {results}\")\n",
    "    results = get_performance_mrr(df_query_dev, 'cord_uid', 'bm25_topk', list_k)\n",
    "    print(f\"Results for {experiment_name}, dev: {results}\")\n",
    "    return results"
   ]
  },
  {
   "cell_type": "code",
   "execution_count": 12,
   "id": "0dfb72d0",
   "metadata": {},
   "outputs": [
    {
     "name": "stderr",
     "output_type": "stream",
     "text": [
      "                                                                            \r"
     ]
    },
    {
     "name": "stdout",
     "output_type": "stream",
     "text": [
      "k = 1\n",
      "Number of queries in top 1: 7542\n",
      "Number of queries not in top 1: 5311\n",
      "k = 5\n",
      "Number of queries in top 5: 9094\n",
      "Number of queries not in top 5: 3759\n",
      "k = 10\n",
      "Number of queries in top 10: 9630\n",
      "Number of queries not in top 10: 3223\n",
      "k = 100\n",
      "Number of queries in top 100: 11156\n",
      "Number of queries not in top 100: 1697\n",
      "k = 200\n",
      "Number of queries in top 200: 11512\n",
      "Number of queries not in top 200: 1341\n",
      "k = 500\n",
      "Number of queries in top 500: 11956\n",
      "Number of queries not in top 500: 897\n",
      "k = 700\n",
      "Number of queries in top 700: 12089\n",
      "Number of queries not in top 700: 764\n",
      "k = 1000\n",
      "Number of queries in top 1000: 12210\n",
      "Number of queries not in top 1000: 643\n",
      "k = 2000\n",
      "Number of queries in top 2000: 12210\n",
      "Number of queries not in top 2000: 643\n",
      "k = 5000\n",
      "Number of queries in top 5000: 12210\n",
      "Number of queries not in top 5000: 643\n",
      "Results for Single BM25 with all features, train: {1: 0.5867890764801992, 5: 0.6347999170102959, 10: 0.6403735648153294, 100: 0.6449850219400036, 200: 0.6451818481542875, 500: 0.6452949090641488, 700: 0.6453125327422509, 1000: 0.6453238189817004, 2000: 0.6453238189817004, 5000: 0.6453238189817004}\n",
      "k = 1\n",
      "Number of queries in top 1: 829\n",
      "Number of queries not in top 1: 571\n",
      "k = 5\n",
      "Number of queries in top 5: 1004\n",
      "Number of queries not in top 5: 396\n",
      "k = 10\n",
      "Number of queries in top 10: 1060\n",
      "Number of queries not in top 10: 340\n",
      "k = 100\n",
      "Number of queries in top 100: 1222\n",
      "Number of queries not in top 100: 178\n",
      "k = 200\n",
      "Number of queries in top 200: 1266\n",
      "Number of queries not in top 200: 134\n",
      "k = 500\n",
      "Number of queries in top 500: 1300\n",
      "Number of queries not in top 500: 100\n",
      "k = 700\n",
      "Number of queries in top 700: 1323\n",
      "Number of queries not in top 700: 77\n",
      "k = 1000\n",
      "Number of queries in top 1000: 1336\n",
      "Number of queries not in top 1000: 64\n",
      "k = 2000\n",
      "Number of queries in top 2000: 1336\n",
      "Number of queries not in top 2000: 64\n",
      "k = 5000\n",
      "Number of queries in top 5000: 1336\n",
      "Number of queries not in top 5000: 64\n",
      "Results for Single BM25 with all features, dev: {1: 0.5921428571428572, 5: 0.6397619047619048, 10: 0.6450986394557824, 100: 0.6495240324689373, 200: 0.6497567832248164, 500: 0.6498352020281756, 700: 0.6498638803520272, 1000: 0.6498750349577517, 2000: 0.6498750349577517, 5000: 0.6498750349577517}\n"
     ]
    },
    {
     "data": {
      "text/plain": [
       "{1: 0.5921428571428572,\n",
       " 5: 0.6397619047619048,\n",
       " 10: 0.6450986394557824,\n",
       " 100: 0.6495240324689373,\n",
       " 200: 0.6497567832248164,\n",
       " 500: 0.6498352020281756,\n",
       " 700: 0.6498638803520272,\n",
       " 1000: 0.6498750349577517,\n",
       " 2000: 0.6498750349577517,\n",
       " 5000: 0.6498750349577517}"
      ]
     },
     "execution_count": 12,
     "metadata": {},
     "output_type": "execute_result"
    }
   ],
   "source": [
    "\n",
    "stemmer = None\n",
    "df_query_train_single = experiment_single_bm25(df_collection, df_query_train, stemmer=stemmer, k=1000)\n",
    "df_query_dev_single = experiment_single_bm25(df_collection, df_query_dev, stemmer=stemmer, k=1000)\n",
    "evaluate_experiment(df_query_train_single, df_query_dev_single, \"Single BM25 with all features\", list_k=[1, 5, 10, 100, 200, 500, 700, 1000, 2000, 5000])"
   ]
  },
  {
   "cell_type": "markdown",
   "id": "975a0b66",
   "metadata": {},
   "source": [
    "We will use BM25 as a baseline ranking model. The experiment above shouws us that there is no improvement after the first 1k (doesnt matter whether we take top 1k or top 2k etc.) -> so for each query we will prefilter the documents with BM25 to the top 1k and then the reranker will take over."
   ]
  },
  {
   "cell_type": "code",
   "execution_count": 13,
   "id": "eefbf4c6",
   "metadata": {},
   "outputs": [],
   "source": [
    "def initialize_reranker(model_name, torch_dtype=torch.float16):\n",
    "    tokenizer = AutoTokenizer.from_pretrained(model_name)\n",
    "    model = AutoModelForSequenceClassification.from_pretrained(\n",
    "        model_name, trust_remote_code=True, torch_dtype=torch.float16\n",
    "    )\n",
    "    if torch.cuda.is_available():\n",
    "        print(\"Using GPU\")\n",
    "        model = model.to('cuda')\n",
    "    model.eval()\n",
    "    return tokenizer, model"
   ]
  },
  {
   "cell_type": "code",
   "execution_count": 14,
   "id": "25058bb3",
   "metadata": {},
   "outputs": [],
   "source": [
    "def rerank_with_alibaba(df_query, df_collection, tokenizer, model, k=10, max_length=512, batch_size=32):\n",
    "    reranked_results = []\n",
    "    reranked_scores = []\n",
    "    reranked_docs = []\n",
    "\n",
    "    for _, row in tqdm(df_query.iterrows(), total=len(df_query), desc=\"Reranking\"):\n",
    "        query_text = row['tweet_text']\n",
    "        topk_docs = row['bm25_topk'] \n",
    "\n",
    "        pairs = [\n",
    "            [\n",
    "                query_text, \n",
    "                df_collection.loc[df_collection['cord_uid'] == doc_id, 'title'].values[0] + \" \" + \n",
    "                df_collection.loc[df_collection['cord_uid'] == doc_id, 'abstract'].values[0] + \" \" +\n",
    "                str(df_collection.loc[df_collection['cord_uid'] == doc_id, 'journal'].values[0]) + \" \" +\n",
    "                str(df_collection.loc[df_collection['cord_uid'] == doc_id, 'last_names'].values[0]) \n",
    "            ]\n",
    "            for doc_id in topk_docs\n",
    "        ]\n",
    "        \n",
    "        batch_scores = []\n",
    "        batch_docs = []\n",
    "\n",
    "        for i in range(0, len(pairs), batch_size):\n",
    "            batch_pairs = pairs[i:i + batch_size]\n",
    "            with torch.no_grad():\n",
    "                inputs = tokenizer(batch_pairs, padding=True, truncation=True, return_tensors='pt', max_length=max_length)\n",
    "                if torch.cuda.is_available():\n",
    "                    inputs = {key: value.to('cuda') for key, value in inputs.items()}\n",
    "                scores = model(**inputs, return_dict=True).logits.view(-1).float()\n",
    "\n",
    "            batch_scores.extend(scores.tolist())\n",
    "            batch_docs.extend(topk_docs[i:i+batch_size])\n",
    "\n",
    "\n",
    "        reranked = sorted(zip(batch_docs, batch_scores), key=lambda x: x[1], reverse=True)\n",
    "        reranked_results.append([doc_id for doc_id, _ in reranked[:k]])\n",
    "        reranked_scores.append([score for _, score in reranked])\n",
    "        reranked_docs.append([doc_id for doc_id, _ in reranked])\n",
    "\n",
    "    df_query['reranked_topk'] = reranked_results\n",
    "    df_query['reranked_docs'] = reranked_docs\n",
    "    df_query['reranked_scores'] = reranked_scores\n",
    "    return df_query"
   ]
  },
  {
   "cell_type": "code",
   "execution_count": 15,
   "id": "e360937c",
   "metadata": {},
   "outputs": [],
   "source": [
    "def rerank_mxbai(df_query, df_collection, model_name, k=10, batch_size=1):\n",
    "    reranked_results = []    \n",
    "    reranked_scores = []\n",
    "\n",
    "    model = MxbaiRerankV2(model_name, torch_dtype=torch.float16)\n",
    "\n",
    "    for _, row in tqdm(df_query.iterrows(), total=len(df_query), desc=\"Reranking\"):\n",
    "        query_text = row['tweet_text']\n",
    "        topk_docs = row['bm25_topk']  # Get top-k BM25 results for the query\n",
    "\n",
    "        documents = [\n",
    "            [\n",
    "                df_collection.loc[df_collection['cord_uid'] == doc_id, 'title'].values[0] + \" \" + \n",
    "                df_collection.loc[df_collection['cord_uid'] == doc_id, 'abstract'].values[0] + \" \" +\n",
    "                str(df_collection.loc[df_collection['cord_uid'] == doc_id, 'journal'].values[0]) + \" \" +\n",
    "                str(df_collection.loc[df_collection['cord_uid'] == doc_id, 'last_names'].values[0]) \n",
    "            ]\n",
    "            for doc_id in topk_docs\n",
    "        ]\n",
    "\n",
    "        results = model.rank(query_text, documents, return_documents=True, top_k=k, batch_size=batch_size)\n",
    "        reranked = [topk_docs[result.index] for result in results]\n",
    "        reranked_score = [result.score for result in results]\n",
    "\n",
    "        reranked_results.append(reranked)\n",
    "        reranked_scores.append(reranked_score)\n",
    "\n",
    "    df_query['reranked_topk'] = reranked_results\n",
    "    df_query['reranked_docs'] = reranked_results\n",
    "    df_query['reranked_scores'] = reranked_scores\n",
    "    \n",
    "    return df_query"
   ]
  },
  {
   "cell_type": "code",
   "execution_count": 16,
   "id": "4f96d6aa",
   "metadata": {},
   "outputs": [],
   "source": [
    "def evaluate_reranked_results(df_query, col_gold='cord_uid', col_pred='reranked_topk', list_k=[1, 5, 10]):\n",
    "    return get_performance_mrr(df_query, col_gold, col_pred, list_k)"
   ]
  },
  {
   "cell_type": "markdown",
   "id": "0a0ec103",
   "metadata": {},
   "source": [
    "## Experiments"
   ]
  },
  {
   "cell_type": "code",
   "execution_count": 17,
   "id": "ee16e593",
   "metadata": {},
   "outputs": [
    {
     "name": "stderr",
     "output_type": "stream",
     "text": [
      "                                                                            \r"
     ]
    },
    {
     "name": "stdout",
     "output_type": "stream",
     "text": [
      "Using GPU\n"
     ]
    },
    {
     "name": "stderr",
     "output_type": "stream",
     "text": [
      "Reranking: 100%|██████████| 14253/14253 [2:04:03<00:00,  1.91it/s] \n"
     ]
    },
    {
     "name": "stdout",
     "output_type": "stream",
     "text": [
      "k = 1\n",
      "Number of queries in top 1: 9658\n",
      "Number of queries not in top 1: 4595\n",
      "k = 5\n",
      "Number of queries in top 5: 11240\n",
      "Number of queries not in top 5: 3013\n",
      "k = 10\n",
      "Number of queries in top 10: 11565\n",
      "Number of queries not in top 10: 2688\n",
      "Evaluation results: {1: np.float64(0.6776117308636779), 5: np.float64(0.7225660094950771), 10: np.float64(0.7256685030943082)}\n"
     ]
    }
   ],
   "source": [
    "df_query_single = experiment_single_bm25(df_collection, df_query_combined, stemmer=stemmer, k=50)\n",
    "model_name = \"Alibaba-NLP/gte-reranker-modernbert-base\"\n",
    "tokenizer, model = initialize_reranker(model_name)\n",
    "df_query = rerank_with_alibaba(df_query_single, df_collection, tokenizer, model, k=10, batch_size=100)\n",
    "df_query.to_parquet('data/reranked_results_alibaba.parquet')\n",
    "results = evaluate_reranked_results(df_query)\n",
    "print(f\"Evaluation results: {results}\")"
   ]
  },
  {
   "cell_type": "code",
   "execution_count": null,
   "id": "e3ed1b59",
   "metadata": {},
   "outputs": [
    {
     "name": "stderr",
     "output_type": "stream",
     "text": [
      "                                                                            \r"
     ]
    },
    {
     "name": "stdout",
     "output_type": "stream",
     "text": [
      "Using GPU\n"
     ]
    },
    {
     "name": "stderr",
     "output_type": "stream",
     "text": [
      "Reranking: 100%|██████████| 14253/14253 [1:49:21<00:00,  2.17it/s]\n"
     ]
    },
    {
     "name": "stdout",
     "output_type": "stream",
     "text": [
      "k = 1\n",
      "Number of queries in top 1: 9026\n",
      "Number of queries not in top 1: 5227\n",
      "k = 5\n",
      "Number of queries in top 5: 10949\n",
      "Number of queries not in top 5: 3304\n",
      "k = 10\n",
      "Number of queries in top 10: 11361\n",
      "Number of queries not in top 10: 2892\n",
      "Evaluation results: {1: np.float64(0.6332701887321968), 5: np.float64(0.6880668397296476), 10: np.float64(0.6920471490825101)}\n"
     ]
    }
   ],
   "source": [
    "df_query_dev_single = experiment_single_bm25(df_collection, df_query_combined, stemmer=stemmer, k=50)\n",
    "model_name = \"Alibaba-NLP/gte-multilingual-reranker-base\"\n",
    "tokenizer, model = initialize_reranker(model_name)\n",
    "df_query = rerank_with_alibaba(df_query_dev_single, df_collection, tokenizer, model, k=10, batch_size=100)\n",
    "df_query.to_parquet('data/reranked_results_alibaba_multilingual.parquet')\n",
    "results = evaluate_reranked_results(df_query)\n",
    "print(f\"Evaluation results: {results}\")"
   ]
  },
  {
   "cell_type": "code",
   "execution_count": 19,
   "id": "e7c75753",
   "metadata": {},
   "outputs": [
    {
     "name": "stderr",
     "output_type": "stream",
     "text": [
      "                                                                            \r"
     ]
    },
    {
     "data": {
      "text/html": [
       "<div>\n",
       "<style scoped>\n",
       "    .dataframe tbody tr th:only-of-type {\n",
       "        vertical-align: middle;\n",
       "    }\n",
       "\n",
       "    .dataframe tbody tr th {\n",
       "        vertical-align: top;\n",
       "    }\n",
       "\n",
       "    .dataframe thead th {\n",
       "        text-align: right;\n",
       "    }\n",
       "</style>\n",
       "<table border=\"1\" class=\"dataframe\">\n",
       "  <thead>\n",
       "    <tr style=\"text-align: right;\">\n",
       "      <th></th>\n",
       "      <th>post_id</th>\n",
       "      <th>tweet_text</th>\n",
       "      <th>cord_uid</th>\n",
       "      <th>bm25_topk</th>\n",
       "      <th>reranked_topk</th>\n",
       "      <th>reranked_docs</th>\n",
       "      <th>reranked_scores</th>\n",
       "      <th>in_topx</th>\n",
       "    </tr>\n",
       "  </thead>\n",
       "  <tbody>\n",
       "    <tr>\n",
       "      <th>0</th>\n",
       "      <td>16</td>\n",
       "      <td>covid recovery: this study from the usa reveal...</td>\n",
       "      <td>3qvh482o</td>\n",
       "      <td>[atji1xge, mb18fj8a, 66g5lpm6, 59up4v56, gatxu...</td>\n",
       "      <td>[hg3xpej0, 59up4v56, 82y56t7d, 86xwnpde, 8t2ti...</td>\n",
       "      <td>[hg3xpej0, 59up4v56, 82y56t7d, 86xwnpde, 8t2ti...</td>\n",
       "      <td>[1.2587890625, 0.71435546875, 0.4404296875, 0....</td>\n",
       "      <td>0.0</td>\n",
       "    </tr>\n",
       "    <tr>\n",
       "      <th>1</th>\n",
       "      <td>69</td>\n",
       "      <td>\"Among 139 clients exposed to two symptomatic ...</td>\n",
       "      <td>r58aohnu</td>\n",
       "      <td>[r58aohnu, p0kg6dyz, yrowv62k, s2vckt2w, j1ucr...</td>\n",
       "      <td>[r58aohnu, kiq6xb6k, s2vckt2w, icgsbelo, eay6q...</td>\n",
       "      <td>[r58aohnu, kiq6xb6k, s2vckt2w, icgsbelo, eay6q...</td>\n",
       "      <td>[3.333984375, 0.349853515625, 0.17138671875, 0...</td>\n",
       "      <td>1.0</td>\n",
       "    </tr>\n",
       "    <tr>\n",
       "      <th>2</th>\n",
       "      <td>73</td>\n",
       "      <td>I recall early on reading that researchers who...</td>\n",
       "      <td>sts48u9i</td>\n",
       "      <td>[sgo76prc, sts48u9i, tz2shoso, gruir7aw, 3xw4q...</td>\n",
       "      <td>[sts48u9i, o47v5vgw, a7frertc, o877uul1, u5nxm...</td>\n",
       "      <td>[sts48u9i, o47v5vgw, a7frertc, o877uul1, u5nxm...</td>\n",
       "      <td>[0.309814453125, -0.06854248046875, -0.1201171...</td>\n",
       "      <td>1.0</td>\n",
       "    </tr>\n",
       "    <tr>\n",
       "      <th>3</th>\n",
       "      <td>93</td>\n",
       "      <td>You know you're credible when NIH website has ...</td>\n",
       "      <td>3sr2exq9</td>\n",
       "      <td>[3sr2exq9, hgpiig0g, sv48gjkk, 1cpjqav4, k0f4c...</td>\n",
       "      <td>[3sr2exq9, k0f4cwig, sv48gjkk, 8j3bb6zx, pq3n1...</td>\n",
       "      <td>[3sr2exq9, k0f4cwig, sv48gjkk, 8j3bb6zx, pq3n1...</td>\n",
       "      <td>[0.83642578125, 0.22509765625, 0.1030883789062...</td>\n",
       "      <td>1.0</td>\n",
       "    </tr>\n",
       "    <tr>\n",
       "      <th>4</th>\n",
       "      <td>96</td>\n",
       "      <td>Resistance to antifungal medications is a grow...</td>\n",
       "      <td>ybwwmyqy</td>\n",
       "      <td>[3l6ipiwk, vabb2f26, ouvq2wpq, lzddnb8j, ybwwm...</td>\n",
       "      <td>[ybwwmyqy, rs3umc1x, ouvq2wpq, 3l6ipiwk, ierqf...</td>\n",
       "      <td>[ybwwmyqy, rs3umc1x, ouvq2wpq, 3l6ipiwk, ierqf...</td>\n",
       "      <td>[0.22314453125, 0.08758544921875, -0.127197265...</td>\n",
       "      <td>1.0</td>\n",
       "    </tr>\n",
       "  </tbody>\n",
       "</table>\n",
       "</div>"
      ],
      "text/plain": [
       "   post_id                                         tweet_text  cord_uid  \\\n",
       "0       16  covid recovery: this study from the usa reveal...  3qvh482o   \n",
       "1       69  \"Among 139 clients exposed to two symptomatic ...  r58aohnu   \n",
       "2       73  I recall early on reading that researchers who...  sts48u9i   \n",
       "3       93  You know you're credible when NIH website has ...  3sr2exq9   \n",
       "4       96  Resistance to antifungal medications is a grow...  ybwwmyqy   \n",
       "\n",
       "                                           bm25_topk  \\\n",
       "0  [atji1xge, mb18fj8a, 66g5lpm6, 59up4v56, gatxu...   \n",
       "1  [r58aohnu, p0kg6dyz, yrowv62k, s2vckt2w, j1ucr...   \n",
       "2  [sgo76prc, sts48u9i, tz2shoso, gruir7aw, 3xw4q...   \n",
       "3  [3sr2exq9, hgpiig0g, sv48gjkk, 1cpjqav4, k0f4c...   \n",
       "4  [3l6ipiwk, vabb2f26, ouvq2wpq, lzddnb8j, ybwwm...   \n",
       "\n",
       "                                       reranked_topk  \\\n",
       "0  [hg3xpej0, 59up4v56, 82y56t7d, 86xwnpde, 8t2ti...   \n",
       "1  [r58aohnu, kiq6xb6k, s2vckt2w, icgsbelo, eay6q...   \n",
       "2  [sts48u9i, o47v5vgw, a7frertc, o877uul1, u5nxm...   \n",
       "3  [3sr2exq9, k0f4cwig, sv48gjkk, 8j3bb6zx, pq3n1...   \n",
       "4  [ybwwmyqy, rs3umc1x, ouvq2wpq, 3l6ipiwk, ierqf...   \n",
       "\n",
       "                                       reranked_docs  \\\n",
       "0  [hg3xpej0, 59up4v56, 82y56t7d, 86xwnpde, 8t2ti...   \n",
       "1  [r58aohnu, kiq6xb6k, s2vckt2w, icgsbelo, eay6q...   \n",
       "2  [sts48u9i, o47v5vgw, a7frertc, o877uul1, u5nxm...   \n",
       "3  [3sr2exq9, k0f4cwig, sv48gjkk, 8j3bb6zx, pq3n1...   \n",
       "4  [ybwwmyqy, rs3umc1x, ouvq2wpq, 3l6ipiwk, ierqf...   \n",
       "\n",
       "                                     reranked_scores  in_topx  \n",
       "0  [1.2587890625, 0.71435546875, 0.4404296875, 0....      0.0  \n",
       "1  [3.333984375, 0.349853515625, 0.17138671875, 0...      1.0  \n",
       "2  [0.309814453125, -0.06854248046875, -0.1201171...      1.0  \n",
       "3  [0.83642578125, 0.22509765625, 0.1030883789062...      1.0  \n",
       "4  [0.22314453125, 0.08758544921875, -0.127197265...      1.0  "
      ]
     },
     "metadata": {},
     "output_type": "display_data"
    },
    {
     "name": "stdout",
     "output_type": "stream",
     "text": [
      "Using GPU\n"
     ]
    },
    {
     "name": "stderr",
     "output_type": "stream",
     "text": [
      "Reranking: 100%|██████████| 14253/14253 [1:30:21<00:00,  2.63it/s]\n"
     ]
    },
    {
     "name": "stdout",
     "output_type": "stream",
     "text": [
      "k = 1\n",
      "Number of queries in top 1: 7438\n",
      "Number of queries not in top 1: 6815\n",
      "k = 5\n",
      "Number of queries in top 5: 9521\n",
      "Number of queries not in top 5: 4732\n",
      "k = 10\n",
      "Number of queries in top 10: 10215\n",
      "Number of queries not in top 10: 4038\n",
      "Evaluation results: {1: np.float64(0.5218550480600576), 5: np.float64(0.5785320049580205), 10: np.float64(0.5850188876972712)}\n"
     ]
    }
   ],
   "source": [
    "df_query_dev_single = experiment_single_bm25(df_collection, df_query_combined, stemmer=stemmer, k=200)\n",
    "display(df_query_dev_single.head(5))\n",
    "model_name = \"cross-encoder/ms-marco-TinyBERT-L2-v2\"\n",
    "tokenizer, model = initialize_reranker(model_name)\n",
    "df_query = rerank_with_alibaba(df_query_dev_single, df_collection, tokenizer, model, k=10, batch_size=100)\n",
    "df_query.to_parquet(\"data/reranked_results_tinyBERT.parquet\")\n",
    "results = evaluate_reranked_results(df_query)\n",
    "print(f\"Evaluation results: {results}\")"
   ]
  },
  {
   "cell_type": "code",
   "execution_count": 20,
   "id": "a99af320",
   "metadata": {},
   "outputs": [
    {
     "name": "stderr",
     "output_type": "stream",
     "text": [
      "                                                                            \r"
     ]
    },
    {
     "data": {
      "text/html": [
       "<div>\n",
       "<style scoped>\n",
       "    .dataframe tbody tr th:only-of-type {\n",
       "        vertical-align: middle;\n",
       "    }\n",
       "\n",
       "    .dataframe tbody tr th {\n",
       "        vertical-align: top;\n",
       "    }\n",
       "\n",
       "    .dataframe thead th {\n",
       "        text-align: right;\n",
       "    }\n",
       "</style>\n",
       "<table border=\"1\" class=\"dataframe\">\n",
       "  <thead>\n",
       "    <tr style=\"text-align: right;\">\n",
       "      <th></th>\n",
       "      <th>post_id</th>\n",
       "      <th>tweet_text</th>\n",
       "      <th>cord_uid</th>\n",
       "      <th>bm25_topk</th>\n",
       "      <th>reranked_topk</th>\n",
       "      <th>reranked_docs</th>\n",
       "      <th>reranked_scores</th>\n",
       "      <th>in_topx</th>\n",
       "    </tr>\n",
       "  </thead>\n",
       "  <tbody>\n",
       "    <tr>\n",
       "      <th>0</th>\n",
       "      <td>16</td>\n",
       "      <td>covid recovery: this study from the usa reveal...</td>\n",
       "      <td>3qvh482o</td>\n",
       "      <td>[atji1xge, mb18fj8a, 66g5lpm6, 59up4v56, gatxu...</td>\n",
       "      <td>[nksd3wuw, es8l29ub, atji1xge, 82y56t7d, sqxdw...</td>\n",
       "      <td>[nksd3wuw, es8l29ub, atji1xge, 82y56t7d, sqxdw...</td>\n",
       "      <td>[7.078125, 6.046875, 5.74609375, 5.4140625, 5....</td>\n",
       "      <td>0.000000</td>\n",
       "    </tr>\n",
       "    <tr>\n",
       "      <th>1</th>\n",
       "      <td>69</td>\n",
       "      <td>\"Among 139 clients exposed to two symptomatic ...</td>\n",
       "      <td>r58aohnu</td>\n",
       "      <td>[r58aohnu, p0kg6dyz, yrowv62k, s2vckt2w, j1ucr...</td>\n",
       "      <td>[r58aohnu, 6zfpcm4j, wk61uyrt, xsqgrd5l, icgsb...</td>\n",
       "      <td>[r58aohnu, 6zfpcm4j, wk61uyrt, xsqgrd5l, icgsb...</td>\n",
       "      <td>[6.75390625, 1.7626953125, 1.494140625, 1.3847...</td>\n",
       "      <td>1.000000</td>\n",
       "    </tr>\n",
       "    <tr>\n",
       "      <th>2</th>\n",
       "      <td>73</td>\n",
       "      <td>I recall early on reading that researchers who...</td>\n",
       "      <td>sts48u9i</td>\n",
       "      <td>[sgo76prc, sts48u9i, tz2shoso, gruir7aw, 3xw4q...</td>\n",
       "      <td>[u5nxm9tu, qkg8fwbp, sts48u9i, 4aps0kvp, ujq9m...</td>\n",
       "      <td>[u5nxm9tu, qkg8fwbp, sts48u9i, 4aps0kvp, ujq9m...</td>\n",
       "      <td>[0.5537109375, -0.328857421875, -0.48095703125...</td>\n",
       "      <td>0.333333</td>\n",
       "    </tr>\n",
       "    <tr>\n",
       "      <th>3</th>\n",
       "      <td>93</td>\n",
       "      <td>You know you're credible when NIH website has ...</td>\n",
       "      <td>3sr2exq9</td>\n",
       "      <td>[3sr2exq9, hgpiig0g, sv48gjkk, 1cpjqav4, k0f4c...</td>\n",
       "      <td>[kdegnr6i, bn22k0p3, 3sr2exq9, k0f4cwig, wbw7g...</td>\n",
       "      <td>[kdegnr6i, bn22k0p3, 3sr2exq9, k0f4cwig, wbw7g...</td>\n",
       "      <td>[-0.0164794921875, -1.2412109375, -1.251953125...</td>\n",
       "      <td>0.333333</td>\n",
       "    </tr>\n",
       "    <tr>\n",
       "      <th>4</th>\n",
       "      <td>96</td>\n",
       "      <td>Resistance to antifungal medications is a grow...</td>\n",
       "      <td>ybwwmyqy</td>\n",
       "      <td>[3l6ipiwk, vabb2f26, ouvq2wpq, lzddnb8j, ybwwm...</td>\n",
       "      <td>[vabb2f26, ybwwmyqy, 3l6ipiwk, ouvq2wpq, buswb...</td>\n",
       "      <td>[vabb2f26, ybwwmyqy, 3l6ipiwk, ouvq2wpq, buswb...</td>\n",
       "      <td>[4.51171875, 4.36328125, 4.16015625, 2.578125,...</td>\n",
       "      <td>0.500000</td>\n",
       "    </tr>\n",
       "  </tbody>\n",
       "</table>\n",
       "</div>"
      ],
      "text/plain": [
       "   post_id                                         tweet_text  cord_uid  \\\n",
       "0       16  covid recovery: this study from the usa reveal...  3qvh482o   \n",
       "1       69  \"Among 139 clients exposed to two symptomatic ...  r58aohnu   \n",
       "2       73  I recall early on reading that researchers who...  sts48u9i   \n",
       "3       93  You know you're credible when NIH website has ...  3sr2exq9   \n",
       "4       96  Resistance to antifungal medications is a grow...  ybwwmyqy   \n",
       "\n",
       "                                           bm25_topk  \\\n",
       "0  [atji1xge, mb18fj8a, 66g5lpm6, 59up4v56, gatxu...   \n",
       "1  [r58aohnu, p0kg6dyz, yrowv62k, s2vckt2w, j1ucr...   \n",
       "2  [sgo76prc, sts48u9i, tz2shoso, gruir7aw, 3xw4q...   \n",
       "3  [3sr2exq9, hgpiig0g, sv48gjkk, 1cpjqav4, k0f4c...   \n",
       "4  [3l6ipiwk, vabb2f26, ouvq2wpq, lzddnb8j, ybwwm...   \n",
       "\n",
       "                                       reranked_topk  \\\n",
       "0  [nksd3wuw, es8l29ub, atji1xge, 82y56t7d, sqxdw...   \n",
       "1  [r58aohnu, 6zfpcm4j, wk61uyrt, xsqgrd5l, icgsb...   \n",
       "2  [u5nxm9tu, qkg8fwbp, sts48u9i, 4aps0kvp, ujq9m...   \n",
       "3  [kdegnr6i, bn22k0p3, 3sr2exq9, k0f4cwig, wbw7g...   \n",
       "4  [vabb2f26, ybwwmyqy, 3l6ipiwk, ouvq2wpq, buswb...   \n",
       "\n",
       "                                       reranked_docs  \\\n",
       "0  [nksd3wuw, es8l29ub, atji1xge, 82y56t7d, sqxdw...   \n",
       "1  [r58aohnu, 6zfpcm4j, wk61uyrt, xsqgrd5l, icgsb...   \n",
       "2  [u5nxm9tu, qkg8fwbp, sts48u9i, 4aps0kvp, ujq9m...   \n",
       "3  [kdegnr6i, bn22k0p3, 3sr2exq9, k0f4cwig, wbw7g...   \n",
       "4  [vabb2f26, ybwwmyqy, 3l6ipiwk, ouvq2wpq, buswb...   \n",
       "\n",
       "                                     reranked_scores   in_topx  \n",
       "0  [7.078125, 6.046875, 5.74609375, 5.4140625, 5....  0.000000  \n",
       "1  [6.75390625, 1.7626953125, 1.494140625, 1.3847...  1.000000  \n",
       "2  [0.5537109375, -0.328857421875, -0.48095703125...  0.333333  \n",
       "3  [-0.0164794921875, -1.2412109375, -1.251953125...  0.333333  \n",
       "4  [4.51171875, 4.36328125, 4.16015625, 2.578125,...  0.500000  "
      ]
     },
     "metadata": {},
     "output_type": "display_data"
    },
    {
     "name": "stdout",
     "output_type": "stream",
     "text": [
      "Using GPU\n"
     ]
    },
    {
     "name": "stderr",
     "output_type": "stream",
     "text": [
      "Reranking: 100%|██████████| 14253/14253 [1:30:00<00:00,  2.64it/s]\n"
     ]
    },
    {
     "name": "stdout",
     "output_type": "stream",
     "text": [
      "k = 1\n",
      "Number of queries in top 1: 7613\n",
      "Number of queries not in top 1: 6640\n",
      "k = 5\n",
      "Number of queries in top 5: 9648\n",
      "Number of queries not in top 5: 4605\n",
      "k = 10\n",
      "Number of queries in top 10: 10355\n",
      "Number of queries not in top 10: 3898\n",
      "Evaluation results: {1: np.float64(0.5341331649477303), 5: np.float64(0.5887462288640988), 10: np.float64(0.5954533659858855)}\n"
     ]
    }
   ],
   "source": [
    "df_query_dev_single = experiment_single_bm25(df_collection, df_query_combined, stemmer=stemmer, k=100)\n",
    "display(df_query_dev_single.head(5))\n",
    "model_name = \"cross-encoder/ms-marco-MiniLM-L12-v2\"\n",
    "tokenizer, model = initialize_reranker(model_name)\n",
    "df_query = rerank_with_alibaba(df_query_dev_single, df_collection, tokenizer, model, k=10, batch_size=100)\n",
    "df_query.to_parquet(\"data/reranked_results_miniLM.parquet\")\n",
    "results = evaluate_reranked_results(df_query)\n",
    "print(f\"Evaluation results: {results}\")"
   ]
  },
  {
   "cell_type": "code",
   "execution_count": 21,
   "id": "069665d8",
   "metadata": {},
   "outputs": [
    {
     "name": "stderr",
     "output_type": "stream",
     "text": [
      "                                                                            \r"
     ]
    },
    {
     "name": "stdout",
     "output_type": "stream",
     "text": [
      "Using GPU\n"
     ]
    },
    {
     "name": "stderr",
     "output_type": "stream",
     "text": [
      "Reranking: 100%|██████████| 14253/14253 [1:20:58<00:00,  2.93it/s]\n"
     ]
    },
    {
     "name": "stdout",
     "output_type": "stream",
     "text": [
      "k = 1\n",
      "Number of queries in top 1: 7032\n",
      "Number of queries not in top 1: 7221\n",
      "k = 5\n",
      "Number of queries in top 5: 9334\n",
      "Number of queries not in top 5: 4919\n",
      "k = 10\n",
      "Number of queries in top 10: 10228\n",
      "Number of queries not in top 10: 4025\n",
      "Evaluation results: {1: np.float64(0.49336981688065673), 5: np.float64(0.5558163193713604), 10: np.float64(0.5641402422659)}\n"
     ]
    }
   ],
   "source": [
    "df_query_dev_single = experiment_single_bm25(df_collection, df_query_combined, stemmer=stemmer, k=40)\n",
    "model_name = \"cross-encoder/ms-marco-electra-base\"\n",
    "tokenizer, model = initialize_reranker(model_name)\n",
    "df_query = rerank_with_alibaba(df_query_dev_single, df_collection, tokenizer, model, k=10, batch_size=50, max_length=None )\n",
    "df_query.to_parquet(\"data/reranked_results_electra.parquet\")\n",
    "results = evaluate_reranked_results(df_query)\n",
    "print(f\"Evaluation results: {results}\")"
   ]
  },
  {
   "cell_type": "code",
   "execution_count": 18,
   "id": "cd25c9d6",
   "metadata": {},
   "outputs": [
    {
     "name": "stderr",
     "output_type": "stream",
     "text": [
      "Reranking:   0%|          | 0/14253 [00:00<?, ?it/s]                        You're using a Qwen2TokenizerFast tokenizer. Please note that with a fast tokenizer, using the `__call__` method is faster than using a method to encode the text followed by a call to the `pad` method to get a padded encoding.\n",
      "Reranking: 100%|██████████| 14253/14253 [4:14:34<00:00,  1.07s/it]  \n"
     ]
    },
    {
     "name": "stdout",
     "output_type": "stream",
     "text": [
      "k = 1\n",
      "Number of queries in top 1: 9784\n",
      "Number of queries not in top 1: 4469\n",
      "k = 5\n",
      "Number of queries in top 5: 11050\n",
      "Number of queries not in top 5: 3203\n",
      "k = 10\n",
      "Number of queries in top 10: 11274\n",
      "Number of queries not in top 10: 2979\n",
      "Evaluation results: {1: np.float64(0.6864519750228022), 5: np.float64(0.7231974555064431), 10: np.float64(0.7253506362904384)}\n"
     ]
    }
   ],
   "source": [
    "df_query_dev_single = experiment_single_bm25(df_collection, df_query_combined, stemmer=stemmer, k=25)\n",
    "df_query = rerank_mxbai(df_query_dev_single, df_collection, \"mixedbread-ai/mxbai-rerank-base-v2\", batch_size=1)\n",
    "df_query.to_parquet(\"data/reranked_results_mxbai.parquet\")\n",
    "results = evaluate_reranked_results(df_query)\n",
    "print(f\"Evaluation results: {results}\")"
   ]
  },
  {
   "cell_type": "markdown",
   "id": "fcbff983",
   "metadata": {},
   "source": [
    "## Finetune"
   ]
  },
  {
   "cell_type": "code",
   "execution_count": 17,
   "id": "0b1d662d",
   "metadata": {},
   "outputs": [],
   "source": [
    "from datasets import Dataset\n",
    "from sentence_transformers import CrossEncoder\n",
    "from sentence_transformers.cross_encoder.losses import CachedMultipleNegativesRankingLoss, MultipleNegativesRankingLoss\n",
    "from sentence_transformers.cross_encoder import CrossEncoderTrainingArguments\n",
    "from sentence_transformers.training_args import BatchSamplers\n",
    "from sentence_transformers import SentenceTransformer\n",
    "from sentence_transformers.util import mine_hard_negatives\n",
    "from sentence_transformers.cross_encoder.evaluation import CrossEncoderRerankingEvaluator\n",
    "from sentence_transformers.cross_encoder.losses.BinaryCrossEntropyLoss import BinaryCrossEntropyLoss\n",
    "from sentence_transformers.cross_encoder import CrossEncoderTrainer\n"
   ]
  },
  {
   "cell_type": "code",
   "execution_count": 18,
   "id": "e63c5e2e",
   "metadata": {},
   "outputs": [
    {
     "data": {
      "text/html": [
       "<div>\n",
       "<style scoped>\n",
       "    .dataframe tbody tr th:only-of-type {\n",
       "        vertical-align: middle;\n",
       "    }\n",
       "\n",
       "    .dataframe tbody tr th {\n",
       "        vertical-align: top;\n",
       "    }\n",
       "\n",
       "    .dataframe thead th {\n",
       "        text-align: right;\n",
       "    }\n",
       "</style>\n",
       "<table border=\"1\" class=\"dataframe\">\n",
       "  <thead>\n",
       "    <tr style=\"text-align: right;\">\n",
       "      <th></th>\n",
       "      <th>cord_uid</th>\n",
       "      <th>source_x</th>\n",
       "      <th>title</th>\n",
       "      <th>doi</th>\n",
       "      <th>pmcid</th>\n",
       "      <th>pubmed_id</th>\n",
       "      <th>license</th>\n",
       "      <th>abstract</th>\n",
       "      <th>publish_time</th>\n",
       "      <th>authors</th>\n",
       "      <th>journal</th>\n",
       "      <th>mag_id</th>\n",
       "      <th>who_covidence_id</th>\n",
       "      <th>arxiv_id</th>\n",
       "      <th>label</th>\n",
       "      <th>time</th>\n",
       "      <th>timet</th>\n",
       "      <th>last_names</th>\n",
       "      <th>publish_year</th>\n",
       "      <th>answer</th>\n",
       "    </tr>\n",
       "  </thead>\n",
       "  <tbody>\n",
       "    <tr>\n",
       "      <th>162</th>\n",
       "      <td>umvrwgaw</td>\n",
       "      <td>PMC</td>\n",
       "      <td>Professional and Home-Made Face Masks Reduce E...</td>\n",
       "      <td>10.1371/journal.pone.0002618</td>\n",
       "      <td>PMC2440799</td>\n",
       "      <td>18612429</td>\n",
       "      <td>cc-by</td>\n",
       "      <td>BACKGROUND: Governments are preparing for a po...</td>\n",
       "      <td>2008-07-09</td>\n",
       "      <td>van der Sande, Marianne; Teunis, Peter; Sabel,...</td>\n",
       "      <td>PLoS One</td>\n",
       "      <td>NaN</td>\n",
       "      <td>NaN</td>\n",
       "      <td>NaN</td>\n",
       "      <td>umvrwgaw</td>\n",
       "      <td>2008-07-09</td>\n",
       "      <td>1215561600</td>\n",
       "      <td>van der Sande; Teunis; Sabel</td>\n",
       "      <td>2008</td>\n",
       "      <td>Professional and Home-Made Face Masks Reduce E...</td>\n",
       "    </tr>\n",
       "    <tr>\n",
       "      <th>611</th>\n",
       "      <td>spiud6ok</td>\n",
       "      <td>PMC</td>\n",
       "      <td>The Failure of R (0)</td>\n",
       "      <td>10.1155/2011/527610</td>\n",
       "      <td>PMC3157160</td>\n",
       "      <td>21860658</td>\n",
       "      <td>cc-by</td>\n",
       "      <td>The basic reproductive ratio, R (0), is one of...</td>\n",
       "      <td>2011-08-16</td>\n",
       "      <td>Li, Jing; Blakeley, Daniel; Smith?, Robert J.</td>\n",
       "      <td>Comput Math Methods Med</td>\n",
       "      <td>NaN</td>\n",
       "      <td>NaN</td>\n",
       "      <td>NaN</td>\n",
       "      <td>spiud6ok</td>\n",
       "      <td>2011-08-16</td>\n",
       "      <td>1313452800</td>\n",
       "      <td>Li; Blakeley; Smith?</td>\n",
       "      <td>2011</td>\n",
       "      <td>The Failure of R (0) The basic reproductive ra...</td>\n",
       "    </tr>\n",
       "    <tr>\n",
       "      <th>918</th>\n",
       "      <td>aclzp3iy</td>\n",
       "      <td>PMC</td>\n",
       "      <td>Pulmonary sequelae in a patient recovered from...</td>\n",
       "      <td>10.4103/0970-2113.99118</td>\n",
       "      <td>PMC3424870</td>\n",
       "      <td>22919170</td>\n",
       "      <td>cc-by-nc-sa</td>\n",
       "      <td>The pandemic of swine flu (H1N1) influenza spr...</td>\n",
       "      <td>2012</td>\n",
       "      <td>Singh, Virendra; Sharma, Bharat Bhushan; Patel...</td>\n",
       "      <td>Lung India</td>\n",
       "      <td>NaN</td>\n",
       "      <td>NaN</td>\n",
       "      <td>NaN</td>\n",
       "      <td>aclzp3iy</td>\n",
       "      <td>2012-01-01</td>\n",
       "      <td>1325376000</td>\n",
       "      <td>Singh; Sharma; Patel</td>\n",
       "      <td>2012</td>\n",
       "      <td>Pulmonary sequelae in a patient recovered from...</td>\n",
       "    </tr>\n",
       "  </tbody>\n",
       "</table>\n",
       "</div>"
      ],
      "text/plain": [
       "     cord_uid source_x                                              title  \\\n",
       "162  umvrwgaw      PMC  Professional and Home-Made Face Masks Reduce E...   \n",
       "611  spiud6ok      PMC                               The Failure of R (0)   \n",
       "918  aclzp3iy      PMC  Pulmonary sequelae in a patient recovered from...   \n",
       "\n",
       "                              doi       pmcid pubmed_id      license  \\\n",
       "162  10.1371/journal.pone.0002618  PMC2440799  18612429        cc-by   \n",
       "611           10.1155/2011/527610  PMC3157160  21860658        cc-by   \n",
       "918       10.4103/0970-2113.99118  PMC3424870  22919170  cc-by-nc-sa   \n",
       "\n",
       "                                              abstract publish_time  \\\n",
       "162  BACKGROUND: Governments are preparing for a po...   2008-07-09   \n",
       "611  The basic reproductive ratio, R (0), is one of...   2011-08-16   \n",
       "918  The pandemic of swine flu (H1N1) influenza spr...         2012   \n",
       "\n",
       "                                               authors  \\\n",
       "162  van der Sande, Marianne; Teunis, Peter; Sabel,...   \n",
       "611      Li, Jing; Blakeley, Daniel; Smith?, Robert J.   \n",
       "918  Singh, Virendra; Sharma, Bharat Bhushan; Patel...   \n",
       "\n",
       "                     journal  mag_id who_covidence_id arxiv_id     label  \\\n",
       "162                 PLoS One     NaN              NaN      NaN  umvrwgaw   \n",
       "611  Comput Math Methods Med     NaN              NaN      NaN  spiud6ok   \n",
       "918               Lung India     NaN              NaN      NaN  aclzp3iy   \n",
       "\n",
       "          time       timet                    last_names publish_year  \\\n",
       "162 2008-07-09  1215561600  van der Sande; Teunis; Sabel         2008   \n",
       "611 2011-08-16  1313452800          Li; Blakeley; Smith?         2011   \n",
       "918 2012-01-01  1325376000          Singh; Sharma; Patel         2012   \n",
       "\n",
       "                                                answer  \n",
       "162  Professional and Home-Made Face Masks Reduce E...  \n",
       "611  The Failure of R (0) The basic reproductive ra...  \n",
       "918  Pulmonary sequelae in a patient recovered from...  "
      ]
     },
     "execution_count": 18,
     "metadata": {},
     "output_type": "execute_result"
    }
   ],
   "source": [
    "df_collection['answer'] = df_collection.apply(\n",
    "    lambda row: f\"{row['title']} {row['abstract']} {row['last_names']} {row['journal']}\", axis=1\n",
    ")\n",
    "df_collection.head(3)   "
   ]
  },
  {
   "cell_type": "code",
   "execution_count": 19,
   "id": "b460ba5b",
   "metadata": {},
   "outputs": [
    {
     "data": {
      "text/html": [
       "<div>\n",
       "<style scoped>\n",
       "    .dataframe tbody tr th:only-of-type {\n",
       "        vertical-align: middle;\n",
       "    }\n",
       "\n",
       "    .dataframe tbody tr th {\n",
       "        vertical-align: top;\n",
       "    }\n",
       "\n",
       "    .dataframe thead th {\n",
       "        text-align: right;\n",
       "    }\n",
       "</style>\n",
       "<table border=\"1\" class=\"dataframe\">\n",
       "  <thead>\n",
       "    <tr style=\"text-align: right;\">\n",
       "      <th></th>\n",
       "      <th>post_id</th>\n",
       "      <th>tweet_text</th>\n",
       "      <th>cord_uid</th>\n",
       "      <th>bm25_topk</th>\n",
       "      <th>in_topx</th>\n",
       "      <th>answer</th>\n",
       "    </tr>\n",
       "  </thead>\n",
       "  <tbody>\n",
       "    <tr>\n",
       "      <th>0</th>\n",
       "      <td>0</td>\n",
       "      <td>Oral care in rehabilitation medicine: oral vul...</td>\n",
       "      <td>htlvpvz5</td>\n",
       "      <td>[htlvpvz5, h7hj64q5, 4aps0kvp, 5tkyir3r, 32z7b...</td>\n",
       "      <td>1.000000</td>\n",
       "      <td>Oral Management in Rehabilitation Medicine: Or...</td>\n",
       "    </tr>\n",
       "    <tr>\n",
       "      <th>1</th>\n",
       "      <td>1</td>\n",
       "      <td>this study isn't receiving sufficient attentio...</td>\n",
       "      <td>4kfl29ul</td>\n",
       "      <td>[maj8r6ti, bjvg2ivr, 7tto4hr7, 2cwvga0k, 46je8...</td>\n",
       "      <td>0.003145</td>\n",
       "      <td>Variation in racial/ethnic disparities in COVI...</td>\n",
       "    </tr>\n",
       "    <tr>\n",
       "      <th>2</th>\n",
       "      <td>2</td>\n",
       "      <td>thanks, xi jinping. a reminder that this study...</td>\n",
       "      <td>jtwb17u8</td>\n",
       "      <td>[jtwb17u8, veeavho5, jbpmbm9m, 8hkxbxz9, 32v44...</td>\n",
       "      <td>1.000000</td>\n",
       "      <td>Effect of non-pharmaceutical interventions for...</td>\n",
       "    </tr>\n",
       "  </tbody>\n",
       "</table>\n",
       "</div>"
      ],
      "text/plain": [
       "   post_id                                         tweet_text  cord_uid  \\\n",
       "0        0  Oral care in rehabilitation medicine: oral vul...  htlvpvz5   \n",
       "1        1  this study isn't receiving sufficient attentio...  4kfl29ul   \n",
       "2        2  thanks, xi jinping. a reminder that this study...  jtwb17u8   \n",
       "\n",
       "                                           bm25_topk   in_topx  \\\n",
       "0  [htlvpvz5, h7hj64q5, 4aps0kvp, 5tkyir3r, 32z7b...  1.000000   \n",
       "1  [maj8r6ti, bjvg2ivr, 7tto4hr7, 2cwvga0k, 46je8...  0.003145   \n",
       "2  [jtwb17u8, veeavho5, jbpmbm9m, 8hkxbxz9, 32v44...  1.000000   \n",
       "\n",
       "                                              answer  \n",
       "0  Oral Management in Rehabilitation Medicine: Or...  \n",
       "1  Variation in racial/ethnic disparities in COVI...  \n",
       "2  Effect of non-pharmaceutical interventions for...  "
      ]
     },
     "execution_count": 19,
     "metadata": {},
     "output_type": "execute_result"
    }
   ],
   "source": [
    "df_train = df_query_train.merge(df_collection[['cord_uid', 'answer']], on='cord_uid', how='left')\n",
    "df_dev = df_query_dev.merge(df_collection[['cord_uid', 'answer']], on='cord_uid', how='left')\n",
    "df_full = pd.concat([df_train, df_dev], ignore_index=True)\n",
    "df_full.head(3)"
   ]
  },
  {
   "cell_type": "code",
   "execution_count": 20,
   "id": "56627c6b",
   "metadata": {},
   "outputs": [],
   "source": [
    "train_dataset = Dataset.from_dict({\n",
    "    \"query\": df_train['tweet_text'].tolist(),\n",
    "    \"document\": df_train['answer'].tolist(),\n",
    "})\n",
    "\n",
    "dev_dataset = Dataset.from_dict({\n",
    "    \"query\": df_dev['tweet_text'].tolist(),\n",
    "    \"document\": df_dev['answer'].tolist(),\n",
    "})\n",
    "full_dataset = Dataset.from_dict({\n",
    "    \"query\": df_full['tweet_text'].tolist(),\n",
    "    \"document\": df_full['answer'].tolist(),\n",
    "})"
   ]
  },
  {
   "cell_type": "code",
   "execution_count": 24,
   "id": "3388f98a",
   "metadata": {},
   "outputs": [],
   "source": [
    "class ExperimentRunner:\n",
    "    def __init__(self, embedding_model_hard_negatives, model_to_finetune, train_batch_size, num_epochs, max_length, num_hard_negatives, num_hard_negatives_eval):\n",
    "        self.embedding_model_hard_negatives = embedding_model_hard_negatives\n",
    "        self.model_to_finetune = model_to_finetune\n",
    "        self.train_batch_size = train_batch_size\n",
    "        self.num_epochs = num_epochs\n",
    "        self.max_length = max_length\n",
    "        self.num_hard_negatives = num_hard_negatives\n",
    "        self.num_hard_negatives_eval = num_hard_negatives_eval\n",
    "        self.device = torch.device('cuda' if torch.cuda.is_available() else 'cpu')\n",
    "\n",
    "    def run_experiment(self, train_dataset, dev_dataset, df_full, trust_remote_code=False):\n",
    "        embedding_model = SentenceTransformer(self.embedding_model_hard_negatives, device=self.device)\n",
    "\n",
    "        hard_train_dataset = mine_hard_negatives(\n",
    "            train_dataset,\n",
    "            embedding_model,\n",
    "            num_negatives=self.num_hard_negatives,  # How many negatives per question-answer pair\n",
    "            range_min=5,  # Skip the x most similar samples\n",
    "            range_max=100,  # Consider only the x most similar samples\n",
    "            max_score=0.8,  # Only consider samples with a similarity score of at most x\n",
    "            margin=0.05,  # Similarity between query and negative samples should be x lower than query-positive similarity\n",
    "            sampling_strategy=\"top\",  # Randomly sample negatives from the range\n",
    "            batch_size=4096,  # Use a batch size of 4096 for the embedding model\n",
    "            output_format=\"labeled-pair\",  # The output format is (query, passage, label), as required by BinaryCrossEntropyLoss\n",
    "        )\n",
    "\n",
    "        hard_eval_dataset = mine_hard_negatives(\n",
    "            dev_dataset,\n",
    "            embedding_model,\n",
    "            corpus=df_full[\"answer\"],  # Use the full dataset as the corpus\n",
    "            num_negatives=self.num_hard_negatives_eval,  # How many negatives per question-answer pair\n",
    "            batch_size=4096,  # Use a batch size of 4096 for the embedding model\n",
    "            output_format=\"n-tuple\",  # The output format is (query, positive, negative1, negative2, ...) for the evaluator\n",
    "            include_positives=True,  # Key: Include the positive answer in the list of negatives\n",
    "        )\n",
    "        \n",
    "        model = CrossEncoder(self.model_to_finetune, max_length=self.max_length, device=self.device, trust_remote_code=trust_remote_code)\n",
    "\n",
    "        args = CrossEncoderTrainingArguments(\n",
    "            # Required parameter:\n",
    "            output_dir=f\"model/{self.model_to_finetune.split(\"/\")[-1]}\",\n",
    "            # Optional training parameters:\n",
    "            num_train_epochs=self.num_epochs,\n",
    "            per_device_train_batch_size=self.train_batch_size,\n",
    "            per_device_eval_batch_size=self.train_batch_size,\n",
    "            learning_rate=2e-5,\n",
    "            warmup_ratio=0.1,\n",
    "            fp16=True,  \n",
    "            bf16=False, \n",
    "            batch_sampler=BatchSamplers.NO_DUPLICATES, \n",
    "            eval_strategy=\"steps\",\n",
    "            eval_steps=20000/self.train_batch_size,\n",
    "            save_strategy=\"steps\",\n",
    "            save_steps=20000/self.train_batch_size,\n",
    "            save_total_limit=10,\n",
    "            # logging_steps=2000/self.train_batch_size,\n",
    "            run_name=self.model_to_finetune.split(\"/\")[-1],\n",
    "            load_best_model_at_end=True,\n",
    "            metric_for_best_model=\"eval_loss\",\n",
    "            greater_is_better=False,\n",
    "        )\n",
    "        \n",
    "        reranking_evaluator = CrossEncoderRerankingEvaluator(\n",
    "            samples=[\n",
    "                {\n",
    "                    \"query\": sample[\"query\"],\n",
    "                    \"positive\": [sample[\"document\"]],\n",
    "                    \"documents\": [sample[column_name] for column_name in hard_eval_dataset.column_names if 'negative' in column_name],\n",
    "                }\n",
    "                for sample in hard_eval_dataset\n",
    "            ],\n",
    "            batch_size=self.train_batch_size,\n",
    "            name=\"dev_set\",\n",
    "            show_progress_bar=True,\n",
    "        )\n",
    "        # loss = BinaryCrossEntropyLoss(model=model, pos_weight=torch.tensor(self.num_hard_negatives))\n",
    "        loss = MultipleNegativesRankingLoss(model=model, num_negatives=self.num_hard_negatives)\n",
    "\n",
    "        trainer = CrossEncoderTrainer(\n",
    "            model=model,\n",
    "            args=args,\n",
    "            train_dataset=hard_train_dataset,\n",
    "            eval_dataset=dev_dataset,\n",
    "            loss=loss,\n",
    "            evaluator=reranking_evaluator,\n",
    "    \n",
    "        )\n",
    "\n",
    "        # Train the model\n",
    "        trainer.train()\n",
    "\n",
    "        model.save(f\"models/{self.model_to_finetune.split('/')[-1]}-finetuned\")"
   ]
  },
  {
   "cell_type": "code",
   "execution_count": 25,
   "id": "afccf474",
   "metadata": {},
   "outputs": [],
   "source": [
    "num_epochs = 2\n",
    "embedding_model_hard_negatives = \"sentence-transformers/static-retrieval-mrl-en-v1\""
   ]
  },
  {
   "cell_type": "code",
   "execution_count": 26,
   "id": "d0b31039",
   "metadata": {},
   "outputs": [
    {
     "name": "stderr",
     "output_type": "stream",
     "text": [
      "The `margin` parameter is deprecated. Use the `absolute_margin` and/or `relative_margin` parameter instead. Setting `absolute_margin` to `0.05`.\n"
     ]
    },
    {
     "name": "stdout",
     "output_type": "stream",
     "text": [
      "Found 12842 unique queries out of 12853 total queries.\n",
      "Found an average of 1.001 positives per query.\n"
     ]
    },
    {
     "name": "stderr",
     "output_type": "stream",
     "text": [
      "Batches: 100%|██████████| 2/2 [00:00<00:00,  3.59it/s]\n",
      "Batches: 100%|██████████| 4/4 [00:00<00:00, 25.29it/s]\n"
     ]
    },
    {
     "name": "stdout",
     "output_type": "stream",
     "text": [
      "Metric       Positive       Negative     Difference\n",
      "Count          12,853         45,823               \n",
      "Mean           0.5263         0.4702         0.1262\n",
      "Median         0.5440         0.4759         0.0969\n",
      "Std            0.1639         0.1055         0.0809\n",
      "Min           -0.0783         0.1255        -0.2308\n",
      "25%            0.4171         0.3980         0.0648\n",
      "50%            0.5440         0.4759         0.0969\n",
      "75%            0.6514         0.5476         0.1625\n",
      "Max            0.9287         0.7643         0.6667\n",
      "Skipped 493,639 potential negatives (37.32%) due to the absolute_margin of 0.05.\n",
      "Skipped 5 potential negatives (0.00%) due to the max_score of 0.8.\n",
      "Could not find enough negatives for 18442 samples (28.70%). Consider adjusting the range_max, range_min, absolute_margin and max_score parameters if you'd like to find more valid negatives.\n",
      "Setting range_max to 7 based on the provided parameters.\n",
      "Found 1399 unique queries out of 1400 total queries.\n",
      "Found an average of 1.001 positives per query.\n"
     ]
    },
    {
     "name": "stderr",
     "output_type": "stream",
     "text": [
      "Batches: 100%|██████████| 2/2 [00:00<00:00,  3.24it/s]\n",
      "Batches: 100%|██████████| 1/1 [00:00<00:00, 60.84it/s]\n"
     ]
    },
    {
     "name": "stdout",
     "output_type": "stream",
     "text": [
      "Metric       Positive       Negative     Difference\n",
      "Count           1,400          7,000               \n",
      "Mean           0.5248         0.5402        -0.0154\n",
      "Median         0.5435         0.5493        -0.0000\n",
      "Std            0.1603         0.1151         0.1361\n",
      "Min            0.0295         0.1618        -0.6029\n",
      "25%            0.4099         0.4616        -0.0925\n",
      "50%            0.5438         0.5493        -0.0000\n",
      "75%            0.6468         0.6234         0.0614\n",
      "Max            0.8905         0.8905         0.5734\n"
     ]
    },
    {
     "name": "stderr",
     "output_type": "stream",
     "text": [
      "Token indices sequence length is longer than the specified maximum sequence length for this model (624 > 512). Running this sequence through the model will result in indexing errors\n"
     ]
    },
    {
     "data": {
      "text/html": [
       "\n",
       "    <div>\n",
       "      \n",
       "      <progress value='3666' max='3666' style='width:300px; height:20px; vertical-align: middle;'></progress>\n",
       "      [3666/3666 07:29, Epoch 2/2]\n",
       "    </div>\n",
       "    <table border=\"1\" class=\"dataframe\">\n",
       "  <thead>\n",
       " <tr style=\"text-align: left;\">\n",
       "      <th>Step</th>\n",
       "      <th>Training Loss</th>\n",
       "      <th>Validation Loss</th>\n",
       "      <th>Dev Set Map</th>\n",
       "      <th>Dev Set Mrr@10</th>\n",
       "      <th>Dev Set Ndcg@10</th>\n",
       "      <th>Dev Set Base Map</th>\n",
       "      <th>Dev Set Base Mrr@10</th>\n",
       "      <th>Dev Set Base Ndcg@10</th>\n",
       "    </tr>\n",
       "  </thead>\n",
       "  <tbody>\n",
       "    <tr>\n",
       "      <td>625</td>\n",
       "      <td>1.625000</td>\n",
       "      <td>0.338719</td>\n",
       "      <td>0.764464</td>\n",
       "      <td>0.764464</td>\n",
       "      <td>0.821146</td>\n",
       "      <td>0.465655</td>\n",
       "      <td>0.465655</td>\n",
       "      <td>0.491332</td>\n",
       "    </tr>\n",
       "    <tr>\n",
       "      <td>1250</td>\n",
       "      <td>1.548900</td>\n",
       "      <td>0.261719</td>\n",
       "      <td>0.767857</td>\n",
       "      <td>0.767857</td>\n",
       "      <td>0.823813</td>\n",
       "      <td>0.465655</td>\n",
       "      <td>0.465655</td>\n",
       "      <td>0.491332</td>\n",
       "    </tr>\n",
       "    <tr>\n",
       "      <td>1875</td>\n",
       "      <td>1.533800</td>\n",
       "      <td>0.213330</td>\n",
       "      <td>0.775750</td>\n",
       "      <td>0.775750</td>\n",
       "      <td>0.829801</td>\n",
       "      <td>0.465655</td>\n",
       "      <td>0.465655</td>\n",
       "      <td>0.491332</td>\n",
       "    </tr>\n",
       "    <tr>\n",
       "      <td>2500</td>\n",
       "      <td>1.513200</td>\n",
       "      <td>0.208573</td>\n",
       "      <td>0.778143</td>\n",
       "      <td>0.778143</td>\n",
       "      <td>0.831634</td>\n",
       "      <td>0.465655</td>\n",
       "      <td>0.465655</td>\n",
       "      <td>0.491332</td>\n",
       "    </tr>\n",
       "    <tr>\n",
       "      <td>3125</td>\n",
       "      <td>1.511000</td>\n",
       "      <td>0.206474</td>\n",
       "      <td>0.777893</td>\n",
       "      <td>0.777893</td>\n",
       "      <td>0.831443</td>\n",
       "      <td>0.465655</td>\n",
       "      <td>0.465655</td>\n",
       "      <td>0.491332</td>\n",
       "    </tr>\n",
       "  </tbody>\n",
       "</table><p>"
      ],
      "text/plain": [
       "<IPython.core.display.HTML object>"
      ]
     },
     "metadata": {},
     "output_type": "display_data"
    },
    {
     "name": "stderr",
     "output_type": "stream",
     "text": [
      "                                                                        \r"
     ]
    }
   ],
   "source": [
    "num_hard_negatives = 5\n",
    "num_hard_negatives_eval = 5\n",
    "train_batch_size = 32\n",
    "max_length = 512\n",
    "model_to_finetune = \"cross-encoder/ms-marco-TinyBERT-L2-v2\"\n",
    "\n",
    "exp_runner = ExperimentRunner(\n",
    "    embedding_model_hard_negatives,\n",
    "    model_to_finetune,\n",
    "    train_batch_size,\n",
    "    num_epochs,\n",
    "    max_length,\n",
    "    num_hard_negatives,\n",
    "    num_hard_negatives_eval\n",
    ")\n",
    "exp_runner.run_experiment(train_dataset, dev_dataset, df_full)"
   ]
  },
  {
   "cell_type": "code",
   "execution_count": 27,
   "id": "f4cf802d",
   "metadata": {},
   "outputs": [
    {
     "name": "stderr",
     "output_type": "stream",
     "text": [
      "Split strings:   0%|          | 0/7718 [00:00<?, ?it/s]"
     ]
    },
    {
     "name": "stderr",
     "output_type": "stream",
     "text": [
      "                                                                            \r"
     ]
    },
    {
     "data": {
      "text/html": [
       "<div>\n",
       "<style scoped>\n",
       "    .dataframe tbody tr th:only-of-type {\n",
       "        vertical-align: middle;\n",
       "    }\n",
       "\n",
       "    .dataframe tbody tr th {\n",
       "        vertical-align: top;\n",
       "    }\n",
       "\n",
       "    .dataframe thead th {\n",
       "        text-align: right;\n",
       "    }\n",
       "</style>\n",
       "<table border=\"1\" class=\"dataframe\">\n",
       "  <thead>\n",
       "    <tr style=\"text-align: right;\">\n",
       "      <th></th>\n",
       "      <th>post_id</th>\n",
       "      <th>tweet_text</th>\n",
       "      <th>cord_uid</th>\n",
       "      <th>bm25_topk</th>\n",
       "      <th>in_topx</th>\n",
       "    </tr>\n",
       "  </thead>\n",
       "  <tbody>\n",
       "    <tr>\n",
       "      <th>0</th>\n",
       "      <td>16</td>\n",
       "      <td>covid recovery: this study from the usa reveal...</td>\n",
       "      <td>3qvh482o</td>\n",
       "      <td>[atji1xge, mb18fj8a, 66g5lpm6, 59up4v56, gatxu...</td>\n",
       "      <td>0.012658</td>\n",
       "    </tr>\n",
       "    <tr>\n",
       "      <th>1</th>\n",
       "      <td>69</td>\n",
       "      <td>\"Among 139 clients exposed to two symptomatic ...</td>\n",
       "      <td>r58aohnu</td>\n",
       "      <td>[r58aohnu, p0kg6dyz, yrowv62k, s2vckt2w, j1ucr...</td>\n",
       "      <td>1.000000</td>\n",
       "    </tr>\n",
       "    <tr>\n",
       "      <th>2</th>\n",
       "      <td>73</td>\n",
       "      <td>I recall early on reading that researchers who...</td>\n",
       "      <td>sts48u9i</td>\n",
       "      <td>[sgo76prc, sts48u9i, tz2shoso, gruir7aw, 3xw4q...</td>\n",
       "      <td>0.500000</td>\n",
       "    </tr>\n",
       "    <tr>\n",
       "      <th>3</th>\n",
       "      <td>93</td>\n",
       "      <td>You know you're credible when NIH website has ...</td>\n",
       "      <td>3sr2exq9</td>\n",
       "      <td>[3sr2exq9, hgpiig0g, sv48gjkk, 1cpjqav4, k0f4c...</td>\n",
       "      <td>1.000000</td>\n",
       "    </tr>\n",
       "    <tr>\n",
       "      <th>4</th>\n",
       "      <td>96</td>\n",
       "      <td>Resistance to antifungal medications is a grow...</td>\n",
       "      <td>ybwwmyqy</td>\n",
       "      <td>[3l6ipiwk, vabb2f26, ouvq2wpq, lzddnb8j, ybwwm...</td>\n",
       "      <td>0.200000</td>\n",
       "    </tr>\n",
       "  </tbody>\n",
       "</table>\n",
       "</div>"
      ],
      "text/plain": [
       "   post_id                                         tweet_text  cord_uid  \\\n",
       "0       16  covid recovery: this study from the usa reveal...  3qvh482o   \n",
       "1       69  \"Among 139 clients exposed to two symptomatic ...  r58aohnu   \n",
       "2       73  I recall early on reading that researchers who...  sts48u9i   \n",
       "3       93  You know you're credible when NIH website has ...  3sr2exq9   \n",
       "4       96  Resistance to antifungal medications is a grow...  ybwwmyqy   \n",
       "\n",
       "                                           bm25_topk   in_topx  \n",
       "0  [atji1xge, mb18fj8a, 66g5lpm6, 59up4v56, gatxu...  0.012658  \n",
       "1  [r58aohnu, p0kg6dyz, yrowv62k, s2vckt2w, j1ucr...  1.000000  \n",
       "2  [sgo76prc, sts48u9i, tz2shoso, gruir7aw, 3xw4q...  0.500000  \n",
       "3  [3sr2exq9, hgpiig0g, sv48gjkk, 1cpjqav4, k0f4c...  1.000000  \n",
       "4  [3l6ipiwk, vabb2f26, ouvq2wpq, lzddnb8j, ybwwm...  0.200000  "
      ]
     },
     "metadata": {},
     "output_type": "display_data"
    },
    {
     "name": "stdout",
     "output_type": "stream",
     "text": [
      "Using GPU\n"
     ]
    },
    {
     "name": "stderr",
     "output_type": "stream",
     "text": [
      "Reranking: 100%|██████████| 1400/1400 [00:47<00:00, 29.42it/s]"
     ]
    },
    {
     "name": "stdout",
     "output_type": "stream",
     "text": [
      "k = 1\n",
      "Number of queries in top 1: 831\n",
      "Number of queries not in top 1: 569\n",
      "k = 5\n",
      "Number of queries in top 5: 1023\n",
      "Number of queries not in top 5: 377\n",
      "k = 10\n",
      "Number of queries in top 10: 1072\n",
      "Number of queries not in top 10: 328\n",
      "Evaluation results: {1: 0.5935714285714285, 5: 0.6484761904761904, 10: 0.6532862811791383}\n"
     ]
    },
    {
     "name": "stderr",
     "output_type": "stream",
     "text": [
      "\n"
     ]
    }
   ],
   "source": [
    "df_query_dev_single = experiment_single_bm25(df_collection, df_query_dev, stemmer=stemmer, k=20)\n",
    "display(df_query_dev_single.head(5))\n",
    "model_name = \"models/ms-marco-TinyBERT-L2-v2-finetuned\"\n",
    "tokenizer, model = initialize_reranker(model_name)\n",
    "df_query = rerank_with_alibaba(df_query_dev_single, df_collection, tokenizer, model, k=10, batch_size=100)\n",
    "results = evaluate_reranked_results(df_query)\n",
    "print(f\"Evaluation results: {results}\")"
   ]
  },
  {
   "cell_type": "code",
   "execution_count": 28,
   "id": "2911e865",
   "metadata": {},
   "outputs": [
    {
     "name": "stderr",
     "output_type": "stream",
     "text": [
      "                                                                            \r"
     ]
    },
    {
     "data": {
      "text/html": [
       "<div>\n",
       "<style scoped>\n",
       "    .dataframe tbody tr th:only-of-type {\n",
       "        vertical-align: middle;\n",
       "    }\n",
       "\n",
       "    .dataframe tbody tr th {\n",
       "        vertical-align: top;\n",
       "    }\n",
       "\n",
       "    .dataframe thead th {\n",
       "        text-align: right;\n",
       "    }\n",
       "</style>\n",
       "<table border=\"1\" class=\"dataframe\">\n",
       "  <thead>\n",
       "    <tr style=\"text-align: right;\">\n",
       "      <th></th>\n",
       "      <th>post_id</th>\n",
       "      <th>tweet_text</th>\n",
       "      <th>cord_uid</th>\n",
       "      <th>bm25_topk</th>\n",
       "      <th>in_topx</th>\n",
       "      <th>reranked_topk</th>\n",
       "      <th>reranked_docs</th>\n",
       "      <th>reranked_scores</th>\n",
       "    </tr>\n",
       "  </thead>\n",
       "  <tbody>\n",
       "    <tr>\n",
       "      <th>0</th>\n",
       "      <td>16</td>\n",
       "      <td>covid recovery: this study from the usa reveal...</td>\n",
       "      <td>3qvh482o</td>\n",
       "      <td>[atji1xge, mb18fj8a, 66g5lpm6, 59up4v56, gatxu...</td>\n",
       "      <td>0.0</td>\n",
       "      <td>[atji1xge, 8t2tic9n, 59up4v56, o4vvlmr4, styav...</td>\n",
       "      <td>[atji1xge, 8t2tic9n, 59up4v56, o4vvlmr4, styav...</td>\n",
       "      <td>[2.712890625, 2.529296875, 2.423828125, 1.1914...</td>\n",
       "    </tr>\n",
       "    <tr>\n",
       "      <th>1</th>\n",
       "      <td>69</td>\n",
       "      <td>\"Among 139 clients exposed to two symptomatic ...</td>\n",
       "      <td>r58aohnu</td>\n",
       "      <td>[r58aohnu, p0kg6dyz, yrowv62k, s2vckt2w, j1ucr...</td>\n",
       "      <td>1.0</td>\n",
       "      <td>[r58aohnu, 8n4zf9oo, f0kcf2y0, yrowv62k, jswlq...</td>\n",
       "      <td>[r58aohnu, 8n4zf9oo, f0kcf2y0, yrowv62k, jswlq...</td>\n",
       "      <td>[3.83984375, -0.86962890625, -1.142578125, -1....</td>\n",
       "    </tr>\n",
       "    <tr>\n",
       "      <th>2</th>\n",
       "      <td>73</td>\n",
       "      <td>I recall early on reading that researchers who...</td>\n",
       "      <td>sts48u9i</td>\n",
       "      <td>[sgo76prc, sts48u9i, tz2shoso, gruir7aw, 3xw4q...</td>\n",
       "      <td>1.0</td>\n",
       "      <td>[sts48u9i, o47v5vgw, gruir7aw, cgc0v1dg, o877u...</td>\n",
       "      <td>[sts48u9i, o47v5vgw, gruir7aw, cgc0v1dg, o877u...</td>\n",
       "      <td>[0.96044921875, 0.75927734375, 0.7197265625, 0...</td>\n",
       "    </tr>\n",
       "    <tr>\n",
       "      <th>3</th>\n",
       "      <td>93</td>\n",
       "      <td>You know you're credible when NIH website has ...</td>\n",
       "      <td>3sr2exq9</td>\n",
       "      <td>[3sr2exq9, hgpiig0g, sv48gjkk, 1cpjqav4, k0f4c...</td>\n",
       "      <td>1.0</td>\n",
       "      <td>[3sr2exq9, k0f4cwig, sv48gjkk, 8j3bb6zx, z795y...</td>\n",
       "      <td>[3sr2exq9, k0f4cwig, sv48gjkk, 8j3bb6zx, z795y...</td>\n",
       "      <td>[3.14453125, 1.6796875, 0.9404296875, 0.323730...</td>\n",
       "    </tr>\n",
       "    <tr>\n",
       "      <th>4</th>\n",
       "      <td>96</td>\n",
       "      <td>Resistance to antifungal medications is a grow...</td>\n",
       "      <td>ybwwmyqy</td>\n",
       "      <td>[3l6ipiwk, vabb2f26, ouvq2wpq, lzddnb8j, ybwwm...</td>\n",
       "      <td>1.0</td>\n",
       "      <td>[ybwwmyqy, vabb2f26, sxx3yid9, ouvq2wpq, 3l6ip...</td>\n",
       "      <td>[ybwwmyqy, vabb2f26, sxx3yid9, ouvq2wpq, 3l6ip...</td>\n",
       "      <td>[4.60546875, 3.138671875, 2.51953125, 2.341796...</td>\n",
       "    </tr>\n",
       "  </tbody>\n",
       "</table>\n",
       "</div>"
      ],
      "text/plain": [
       "   post_id                                         tweet_text  cord_uid  \\\n",
       "0       16  covid recovery: this study from the usa reveal...  3qvh482o   \n",
       "1       69  \"Among 139 clients exposed to two symptomatic ...  r58aohnu   \n",
       "2       73  I recall early on reading that researchers who...  sts48u9i   \n",
       "3       93  You know you're credible when NIH website has ...  3sr2exq9   \n",
       "4       96  Resistance to antifungal medications is a grow...  ybwwmyqy   \n",
       "\n",
       "                                           bm25_topk  in_topx  \\\n",
       "0  [atji1xge, mb18fj8a, 66g5lpm6, 59up4v56, gatxu...      0.0   \n",
       "1  [r58aohnu, p0kg6dyz, yrowv62k, s2vckt2w, j1ucr...      1.0   \n",
       "2  [sgo76prc, sts48u9i, tz2shoso, gruir7aw, 3xw4q...      1.0   \n",
       "3  [3sr2exq9, hgpiig0g, sv48gjkk, 1cpjqav4, k0f4c...      1.0   \n",
       "4  [3l6ipiwk, vabb2f26, ouvq2wpq, lzddnb8j, ybwwm...      1.0   \n",
       "\n",
       "                                       reranked_topk  \\\n",
       "0  [atji1xge, 8t2tic9n, 59up4v56, o4vvlmr4, styav...   \n",
       "1  [r58aohnu, 8n4zf9oo, f0kcf2y0, yrowv62k, jswlq...   \n",
       "2  [sts48u9i, o47v5vgw, gruir7aw, cgc0v1dg, o877u...   \n",
       "3  [3sr2exq9, k0f4cwig, sv48gjkk, 8j3bb6zx, z795y...   \n",
       "4  [ybwwmyqy, vabb2f26, sxx3yid9, ouvq2wpq, 3l6ip...   \n",
       "\n",
       "                                       reranked_docs  \\\n",
       "0  [atji1xge, 8t2tic9n, 59up4v56, o4vvlmr4, styav...   \n",
       "1  [r58aohnu, 8n4zf9oo, f0kcf2y0, yrowv62k, jswlq...   \n",
       "2  [sts48u9i, o47v5vgw, gruir7aw, cgc0v1dg, o877u...   \n",
       "3  [3sr2exq9, k0f4cwig, sv48gjkk, 8j3bb6zx, z795y...   \n",
       "4  [ybwwmyqy, vabb2f26, sxx3yid9, ouvq2wpq, 3l6ip...   \n",
       "\n",
       "                                     reranked_scores  \n",
       "0  [2.712890625, 2.529296875, 2.423828125, 1.1914...  \n",
       "1  [3.83984375, -0.86962890625, -1.142578125, -1....  \n",
       "2  [0.96044921875, 0.75927734375, 0.7197265625, 0...  \n",
       "3  [3.14453125, 1.6796875, 0.9404296875, 0.323730...  \n",
       "4  [4.60546875, 3.138671875, 2.51953125, 2.341796...  "
      ]
     },
     "metadata": {},
     "output_type": "display_data"
    },
    {
     "name": "stdout",
     "output_type": "stream",
     "text": [
      "Using GPU\n"
     ]
    },
    {
     "name": "stderr",
     "output_type": "stream",
     "text": [
      "Reranking: 100%|██████████| 1400/1400 [00:47<00:00, 29.57it/s]\n"
     ]
    },
    {
     "name": "stdout",
     "output_type": "stream",
     "text": [
      "k = 1\n",
      "Number of queries in top 1: 794\n",
      "Number of queries not in top 1: 606\n",
      "k = 5\n",
      "Number of queries in top 5: 1007\n",
      "Number of queries not in top 5: 393\n",
      "k = 10\n",
      "Number of queries in top 10: 1061\n",
      "Number of queries not in top 10: 339\n",
      "Evaluation results: {1: 0.5671428571428572, 5: 0.6254047619047619, 10: 0.6306621315192744}\n"
     ]
    }
   ],
   "source": [
    "df_query_dev_single = experiment_single_bm25(df_collection, df_query_dev, stemmer=stemmer, k=20)\n",
    "display(df_query_dev_single.head(5))\n",
    "model_name = \"cross-encoder/ms-marco-TinyBERT-L2-v2\"\n",
    "tokenizer, model = initialize_reranker(model_name)\n",
    "df_query = rerank_with_alibaba(df_query_dev_single, df_collection, tokenizer, model, k=10, batch_size=100)\n",
    "results = evaluate_reranked_results(df_query)\n",
    "print(f\"Evaluation results: {results}\")"
   ]
  },
  {
   "cell_type": "code",
   "execution_count": 29,
   "id": "d051f523",
   "metadata": {},
   "outputs": [
    {
     "name": "stderr",
     "output_type": "stream",
     "text": [
      "The `margin` parameter is deprecated. Use the `absolute_margin` and/or `relative_margin` parameter instead. Setting `absolute_margin` to `0.05`.\n"
     ]
    },
    {
     "name": "stdout",
     "output_type": "stream",
     "text": [
      "Found 12842 unique queries out of 12853 total queries.\n",
      "Found an average of 1.001 positives per query.\n"
     ]
    },
    {
     "name": "stderr",
     "output_type": "stream",
     "text": [
      "Batches: 100%|██████████| 2/2 [00:00<00:00,  3.66it/s]\n",
      "Batches: 100%|██████████| 4/4 [00:00<00:00, 25.92it/s]\n"
     ]
    },
    {
     "name": "stdout",
     "output_type": "stream",
     "text": [
      "Metric       Positive       Negative     Difference\n",
      "Count          12,853         45,823               \n",
      "Mean           0.5263         0.4702         0.1262\n",
      "Median         0.5440         0.4759         0.0969\n",
      "Std            0.1639         0.1055         0.0809\n",
      "Min           -0.0783         0.1255        -0.2308\n",
      "25%            0.4171         0.3980         0.0648\n",
      "50%            0.5440         0.4759         0.0969\n",
      "75%            0.6514         0.5476         0.1625\n",
      "Max            0.9287         0.7643         0.6667\n",
      "Skipped 493,639 potential negatives (37.32%) due to the absolute_margin of 0.05.\n",
      "Skipped 5 potential negatives (0.00%) due to the max_score of 0.8.\n",
      "Could not find enough negatives for 18442 samples (28.70%). Consider adjusting the range_max, range_min, absolute_margin and max_score parameters if you'd like to find more valid negatives.\n",
      "Setting range_max to 7 based on the provided parameters.\n",
      "Found 1399 unique queries out of 1400 total queries.\n",
      "Found an average of 1.001 positives per query.\n"
     ]
    },
    {
     "name": "stderr",
     "output_type": "stream",
     "text": [
      "Batches: 100%|██████████| 2/2 [00:00<00:00,  3.39it/s]\n",
      "Batches: 100%|██████████| 1/1 [00:00<00:00, 62.14it/s]\n"
     ]
    },
    {
     "name": "stdout",
     "output_type": "stream",
     "text": [
      "Metric       Positive       Negative     Difference\n",
      "Count           1,400          7,000               \n",
      "Mean           0.5248         0.5402        -0.0154\n",
      "Median         0.5435         0.5493        -0.0000\n",
      "Std            0.1603         0.1151         0.1361\n",
      "Min            0.0295         0.1618        -0.6029\n",
      "25%            0.4099         0.4616        -0.0925\n",
      "50%            0.5438         0.5493        -0.0000\n",
      "75%            0.6468         0.6234         0.0614\n",
      "Max            0.8905         0.8905         0.5734\n"
     ]
    },
    {
     "name": "stderr",
     "output_type": "stream",
     "text": [
      "Token indices sequence length is longer than the specified maximum sequence length for this model (624 > 512). Running this sequence through the model will result in indexing errors\n"
     ]
    },
    {
     "data": {
      "text/html": [
       "\n",
       "    <div>\n",
       "      \n",
       "      <progress value='29314' max='29314' style='width:300px; height:20px; vertical-align: middle;'></progress>\n",
       "      [29314/29314 1:29:06, Epoch 2/2]\n",
       "    </div>\n",
       "    <table border=\"1\" class=\"dataframe\">\n",
       "  <thead>\n",
       " <tr style=\"text-align: left;\">\n",
       "      <th>Step</th>\n",
       "      <th>Training Loss</th>\n",
       "      <th>Validation Loss</th>\n",
       "      <th>Dev Set Map</th>\n",
       "      <th>Dev Set Mrr@10</th>\n",
       "      <th>Dev Set Ndcg@10</th>\n",
       "      <th>Dev Set Base Map</th>\n",
       "      <th>Dev Set Base Mrr@10</th>\n",
       "      <th>Dev Set Base Ndcg@10</th>\n",
       "    </tr>\n",
       "  </thead>\n",
       "  <tbody>\n",
       "    <tr>\n",
       "      <td>5000</td>\n",
       "      <td>1.196000</td>\n",
       "      <td>0.166516</td>\n",
       "      <td>0.814619</td>\n",
       "      <td>0.814619</td>\n",
       "      <td>0.859518</td>\n",
       "      <td>0.465655</td>\n",
       "      <td>0.465655</td>\n",
       "      <td>0.491332</td>\n",
       "    </tr>\n",
       "    <tr>\n",
       "      <td>10000</td>\n",
       "      <td>1.174200</td>\n",
       "      <td>0.185563</td>\n",
       "      <td>0.824905</td>\n",
       "      <td>0.824905</td>\n",
       "      <td>0.867175</td>\n",
       "      <td>0.465655</td>\n",
       "      <td>0.465655</td>\n",
       "      <td>0.491332</td>\n",
       "    </tr>\n",
       "    <tr>\n",
       "      <td>15000</td>\n",
       "      <td>1.172500</td>\n",
       "      <td>0.127704</td>\n",
       "      <td>0.828429</td>\n",
       "      <td>0.828429</td>\n",
       "      <td>0.869995</td>\n",
       "      <td>0.465655</td>\n",
       "      <td>0.465655</td>\n",
       "      <td>0.491332</td>\n",
       "    </tr>\n",
       "    <tr>\n",
       "      <td>20000</td>\n",
       "      <td>1.160900</td>\n",
       "      <td>0.125670</td>\n",
       "      <td>0.831214</td>\n",
       "      <td>0.831214</td>\n",
       "      <td>0.872050</td>\n",
       "      <td>0.465655</td>\n",
       "      <td>0.465655</td>\n",
       "      <td>0.491332</td>\n",
       "    </tr>\n",
       "    <tr>\n",
       "      <td>25000</td>\n",
       "      <td>1.111500</td>\n",
       "      <td>0.134499</td>\n",
       "      <td>0.838464</td>\n",
       "      <td>0.838464</td>\n",
       "      <td>0.877534</td>\n",
       "      <td>0.465655</td>\n",
       "      <td>0.465655</td>\n",
       "      <td>0.491332</td>\n",
       "    </tr>\n",
       "  </tbody>\n",
       "</table><p>"
      ],
      "text/plain": [
       "<IPython.core.display.HTML object>"
      ]
     },
     "metadata": {},
     "output_type": "display_data"
    },
    {
     "name": "stderr",
     "output_type": "stream",
     "text": [
      "                                                                       \r"
     ]
    }
   ],
   "source": [
    "num_hard_negatives = 5\n",
    "num_hard_negatives_eval = 5\n",
    "train_batch_size = 4\n",
    "max_length = 512\n",
    "model_to_finetune = \"cross-encoder/ms-marco-MiniLM-L12-v2\"\n",
    "\n",
    "exp_runner = ExperimentRunner(\n",
    "    embedding_model_hard_negatives,\n",
    "    model_to_finetune,\n",
    "    train_batch_size,\n",
    "    num_epochs,\n",
    "    max_length,\n",
    "    num_hard_negatives,\n",
    "    num_hard_negatives_eval\n",
    ")\n",
    "exp_runner.run_experiment(train_dataset, dev_dataset, df_full)"
   ]
  },
  {
   "cell_type": "code",
   "execution_count": 30,
   "id": "0b0cd1e9",
   "metadata": {},
   "outputs": [
    {
     "name": "stderr",
     "output_type": "stream",
     "text": [
      "                                                                            \r"
     ]
    },
    {
     "data": {
      "text/html": [
       "<div>\n",
       "<style scoped>\n",
       "    .dataframe tbody tr th:only-of-type {\n",
       "        vertical-align: middle;\n",
       "    }\n",
       "\n",
       "    .dataframe tbody tr th {\n",
       "        vertical-align: top;\n",
       "    }\n",
       "\n",
       "    .dataframe thead th {\n",
       "        text-align: right;\n",
       "    }\n",
       "</style>\n",
       "<table border=\"1\" class=\"dataframe\">\n",
       "  <thead>\n",
       "    <tr style=\"text-align: right;\">\n",
       "      <th></th>\n",
       "      <th>post_id</th>\n",
       "      <th>tweet_text</th>\n",
       "      <th>cord_uid</th>\n",
       "      <th>bm25_topk</th>\n",
       "      <th>in_topx</th>\n",
       "      <th>reranked_topk</th>\n",
       "      <th>reranked_docs</th>\n",
       "      <th>reranked_scores</th>\n",
       "    </tr>\n",
       "  </thead>\n",
       "  <tbody>\n",
       "    <tr>\n",
       "      <th>0</th>\n",
       "      <td>16</td>\n",
       "      <td>covid recovery: this study from the usa reveal...</td>\n",
       "      <td>3qvh482o</td>\n",
       "      <td>[atji1xge, mb18fj8a, 66g5lpm6, 59up4v56, gatxu...</td>\n",
       "      <td>0.0</td>\n",
       "      <td>[atji1xge, trrg1mnw, o4vvlmr4, 8t2tic9n, dcfqv...</td>\n",
       "      <td>[atji1xge, trrg1mnw, o4vvlmr4, 8t2tic9n, dcfqv...</td>\n",
       "      <td>[5.74609375, 5.33203125, 5.13671875, 5.0078125...</td>\n",
       "    </tr>\n",
       "    <tr>\n",
       "      <th>1</th>\n",
       "      <td>69</td>\n",
       "      <td>\"Among 139 clients exposed to two symptomatic ...</td>\n",
       "      <td>r58aohnu</td>\n",
       "      <td>[r58aohnu, p0kg6dyz, yrowv62k, s2vckt2w, j1ucr...</td>\n",
       "      <td>1.0</td>\n",
       "      <td>[r58aohnu, tu1vevx9, yrowv62k, f0kcf2y0, jswlq...</td>\n",
       "      <td>[r58aohnu, tu1vevx9, yrowv62k, f0kcf2y0, jswlq...</td>\n",
       "      <td>[6.75390625, 1.083984375, 0.7802734375, 0.1711...</td>\n",
       "    </tr>\n",
       "    <tr>\n",
       "      <th>2</th>\n",
       "      <td>73</td>\n",
       "      <td>I recall early on reading that researchers who...</td>\n",
       "      <td>sts48u9i</td>\n",
       "      <td>[sgo76prc, sts48u9i, tz2shoso, gruir7aw, 3xw4q...</td>\n",
       "      <td>1.0</td>\n",
       "      <td>[sts48u9i, o47v5vgw, gruir7aw, 3xw4qjoy, o877u...</td>\n",
       "      <td>[sts48u9i, o47v5vgw, gruir7aw, 3xw4qjoy, o877u...</td>\n",
       "      <td>[-0.48095703125, -1.2470703125, -1.6162109375,...</td>\n",
       "    </tr>\n",
       "    <tr>\n",
       "      <th>3</th>\n",
       "      <td>93</td>\n",
       "      <td>You know you're credible when NIH website has ...</td>\n",
       "      <td>3sr2exq9</td>\n",
       "      <td>[3sr2exq9, hgpiig0g, sv48gjkk, 1cpjqav4, k0f4c...</td>\n",
       "      <td>0.5</td>\n",
       "      <td>[bn22k0p3, 3sr2exq9, k0f4cwig, sv48gjkk, jbmzv...</td>\n",
       "      <td>[bn22k0p3, 3sr2exq9, k0f4cwig, sv48gjkk, jbmzv...</td>\n",
       "      <td>[-1.2412109375, -1.251953125, -1.4345703125, -...</td>\n",
       "    </tr>\n",
       "    <tr>\n",
       "      <th>4</th>\n",
       "      <td>96</td>\n",
       "      <td>Resistance to antifungal medications is a grow...</td>\n",
       "      <td>ybwwmyqy</td>\n",
       "      <td>[3l6ipiwk, vabb2f26, ouvq2wpq, lzddnb8j, ybwwm...</td>\n",
       "      <td>0.5</td>\n",
       "      <td>[vabb2f26, ybwwmyqy, 3l6ipiwk, ouvq2wpq, sxx3y...</td>\n",
       "      <td>[vabb2f26, ybwwmyqy, 3l6ipiwk, ouvq2wpq, sxx3y...</td>\n",
       "      <td>[4.51171875, 4.36328125, 4.16015625, 2.578125,...</td>\n",
       "    </tr>\n",
       "  </tbody>\n",
       "</table>\n",
       "</div>"
      ],
      "text/plain": [
       "   post_id                                         tweet_text  cord_uid  \\\n",
       "0       16  covid recovery: this study from the usa reveal...  3qvh482o   \n",
       "1       69  \"Among 139 clients exposed to two symptomatic ...  r58aohnu   \n",
       "2       73  I recall early on reading that researchers who...  sts48u9i   \n",
       "3       93  You know you're credible when NIH website has ...  3sr2exq9   \n",
       "4       96  Resistance to antifungal medications is a grow...  ybwwmyqy   \n",
       "\n",
       "                                           bm25_topk  in_topx  \\\n",
       "0  [atji1xge, mb18fj8a, 66g5lpm6, 59up4v56, gatxu...      0.0   \n",
       "1  [r58aohnu, p0kg6dyz, yrowv62k, s2vckt2w, j1ucr...      1.0   \n",
       "2  [sgo76prc, sts48u9i, tz2shoso, gruir7aw, 3xw4q...      1.0   \n",
       "3  [3sr2exq9, hgpiig0g, sv48gjkk, 1cpjqav4, k0f4c...      0.5   \n",
       "4  [3l6ipiwk, vabb2f26, ouvq2wpq, lzddnb8j, ybwwm...      0.5   \n",
       "\n",
       "                                       reranked_topk  \\\n",
       "0  [atji1xge, trrg1mnw, o4vvlmr4, 8t2tic9n, dcfqv...   \n",
       "1  [r58aohnu, tu1vevx9, yrowv62k, f0kcf2y0, jswlq...   \n",
       "2  [sts48u9i, o47v5vgw, gruir7aw, 3xw4qjoy, o877u...   \n",
       "3  [bn22k0p3, 3sr2exq9, k0f4cwig, sv48gjkk, jbmzv...   \n",
       "4  [vabb2f26, ybwwmyqy, 3l6ipiwk, ouvq2wpq, sxx3y...   \n",
       "\n",
       "                                       reranked_docs  \\\n",
       "0  [atji1xge, trrg1mnw, o4vvlmr4, 8t2tic9n, dcfqv...   \n",
       "1  [r58aohnu, tu1vevx9, yrowv62k, f0kcf2y0, jswlq...   \n",
       "2  [sts48u9i, o47v5vgw, gruir7aw, 3xw4qjoy, o877u...   \n",
       "3  [bn22k0p3, 3sr2exq9, k0f4cwig, sv48gjkk, jbmzv...   \n",
       "4  [vabb2f26, ybwwmyqy, 3l6ipiwk, ouvq2wpq, sxx3y...   \n",
       "\n",
       "                                     reranked_scores  \n",
       "0  [5.74609375, 5.33203125, 5.13671875, 5.0078125...  \n",
       "1  [6.75390625, 1.083984375, 0.7802734375, 0.1711...  \n",
       "2  [-0.48095703125, -1.2470703125, -1.6162109375,...  \n",
       "3  [-1.2412109375, -1.251953125, -1.4345703125, -...  \n",
       "4  [4.51171875, 4.36328125, 4.16015625, 2.578125,...  "
      ]
     },
     "metadata": {},
     "output_type": "display_data"
    },
    {
     "name": "stdout",
     "output_type": "stream",
     "text": [
      "Using GPU\n"
     ]
    },
    {
     "name": "stderr",
     "output_type": "stream",
     "text": [
      "Reranking: 100%|██████████| 1400/1400 [01:41<00:00, 13.86it/s]"
     ]
    },
    {
     "name": "stdout",
     "output_type": "stream",
     "text": [
      "k = 1\n",
      "Number of queries in top 1: 931\n",
      "Number of queries not in top 1: 469\n",
      "k = 5\n",
      "Number of queries in top 5: 1066\n",
      "Number of queries not in top 5: 334\n",
      "k = 10\n",
      "Number of queries in top 10: 1094\n",
      "Number of queries not in top 10: 306\n",
      "Evaluation results: {1: 0.665, 5: 0.7031785714285714, 10: 0.7058784013605442}\n"
     ]
    },
    {
     "name": "stderr",
     "output_type": "stream",
     "text": [
      "\n"
     ]
    }
   ],
   "source": [
    "df_query_dev_single = experiment_single_bm25(df_collection, df_query_dev, stemmer=stemmer, k=20)\n",
    "display(df_query_dev_single.head(5))\n",
    "model_name = \"models/ms-marco-MiniLM-L12-v2-finetuned\"\n",
    "tokenizer, model = initialize_reranker(model_name)\n",
    "df_query = rerank_with_alibaba(df_query_dev_single, df_collection, tokenizer, model, k=10, batch_size=100)\n",
    "df_query.to_parquet(\"data/reranked_results_miniLM12_finetuned.parquet\")\n",
    "results = evaluate_reranked_results(df_query)\n",
    "print(f\"Evaluation results: {results}\")"
   ]
  },
  {
   "cell_type": "code",
   "execution_count": 31,
   "id": "0c19e0f1",
   "metadata": {},
   "outputs": [
    {
     "name": "stderr",
     "output_type": "stream",
     "text": [
      "                                                                            \r"
     ]
    },
    {
     "data": {
      "text/html": [
       "<div>\n",
       "<style scoped>\n",
       "    .dataframe tbody tr th:only-of-type {\n",
       "        vertical-align: middle;\n",
       "    }\n",
       "\n",
       "    .dataframe tbody tr th {\n",
       "        vertical-align: top;\n",
       "    }\n",
       "\n",
       "    .dataframe thead th {\n",
       "        text-align: right;\n",
       "    }\n",
       "</style>\n",
       "<table border=\"1\" class=\"dataframe\">\n",
       "  <thead>\n",
       "    <tr style=\"text-align: right;\">\n",
       "      <th></th>\n",
       "      <th>post_id</th>\n",
       "      <th>tweet_text</th>\n",
       "      <th>cord_uid</th>\n",
       "      <th>bm25_topk</th>\n",
       "      <th>in_topx</th>\n",
       "      <th>reranked_topk</th>\n",
       "      <th>reranked_docs</th>\n",
       "      <th>reranked_scores</th>\n",
       "    </tr>\n",
       "  </thead>\n",
       "  <tbody>\n",
       "    <tr>\n",
       "      <th>0</th>\n",
       "      <td>16</td>\n",
       "      <td>covid recovery: this study from the usa reveal...</td>\n",
       "      <td>3qvh482o</td>\n",
       "      <td>[atji1xge, mb18fj8a, 66g5lpm6, 59up4v56, gatxu...</td>\n",
       "      <td>0.0</td>\n",
       "      <td>[59up4v56, 8t2tic9n, o4vvlmr4, mb18fj8a, 5hxsa...</td>\n",
       "      <td>[59up4v56, 8t2tic9n, o4vvlmr4, mb18fj8a, 5hxsa...</td>\n",
       "      <td>[1.8076171875, 1.6572265625, 1.6083984375, 1.0...</td>\n",
       "    </tr>\n",
       "    <tr>\n",
       "      <th>1</th>\n",
       "      <td>69</td>\n",
       "      <td>\"Among 139 clients exposed to two symptomatic ...</td>\n",
       "      <td>r58aohnu</td>\n",
       "      <td>[r58aohnu, p0kg6dyz, yrowv62k, s2vckt2w, j1ucr...</td>\n",
       "      <td>1.0</td>\n",
       "      <td>[r58aohnu, 8n4zf9oo, yrowv62k, j1ucrhd7, f0kcf...</td>\n",
       "      <td>[r58aohnu, 8n4zf9oo, yrowv62k, j1ucrhd7, f0kcf...</td>\n",
       "      <td>[3.283203125, -3.474609375, -3.501953125, -3.7...</td>\n",
       "    </tr>\n",
       "    <tr>\n",
       "      <th>2</th>\n",
       "      <td>73</td>\n",
       "      <td>I recall early on reading that researchers who...</td>\n",
       "      <td>sts48u9i</td>\n",
       "      <td>[sgo76prc, sts48u9i, tz2shoso, gruir7aw, 3xw4q...</td>\n",
       "      <td>1.0</td>\n",
       "      <td>[sts48u9i, o47v5vgw, gruir7aw, o877uul1, vtcq6...</td>\n",
       "      <td>[sts48u9i, o47v5vgw, gruir7aw, o877uul1, vtcq6...</td>\n",
       "      <td>[3.40234375, 1.32421875, 1.22265625, 0.5068359...</td>\n",
       "    </tr>\n",
       "    <tr>\n",
       "      <th>3</th>\n",
       "      <td>93</td>\n",
       "      <td>You know you're credible when NIH website has ...</td>\n",
       "      <td>3sr2exq9</td>\n",
       "      <td>[3sr2exq9, hgpiig0g, sv48gjkk, 1cpjqav4, k0f4c...</td>\n",
       "      <td>1.0</td>\n",
       "      <td>[3sr2exq9, k0f4cwig, sv48gjkk, 8j3bb6zx, z795y...</td>\n",
       "      <td>[3sr2exq9, k0f4cwig, sv48gjkk, 8j3bb6zx, z795y...</td>\n",
       "      <td>[3.103515625, 1.1416015625, 0.91064453125, 0.3...</td>\n",
       "    </tr>\n",
       "    <tr>\n",
       "      <th>4</th>\n",
       "      <td>96</td>\n",
       "      <td>Resistance to antifungal medications is a grow...</td>\n",
       "      <td>ybwwmyqy</td>\n",
       "      <td>[3l6ipiwk, vabb2f26, ouvq2wpq, lzddnb8j, ybwwm...</td>\n",
       "      <td>1.0</td>\n",
       "      <td>[ybwwmyqy, vabb2f26, 3l6ipiwk, lzddnb8j, ouvq2...</td>\n",
       "      <td>[ybwwmyqy, vabb2f26, 3l6ipiwk, lzddnb8j, ouvq2...</td>\n",
       "      <td>[3.017578125, 1.578125, 1.1640625, 0.990234375...</td>\n",
       "    </tr>\n",
       "  </tbody>\n",
       "</table>\n",
       "</div>"
      ],
      "text/plain": [
       "   post_id                                         tweet_text  cord_uid  \\\n",
       "0       16  covid recovery: this study from the usa reveal...  3qvh482o   \n",
       "1       69  \"Among 139 clients exposed to two symptomatic ...  r58aohnu   \n",
       "2       73  I recall early on reading that researchers who...  sts48u9i   \n",
       "3       93  You know you're credible when NIH website has ...  3sr2exq9   \n",
       "4       96  Resistance to antifungal medications is a grow...  ybwwmyqy   \n",
       "\n",
       "                                           bm25_topk  in_topx  \\\n",
       "0  [atji1xge, mb18fj8a, 66g5lpm6, 59up4v56, gatxu...      0.0   \n",
       "1  [r58aohnu, p0kg6dyz, yrowv62k, s2vckt2w, j1ucr...      1.0   \n",
       "2  [sgo76prc, sts48u9i, tz2shoso, gruir7aw, 3xw4q...      1.0   \n",
       "3  [3sr2exq9, hgpiig0g, sv48gjkk, 1cpjqav4, k0f4c...      1.0   \n",
       "4  [3l6ipiwk, vabb2f26, ouvq2wpq, lzddnb8j, ybwwm...      1.0   \n",
       "\n",
       "                                       reranked_topk  \\\n",
       "0  [59up4v56, 8t2tic9n, o4vvlmr4, mb18fj8a, 5hxsa...   \n",
       "1  [r58aohnu, 8n4zf9oo, yrowv62k, j1ucrhd7, f0kcf...   \n",
       "2  [sts48u9i, o47v5vgw, gruir7aw, o877uul1, vtcq6...   \n",
       "3  [3sr2exq9, k0f4cwig, sv48gjkk, 8j3bb6zx, z795y...   \n",
       "4  [ybwwmyqy, vabb2f26, 3l6ipiwk, lzddnb8j, ouvq2...   \n",
       "\n",
       "                                       reranked_docs  \\\n",
       "0  [59up4v56, 8t2tic9n, o4vvlmr4, mb18fj8a, 5hxsa...   \n",
       "1  [r58aohnu, 8n4zf9oo, yrowv62k, j1ucrhd7, f0kcf...   \n",
       "2  [sts48u9i, o47v5vgw, gruir7aw, o877uul1, vtcq6...   \n",
       "3  [3sr2exq9, k0f4cwig, sv48gjkk, 8j3bb6zx, z795y...   \n",
       "4  [ybwwmyqy, vabb2f26, 3l6ipiwk, lzddnb8j, ouvq2...   \n",
       "\n",
       "                                     reranked_scores  \n",
       "0  [1.8076171875, 1.6572265625, 1.6083984375, 1.0...  \n",
       "1  [3.283203125, -3.474609375, -3.501953125, -3.7...  \n",
       "2  [3.40234375, 1.32421875, 1.22265625, 0.5068359...  \n",
       "3  [3.103515625, 1.1416015625, 0.91064453125, 0.3...  \n",
       "4  [3.017578125, 1.578125, 1.1640625, 0.990234375...  "
      ]
     },
     "metadata": {},
     "output_type": "display_data"
    },
    {
     "name": "stdout",
     "output_type": "stream",
     "text": [
      "Using GPU\n"
     ]
    },
    {
     "name": "stderr",
     "output_type": "stream",
     "text": [
      "Reranking: 100%|██████████| 1400/1400 [01:41<00:00, 13.78it/s]"
     ]
    },
    {
     "name": "stdout",
     "output_type": "stream",
     "text": [
      "k = 1\n",
      "Number of queries in top 1: 785\n",
      "Number of queries not in top 1: 615\n",
      "k = 5\n",
      "Number of queries in top 5: 987\n",
      "Number of queries not in top 5: 413\n",
      "k = 10\n",
      "Number of queries in top 10: 1045\n",
      "Number of queries not in top 10: 355\n",
      "Evaluation results: {1: 0.5607142857142857, 5: 0.6167857142857143, 10: 0.6224671201814059}\n"
     ]
    },
    {
     "name": "stderr",
     "output_type": "stream",
     "text": [
      "\n"
     ]
    }
   ],
   "source": [
    "df_query_dev_single = experiment_single_bm25(df_collection, df_query_dev, stemmer=stemmer, k=20)\n",
    "display(df_query_dev_single.head(5))\n",
    "model_name = \"cross-encoder/ms-marco-MiniLM-L12-v2\"\n",
    "tokenizer, model = initialize_reranker(model_name)\n",
    "df_query = rerank_with_alibaba(df_query_dev_single, df_collection, tokenizer, model, k=10, batch_size=100)\n",
    "results = evaluate_reranked_results(df_query)\n",
    "print(f\"Evaluation results: {results}\")"
   ]
  },
  {
   "cell_type": "code",
   "execution_count": 32,
   "id": "64dcc1a0",
   "metadata": {},
   "outputs": [
    {
     "name": "stderr",
     "output_type": "stream",
     "text": [
      "The `margin` parameter is deprecated. Use the `absolute_margin` and/or `relative_margin` parameter instead. Setting `absolute_margin` to `0.05`.\n"
     ]
    },
    {
     "name": "stdout",
     "output_type": "stream",
     "text": [
      "Found 12842 unique queries out of 12853 total queries.\n",
      "Found an average of 1.001 positives per query.\n"
     ]
    },
    {
     "name": "stderr",
     "output_type": "stream",
     "text": [
      "Batches: 100%|██████████| 2/2 [00:00<00:00,  3.65it/s]\n",
      "Batches: 100%|██████████| 4/4 [00:00<00:00, 26.53it/s]\n"
     ]
    },
    {
     "name": "stdout",
     "output_type": "stream",
     "text": [
      "Metric       Positive       Negative     Difference\n",
      "Count          12,853         45,823               \n",
      "Mean           0.5263         0.4702         0.1262\n",
      "Median         0.5440         0.4759         0.0969\n",
      "Std            0.1639         0.1055         0.0809\n",
      "Min           -0.0783         0.1255        -0.2308\n",
      "25%            0.4171         0.3980         0.0648\n",
      "50%            0.5440         0.4759         0.0969\n",
      "75%            0.6514         0.5476         0.1625\n",
      "Max            0.9287         0.7643         0.6667\n",
      "Skipped 493,639 potential negatives (37.32%) due to the absolute_margin of 0.05.\n",
      "Skipped 5 potential negatives (0.00%) due to the max_score of 0.8.\n",
      "Could not find enough negatives for 18442 samples (28.70%). Consider adjusting the range_max, range_min, absolute_margin and max_score parameters if you'd like to find more valid negatives.\n",
      "Setting range_max to 7 based on the provided parameters.\n",
      "Found 1399 unique queries out of 1400 total queries.\n",
      "Found an average of 1.001 positives per query.\n"
     ]
    },
    {
     "name": "stderr",
     "output_type": "stream",
     "text": [
      "Batches: 100%|██████████| 2/2 [00:00<00:00,  3.27it/s]\n",
      "Batches: 100%|██████████| 1/1 [00:00<00:00, 55.06it/s]\n"
     ]
    },
    {
     "name": "stdout",
     "output_type": "stream",
     "text": [
      "Metric       Positive       Negative     Difference\n",
      "Count           1,400          7,000               \n",
      "Mean           0.5248         0.5402        -0.0154\n",
      "Median         0.5435         0.5493        -0.0000\n",
      "Std            0.1603         0.1151         0.1361\n",
      "Min            0.0295         0.1618        -0.6029\n",
      "25%            0.4099         0.4616        -0.0925\n",
      "50%            0.5438         0.5493        -0.0000\n",
      "75%            0.6468         0.6234         0.0614\n",
      "Max            0.8905         0.8905         0.5734\n"
     ]
    },
    {
     "name": "stderr",
     "output_type": "stream",
     "text": [
      "Token indices sequence length is longer than the specified maximum sequence length for this model (624 > 512). Running this sequence through the model will result in indexing errors\n"
     ]
    },
    {
     "data": {
      "text/html": [
       "\n",
       "    <div>\n",
       "      \n",
       "      <progress value='14658' max='14658' style='width:300px; height:20px; vertical-align: middle;'></progress>\n",
       "      [14658/14658 1:01:41, Epoch 2/2]\n",
       "    </div>\n",
       "    <table border=\"1\" class=\"dataframe\">\n",
       "  <thead>\n",
       " <tr style=\"text-align: left;\">\n",
       "      <th>Step</th>\n",
       "      <th>Training Loss</th>\n",
       "      <th>Validation Loss</th>\n",
       "      <th>Dev Set Map</th>\n",
       "      <th>Dev Set Mrr@10</th>\n",
       "      <th>Dev Set Ndcg@10</th>\n",
       "      <th>Dev Set Base Map</th>\n",
       "      <th>Dev Set Base Mrr@10</th>\n",
       "      <th>Dev Set Base Ndcg@10</th>\n",
       "    </tr>\n",
       "  </thead>\n",
       "  <tbody>\n",
       "    <tr>\n",
       "      <td>2500</td>\n",
       "      <td>1.492300</td>\n",
       "      <td>0.175127</td>\n",
       "      <td>0.808929</td>\n",
       "      <td>0.808929</td>\n",
       "      <td>0.855300</td>\n",
       "      <td>0.465655</td>\n",
       "      <td>0.465655</td>\n",
       "      <td>0.491332</td>\n",
       "    </tr>\n",
       "    <tr>\n",
       "      <td>5000</td>\n",
       "      <td>1.485600</td>\n",
       "      <td>0.313195</td>\n",
       "      <td>0.822571</td>\n",
       "      <td>0.822571</td>\n",
       "      <td>0.865500</td>\n",
       "      <td>0.465655</td>\n",
       "      <td>0.465655</td>\n",
       "      <td>0.491332</td>\n",
       "    </tr>\n",
       "    <tr>\n",
       "      <td>7500</td>\n",
       "      <td>1.488300</td>\n",
       "      <td>0.253402</td>\n",
       "      <td>0.827405</td>\n",
       "      <td>0.827405</td>\n",
       "      <td>0.869210</td>\n",
       "      <td>0.465655</td>\n",
       "      <td>0.465655</td>\n",
       "      <td>0.491332</td>\n",
       "    </tr>\n",
       "    <tr>\n",
       "      <td>10000</td>\n",
       "      <td>1.471900</td>\n",
       "      <td>0.196620</td>\n",
       "      <td>0.834333</td>\n",
       "      <td>0.834333</td>\n",
       "      <td>0.874425</td>\n",
       "      <td>0.465655</td>\n",
       "      <td>0.465655</td>\n",
       "      <td>0.491332</td>\n",
       "    </tr>\n",
       "    <tr>\n",
       "      <td>12500</td>\n",
       "      <td>1.440500</td>\n",
       "      <td>0.217848</td>\n",
       "      <td>0.838333</td>\n",
       "      <td>0.838333</td>\n",
       "      <td>0.877416</td>\n",
       "      <td>0.465655</td>\n",
       "      <td>0.465655</td>\n",
       "      <td>0.491332</td>\n",
       "    </tr>\n",
       "  </tbody>\n",
       "</table><p>"
      ],
      "text/plain": [
       "<IPython.core.display.HTML object>"
      ]
     },
     "metadata": {},
     "output_type": "display_data"
    },
    {
     "name": "stderr",
     "output_type": "stream",
     "text": [
      "                                                                       \r"
     ]
    }
   ],
   "source": [
    "num_hard_negatives = 5\n",
    "num_hard_negatives_eval = 5\n",
    "train_batch_size = 8\n",
    "max_length = 512\n",
    "model_to_finetune = \"cross-encoder/ms-marco-MiniLM-L6-v2\"\n",
    "\n",
    "exp_runner = ExperimentRunner(\n",
    "    embedding_model_hard_negatives,\n",
    "    model_to_finetune,\n",
    "    train_batch_size,\n",
    "    num_epochs,\n",
    "    max_length,\n",
    "    num_hard_negatives,\n",
    "    num_hard_negatives_eval\n",
    ")\n",
    "exp_runner.run_experiment(train_dataset, dev_dataset, df_full)"
   ]
  },
  {
   "cell_type": "code",
   "execution_count": 33,
   "id": "5f8f9fef",
   "metadata": {},
   "outputs": [
    {
     "name": "stderr",
     "output_type": "stream",
     "text": [
      "The `margin` parameter is deprecated. Use the `absolute_margin` and/or `relative_margin` parameter instead. Setting `absolute_margin` to `0.05`.\n"
     ]
    },
    {
     "name": "stdout",
     "output_type": "stream",
     "text": [
      "Found 12842 unique queries out of 12853 total queries.\n",
      "Found an average of 1.001 positives per query.\n"
     ]
    },
    {
     "name": "stderr",
     "output_type": "stream",
     "text": [
      "Batches: 100%|██████████| 2/2 [00:00<00:00,  3.73it/s]\n",
      "Batches: 100%|██████████| 4/4 [00:00<00:00, 28.02it/s]\n"
     ]
    },
    {
     "name": "stdout",
     "output_type": "stream",
     "text": [
      "Metric       Positive       Negative     Difference\n",
      "Count          12,853         45,823               \n",
      "Mean           0.5263         0.4702         0.1262\n",
      "Median         0.5440         0.4759         0.0969\n",
      "Std            0.1639         0.1055         0.0809\n",
      "Min           -0.0783         0.1255        -0.2308\n",
      "25%            0.4171         0.3980         0.0648\n",
      "50%            0.5440         0.4759         0.0969\n",
      "75%            0.6514         0.5476         0.1625\n",
      "Max            0.9287         0.7643         0.6667\n",
      "Skipped 493,639 potential negatives (37.32%) due to the absolute_margin of 0.05.\n",
      "Skipped 5 potential negatives (0.00%) due to the max_score of 0.8.\n",
      "Could not find enough negatives for 18442 samples (28.70%). Consider adjusting the range_max, range_min, absolute_margin and max_score parameters if you'd like to find more valid negatives.\n",
      "Setting range_max to 7 based on the provided parameters.\n",
      "Found 1399 unique queries out of 1400 total queries.\n",
      "Found an average of 1.001 positives per query.\n"
     ]
    },
    {
     "name": "stderr",
     "output_type": "stream",
     "text": [
      "Batches: 100%|██████████| 2/2 [00:00<00:00,  3.37it/s]\n",
      "Batches: 100%|██████████| 1/1 [00:00<00:00, 61.82it/s]\n"
     ]
    },
    {
     "name": "stdout",
     "output_type": "stream",
     "text": [
      "Metric       Positive       Negative     Difference\n",
      "Count           1,400          7,000               \n",
      "Mean           0.5248         0.5402        -0.0154\n",
      "Median         0.5435         0.5493        -0.0000\n",
      "Std            0.1603         0.1151         0.1361\n",
      "Min            0.0295         0.1618        -0.6029\n",
      "25%            0.4099         0.4616        -0.0925\n",
      "50%            0.5438         0.5493        -0.0000\n",
      "75%            0.6468         0.6234         0.0614\n",
      "Max            0.8905         0.8905         0.5734\n"
     ]
    },
    {
     "name": "stderr",
     "output_type": "stream",
     "text": [
      "Token indices sequence length is longer than the specified maximum sequence length for this model (624 > 512). Running this sequence through the model will result in indexing errors\n"
     ]
    },
    {
     "data": {
      "text/html": [
       "\n",
       "    <div>\n",
       "      \n",
       "      <progress value='58626' max='58626' style='width:300px; height:20px; vertical-align: middle;'></progress>\n",
       "      [58626/58626 2:53:15, Epoch 2/2]\n",
       "    </div>\n",
       "    <table border=\"1\" class=\"dataframe\">\n",
       "  <thead>\n",
       " <tr style=\"text-align: left;\">\n",
       "      <th>Step</th>\n",
       "      <th>Training Loss</th>\n",
       "      <th>Validation Loss</th>\n",
       "      <th>Dev Set Map</th>\n",
       "      <th>Dev Set Mrr@10</th>\n",
       "      <th>Dev Set Ndcg@10</th>\n",
       "      <th>Dev Set Base Map</th>\n",
       "      <th>Dev Set Base Mrr@10</th>\n",
       "      <th>Dev Set Base Ndcg@10</th>\n",
       "    </tr>\n",
       "  </thead>\n",
       "  <tbody>\n",
       "    <tr>\n",
       "      <td>10000</td>\n",
       "      <td>0.649500</td>\n",
       "      <td>0.072873</td>\n",
       "      <td>0.775345</td>\n",
       "      <td>0.775345</td>\n",
       "      <td>0.829819</td>\n",
       "      <td>0.465655</td>\n",
       "      <td>0.465655</td>\n",
       "      <td>0.491332</td>\n",
       "    </tr>\n",
       "    <tr>\n",
       "      <td>20000</td>\n",
       "      <td>0.682700</td>\n",
       "      <td>0.687636</td>\n",
       "      <td>0.644940</td>\n",
       "      <td>0.644940</td>\n",
       "      <td>0.731560</td>\n",
       "      <td>0.465655</td>\n",
       "      <td>0.465655</td>\n",
       "      <td>0.491332</td>\n",
       "    </tr>\n",
       "    <tr>\n",
       "      <td>30000</td>\n",
       "      <td>0.661800</td>\n",
       "      <td>0.398979</td>\n",
       "      <td>0.413202</td>\n",
       "      <td>0.413321</td>\n",
       "      <td>0.554605</td>\n",
       "      <td>0.465655</td>\n",
       "      <td>0.465655</td>\n",
       "      <td>0.491332</td>\n",
       "    </tr>\n",
       "    <tr>\n",
       "      <td>40000</td>\n",
       "      <td>0.621900</td>\n",
       "      <td>0.069230</td>\n",
       "      <td>0.749655</td>\n",
       "      <td>0.749655</td>\n",
       "      <td>0.810180</td>\n",
       "      <td>0.465655</td>\n",
       "      <td>0.465655</td>\n",
       "      <td>0.491332</td>\n",
       "    </tr>\n",
       "    <tr>\n",
       "      <td>50000</td>\n",
       "      <td>0.601500</td>\n",
       "      <td>0.054134</td>\n",
       "      <td>0.762869</td>\n",
       "      <td>0.762869</td>\n",
       "      <td>0.820240</td>\n",
       "      <td>0.465655</td>\n",
       "      <td>0.465655</td>\n",
       "      <td>0.491332</td>\n",
       "    </tr>\n",
       "  </tbody>\n",
       "</table><p>"
      ],
      "text/plain": [
       "<IPython.core.display.HTML object>"
      ]
     },
     "metadata": {},
     "output_type": "display_data"
    },
    {
     "name": "stderr",
     "output_type": "stream",
     "text": [
      "                                                                       \r"
     ]
    }
   ],
   "source": [
    "num_hard_negatives = 5\n",
    "num_hard_negatives_eval = 5\n",
    "train_batch_size = 2\n",
    "max_length = 512\n",
    "model_to_finetune = \"cross-encoder/ms-marco-electra-base\"\n",
    "\n",
    "exp_runner = ExperimentRunner(\n",
    "    embedding_model_hard_negatives,\n",
    "    model_to_finetune,\n",
    "    train_batch_size,\n",
    "    num_epochs,\n",
    "    max_length,\n",
    "    num_hard_negatives,\n",
    "    num_hard_negatives_eval\n",
    ")\n",
    "exp_runner.run_experiment(train_dataset, dev_dataset, df_full)"
   ]
  },
  {
   "cell_type": "code",
   "execution_count": 34,
   "id": "be5120df",
   "metadata": {},
   "outputs": [
    {
     "name": "stderr",
     "output_type": "stream",
     "text": [
      "The `margin` parameter is deprecated. Use the `absolute_margin` and/or `relative_margin` parameter instead. Setting `absolute_margin` to `0.05`.\n"
     ]
    },
    {
     "name": "stdout",
     "output_type": "stream",
     "text": [
      "Found 12842 unique queries out of 12853 total queries.\n",
      "Found an average of 1.001 positives per query.\n"
     ]
    },
    {
     "name": "stderr",
     "output_type": "stream",
     "text": [
      "Batches: 100%|██████████| 2/2 [00:00<00:00,  3.69it/s]\n",
      "Batches: 100%|██████████| 4/4 [00:00<00:00, 28.15it/s]\n"
     ]
    },
    {
     "name": "stdout",
     "output_type": "stream",
     "text": [
      "Metric       Positive       Negative     Difference\n",
      "Count          12,853         45,823               \n",
      "Mean           0.5263         0.4702         0.1262\n",
      "Median         0.5440         0.4759         0.0969\n",
      "Std            0.1639         0.1055         0.0809\n",
      "Min           -0.0783         0.1255        -0.2308\n",
      "25%            0.4171         0.3980         0.0648\n",
      "50%            0.5440         0.4759         0.0969\n",
      "75%            0.6514         0.5476         0.1625\n",
      "Max            0.9287         0.7643         0.6667\n",
      "Skipped 493,639 potential negatives (37.32%) due to the absolute_margin of 0.05.\n",
      "Skipped 5 potential negatives (0.00%) due to the max_score of 0.8.\n",
      "Could not find enough negatives for 18442 samples (28.70%). Consider adjusting the range_max, range_min, absolute_margin and max_score parameters if you'd like to find more valid negatives.\n",
      "Setting range_max to 7 based on the provided parameters.\n",
      "Found 1399 unique queries out of 1400 total queries.\n",
      "Found an average of 1.001 positives per query.\n"
     ]
    },
    {
     "name": "stderr",
     "output_type": "stream",
     "text": [
      "Batches: 100%|██████████| 2/2 [00:00<00:00,  3.38it/s]\n",
      "Batches: 100%|██████████| 1/1 [00:00<00:00, 58.83it/s]\n"
     ]
    },
    {
     "name": "stdout",
     "output_type": "stream",
     "text": [
      "Metric       Positive       Negative     Difference\n",
      "Count           1,400          7,000               \n",
      "Mean           0.5248         0.5402        -0.0154\n",
      "Median         0.5435         0.5493        -0.0000\n",
      "Std            0.1603         0.1151         0.1361\n",
      "Min            0.0295         0.1618        -0.6029\n",
      "25%            0.4099         0.4616        -0.0925\n",
      "50%            0.5438         0.5493        -0.0000\n",
      "75%            0.6468         0.6234         0.0614\n",
      "Max            0.8905         0.8905         0.5734\n"
     ]
    },
    {
     "name": "stderr",
     "output_type": "stream",
     "text": [
      "Token indices sequence length is longer than the specified maximum sequence length for this model (584 > 512). Running this sequence through the model will result in indexing errors\n"
     ]
    },
    {
     "data": {
      "text/html": [
       "\n",
       "    <div>\n",
       "      \n",
       "      <progress value='117252' max='117252' style='width:300px; height:20px; vertical-align: middle;'></progress>\n",
       "      [117252/117252 2:50:15, Epoch 2/2]\n",
       "    </div>\n",
       "    <table border=\"1\" class=\"dataframe\">\n",
       "  <thead>\n",
       " <tr style=\"text-align: left;\">\n",
       "      <th>Step</th>\n",
       "      <th>Training Loss</th>\n",
       "      <th>Validation Loss</th>\n",
       "      <th>Dev Set Map</th>\n",
       "      <th>Dev Set Mrr@10</th>\n",
       "      <th>Dev Set Ndcg@10</th>\n",
       "      <th>Dev Set Base Map</th>\n",
       "      <th>Dev Set Base Mrr@10</th>\n",
       "      <th>Dev Set Base Ndcg@10</th>\n",
       "    </tr>\n",
       "  </thead>\n",
       "  <tbody>\n",
       "    <tr>\n",
       "      <td>20000</td>\n",
       "      <td>0.000000</td>\n",
       "      <td>0.000000</td>\n",
       "      <td>0.867274</td>\n",
       "      <td>0.867274</td>\n",
       "      <td>0.899855</td>\n",
       "      <td>0.465655</td>\n",
       "      <td>0.465655</td>\n",
       "      <td>0.491332</td>\n",
       "    </tr>\n",
       "    <tr>\n",
       "      <td>40000</td>\n",
       "      <td>0.000000</td>\n",
       "      <td>0.000000</td>\n",
       "      <td>0.867274</td>\n",
       "      <td>0.867274</td>\n",
       "      <td>0.899855</td>\n",
       "      <td>0.465655</td>\n",
       "      <td>0.465655</td>\n",
       "      <td>0.491332</td>\n",
       "    </tr>\n",
       "    <tr>\n",
       "      <td>60000</td>\n",
       "      <td>0.000000</td>\n",
       "      <td>0.000000</td>\n",
       "      <td>0.867274</td>\n",
       "      <td>0.867274</td>\n",
       "      <td>0.899855</td>\n",
       "      <td>0.465655</td>\n",
       "      <td>0.465655</td>\n",
       "      <td>0.491332</td>\n",
       "    </tr>\n",
       "    <tr>\n",
       "      <td>80000</td>\n",
       "      <td>0.000000</td>\n",
       "      <td>0.000000</td>\n",
       "      <td>0.867274</td>\n",
       "      <td>0.867274</td>\n",
       "      <td>0.899855</td>\n",
       "      <td>0.465655</td>\n",
       "      <td>0.465655</td>\n",
       "      <td>0.491332</td>\n",
       "    </tr>\n",
       "    <tr>\n",
       "      <td>100000</td>\n",
       "      <td>0.000000</td>\n",
       "      <td>0.000000</td>\n",
       "      <td>0.867274</td>\n",
       "      <td>0.867274</td>\n",
       "      <td>0.899855</td>\n",
       "      <td>0.465655</td>\n",
       "      <td>0.465655</td>\n",
       "      <td>0.491332</td>\n",
       "    </tr>\n",
       "  </tbody>\n",
       "</table><p>"
      ],
      "text/plain": [
       "<IPython.core.display.HTML object>"
      ]
     },
     "metadata": {},
     "output_type": "display_data"
    },
    {
     "name": "stderr",
     "output_type": "stream",
     "text": [
      "                                                                       \r"
     ]
    }
   ],
   "source": [
    "num_hard_negatives = 5\n",
    "num_hard_negatives_eval = 5\n",
    "train_batch_size = 1\n",
    "max_length = 512\n",
    "model_to_finetune = \"Alibaba-NLP/gte-reranker-modernbert-base\"\n",
    "\n",
    "exp_runner = ExperimentRunner(\n",
    "    embedding_model_hard_negatives,\n",
    "    model_to_finetune,\n",
    "    train_batch_size,\n",
    "    num_epochs,\n",
    "    max_length,\n",
    "    num_hard_negatives,\n",
    "    num_hard_negatives_eval\n",
    ")\n",
    "exp_runner.run_experiment(train_dataset, dev_dataset, df_full)"
   ]
  },
  {
   "cell_type": "code",
   "execution_count": 35,
   "id": "c15f90a9",
   "metadata": {},
   "outputs": [
    {
     "name": "stderr",
     "output_type": "stream",
     "text": [
      "The `margin` parameter is deprecated. Use the `absolute_margin` and/or `relative_margin` parameter instead. Setting `absolute_margin` to `0.05`.\n"
     ]
    },
    {
     "name": "stdout",
     "output_type": "stream",
     "text": [
      "Found 12842 unique queries out of 12853 total queries.\n",
      "Found an average of 1.001 positives per query.\n"
     ]
    },
    {
     "name": "stderr",
     "output_type": "stream",
     "text": [
      "Batches: 100%|██████████| 2/2 [00:00<00:00,  3.62it/s]\n",
      "Batches: 100%|██████████| 4/4 [00:00<00:00, 26.32it/s]\n"
     ]
    },
    {
     "name": "stdout",
     "output_type": "stream",
     "text": [
      "Metric       Positive       Negative     Difference\n",
      "Count          12,853         27,530               \n",
      "Mean           0.5263         0.4731         0.1231\n",
      "Median         0.5440         0.4789         0.0933\n",
      "Std            0.1639         0.1057         0.0797\n",
      "Min           -0.0783         0.1277        -0.2308\n",
      "25%            0.4171         0.4007         0.0631\n",
      "50%            0.5440         0.4789         0.0933\n",
      "75%            0.6514         0.5507         0.1581\n",
      "Max            0.9287         0.7643         0.6512\n",
      "Skipped 493,639 potential negatives (37.32%) due to the absolute_margin of 0.05.\n",
      "Skipped 5 potential negatives (0.00%) due to the max_score of 0.8.\n",
      "Could not find enough negatives for 11029 samples (28.60%). Consider adjusting the range_max, range_min, absolute_margin and max_score parameters if you'd like to find more valid negatives.\n",
      "Setting range_max to 5 based on the provided parameters.\n",
      "Found 1399 unique queries out of 1400 total queries.\n",
      "Found an average of 1.001 positives per query.\n"
     ]
    },
    {
     "name": "stderr",
     "output_type": "stream",
     "text": [
      "Batches: 100%|██████████| 2/2 [00:00<00:00,  3.33it/s]\n",
      "Batches: 100%|██████████| 1/1 [00:00<00:00, 57.89it/s]\n"
     ]
    },
    {
     "name": "stdout",
     "output_type": "stream",
     "text": [
      "Metric       Positive       Negative     Difference\n",
      "Count           1,400          4,200               \n",
      "Mean           0.5248         0.5580        -0.0332\n",
      "Median         0.5435         0.5668        -0.0094\n",
      "Std            0.1603         0.1147         0.1281\n",
      "Min            0.0295         0.1662        -0.6029\n",
      "25%            0.4099         0.4813        -0.1031\n",
      "50%            0.5438         0.5669        -0.0094\n",
      "75%            0.6468         0.6411         0.0238\n",
      "Max            0.8905         0.8905         0.5467\n"
     ]
    },
    {
     "name": "stderr",
     "output_type": "stream",
     "text": [
      "Token indices sequence length is longer than the specified maximum sequence length for this model (630 > 512). Running this sequence through the model will result in indexing errors\n"
     ]
    },
    {
     "data": {
      "text/html": [
       "\n",
       "    <div>\n",
       "      \n",
       "      <progress value='80706' max='80706' style='width:300px; height:20px; vertical-align: middle;'></progress>\n",
       "      [80706/80706 2:48:37, Epoch 2/2]\n",
       "    </div>\n",
       "    <table border=\"1\" class=\"dataframe\">\n",
       "  <thead>\n",
       " <tr style=\"text-align: left;\">\n",
       "      <th>Step</th>\n",
       "      <th>Training Loss</th>\n",
       "      <th>Validation Loss</th>\n",
       "      <th>Dev Set Map</th>\n",
       "      <th>Dev Set Mrr@10</th>\n",
       "      <th>Dev Set Ndcg@10</th>\n",
       "      <th>Dev Set Base Map</th>\n",
       "      <th>Dev Set Base Mrr@10</th>\n",
       "      <th>Dev Set Base Ndcg@10</th>\n",
       "    </tr>\n",
       "  </thead>\n",
       "  <tbody>\n",
       "    <tr>\n",
       "      <td>20000</td>\n",
       "      <td>0.000000</td>\n",
       "      <td>0.000000</td>\n",
       "      <td>0.876369</td>\n",
       "      <td>0.876369</td>\n",
       "      <td>0.907534</td>\n",
       "      <td>0.456548</td>\n",
       "      <td>0.456548</td>\n",
       "      <td>0.474888</td>\n",
       "    </tr>\n",
       "    <tr>\n",
       "      <td>40000</td>\n",
       "      <td>0.000000</td>\n",
       "      <td>0.000000</td>\n",
       "      <td>0.876369</td>\n",
       "      <td>0.876369</td>\n",
       "      <td>0.907534</td>\n",
       "      <td>0.456548</td>\n",
       "      <td>0.456548</td>\n",
       "      <td>0.474888</td>\n",
       "    </tr>\n",
       "    <tr>\n",
       "      <td>60000</td>\n",
       "      <td>0.000000</td>\n",
       "      <td>0.000000</td>\n",
       "      <td>0.876369</td>\n",
       "      <td>0.876369</td>\n",
       "      <td>0.907534</td>\n",
       "      <td>0.456548</td>\n",
       "      <td>0.456548</td>\n",
       "      <td>0.474888</td>\n",
       "    </tr>\n",
       "    <tr>\n",
       "      <td>80000</td>\n",
       "      <td>0.000000</td>\n",
       "      <td>0.000000</td>\n",
       "      <td>0.876369</td>\n",
       "      <td>0.876369</td>\n",
       "      <td>0.907534</td>\n",
       "      <td>0.456548</td>\n",
       "      <td>0.456548</td>\n",
       "      <td>0.474888</td>\n",
       "    </tr>\n",
       "  </tbody>\n",
       "</table><p>"
      ],
      "text/plain": [
       "<IPython.core.display.HTML object>"
      ]
     },
     "metadata": {},
     "output_type": "display_data"
    },
    {
     "name": "stderr",
     "output_type": "stream",
     "text": [
      "                                                                       \r"
     ]
    }
   ],
   "source": [
    "num_hard_negatives = 3\n",
    "num_hard_negatives_eval = 3\n",
    "train_batch_size = 1\n",
    "max_length = 512\n",
    "model_to_finetune = \"Alibaba-NLP/gte-multilingual-reranker-base\"\n",
    "\n",
    "exp_runner = ExperimentRunner(\n",
    "    embedding_model_hard_negatives,\n",
    "    model_to_finetune,\n",
    "    train_batch_size,\n",
    "    num_epochs,\n",
    "    max_length,\n",
    "    num_hard_negatives,\n",
    "    num_hard_negatives_eval\n",
    ")\n",
    "exp_runner.run_experiment(train_dataset, dev_dataset, df_full, trust_remote_code=True)"
   ]
  },
  {
   "cell_type": "markdown",
   "id": "f8cf480d",
   "metadata": {},
   "source": [
    "Note that the metrics in the following cells are overly optimistic, since we evaluate on the whole data, which includes the training data. We do this on the whole data so that we have enough data for the ensemble learning part."
   ]
  },
  {
   "cell_type": "code",
   "execution_count": 36,
   "id": "c2afedbf",
   "metadata": {},
   "outputs": [
    {
     "name": "stderr",
     "output_type": "stream",
     "text": [
      "                                                                            \r"
     ]
    },
    {
     "name": "stdout",
     "output_type": "stream",
     "text": [
      "Using GPU\n"
     ]
    },
    {
     "name": "stderr",
     "output_type": "stream",
     "text": [
      "Reranking: 100%|██████████| 14253/14253 [1:12:52<00:00,  3.26it/s]\n"
     ]
    },
    {
     "name": "stdout",
     "output_type": "stream",
     "text": [
      "k = 1\n",
      "Number of queries in top 1: 9609\n",
      "Number of queries not in top 1: 4644\n",
      "k = 5\n",
      "Number of queries in top 5: 11089\n",
      "Number of queries not in top 5: 3164\n",
      "k = 10\n",
      "Number of queries in top 10: 11349\n",
      "Number of queries not in top 10: 2904\n",
      "Evaluation results: {1: 0.6741738581351294, 5: 0.7166327556771674, 10: 0.7191217053719685}\n"
     ]
    }
   ],
   "source": [
    "df_query_single = experiment_single_bm25(df_collection, df_query_combined, stemmer=stemmer, k=30)\n",
    "model_name = \"models/gte-reranker-modernbert-base-finetuned\"\n",
    "tokenizer, model = initialize_reranker(model_name)\n",
    "df_query = rerank_with_alibaba(df_query_single, df_collection, tokenizer, model, k=10, batch_size=100)\n",
    "df_query.to_parquet('data/reranked_results_alibaba_finetuned.parquet')\n",
    "results = evaluate_reranked_results(df_query)\n",
    "print(f\"Evaluation results: {results}\")"
   ]
  },
  {
   "cell_type": "code",
   "execution_count": 37,
   "id": "d1871660",
   "metadata": {},
   "outputs": [
    {
     "name": "stderr",
     "output_type": "stream",
     "text": [
      "                                                                            \r"
     ]
    },
    {
     "name": "stdout",
     "output_type": "stream",
     "text": [
      "Using GPU\n"
     ]
    },
    {
     "name": "stderr",
     "output_type": "stream",
     "text": [
      "Reranking: 100%|██████████| 14253/14253 [1:02:52<00:00,  3.78it/s]\n"
     ]
    },
    {
     "name": "stdout",
     "output_type": "stream",
     "text": [
      "k = 1\n",
      "Number of queries in top 1: 9021\n",
      "Number of queries not in top 1: 5232\n",
      "k = 5\n",
      "Number of queries in top 5: 10842\n",
      "Number of queries not in top 5: 3411\n",
      "k = 10\n",
      "Number of queries in top 10: 11232\n",
      "Number of queries not in top 10: 3021\n",
      "Evaluation results: {1: 0.6329193853925489, 5: 0.6854755723941158, 10: 0.6892080085618287}\n"
     ]
    }
   ],
   "source": [
    "df_query_dev_single = experiment_single_bm25(df_collection, df_query_combined, stemmer=stemmer, k=30)\n",
    "model_name = \"models/gte-multilingual-reranker-base-finetuned\"\n",
    "tokenizer, model = initialize_reranker(model_name)\n",
    "df_query = rerank_with_alibaba(df_query_dev_single, df_collection, tokenizer, model, k=10, batch_size=100)\n",
    "df_query.to_parquet('data/reranked_results_alibaba_multilingual_finetuned.parquet')\n",
    "results = evaluate_reranked_results(df_query)\n",
    "print(f\"Evaluation results: {results}\")"
   ]
  },
  {
   "cell_type": "code",
   "execution_count": 38,
   "id": "9f615c0d",
   "metadata": {},
   "outputs": [
    {
     "name": "stderr",
     "output_type": "stream",
     "text": [
      "                                                                            \r"
     ]
    },
    {
     "name": "stdout",
     "output_type": "stream",
     "text": [
      "Using GPU\n"
     ]
    },
    {
     "name": "stderr",
     "output_type": "stream",
     "text": [
      "Reranking: 100%|██████████| 14253/14253 [25:38<00:00,  9.26it/s]\n"
     ]
    },
    {
     "name": "stdout",
     "output_type": "stream",
     "text": [
      "k = 1\n",
      "Number of queries in top 1: 9429\n",
      "Number of queries not in top 1: 4824\n",
      "k = 5\n",
      "Number of queries in top 5: 11000\n",
      "Number of queries not in top 5: 3253\n",
      "k = 10\n",
      "Number of queries in top 10: 11312\n",
      "Number of queries not in top 10: 2941\n",
      "Evaluation results: {1: 0.6615449379078089, 5: 0.7066407072195328, 10: 0.7096312778484952}\n"
     ]
    }
   ],
   "source": [
    "df_query_dev_single = experiment_single_bm25(df_collection, df_query_combined, stemmer=stemmer, k=30)\n",
    "model_name = \"models/ms-marco-MiniLM-L12-v2-finetuned\"\n",
    "tokenizer, model = initialize_reranker(model_name)\n",
    "df_query = rerank_with_alibaba(df_query_dev_single, df_collection, tokenizer, model, k=10, batch_size=100)\n",
    "df_query.to_parquet(\"data/reranked_results_miniLM12_finetuned.parquet\")\n",
    "results = evaluate_reranked_results(df_query)\n",
    "print(f\"Evaluation results: {results}\")"
   ]
  },
  {
   "cell_type": "code",
   "execution_count": 39,
   "id": "1726416c",
   "metadata": {},
   "outputs": [
    {
     "name": "stderr",
     "output_type": "stream",
     "text": [
      "                                                                            \r"
     ]
    },
    {
     "name": "stdout",
     "output_type": "stream",
     "text": [
      "Using GPU\n"
     ]
    },
    {
     "name": "stderr",
     "output_type": "stream",
     "text": [
      "Reranking: 100%|██████████| 14253/14253 [18:15<00:00, 13.01it/s]\n"
     ]
    },
    {
     "name": "stdout",
     "output_type": "stream",
     "text": [
      "k = 1\n",
      "Number of queries in top 1: 8935\n",
      "Number of queries not in top 1: 5318\n",
      "k = 5\n",
      "Number of queries in top 5: 10804\n",
      "Number of queries not in top 5: 3449\n",
      "k = 10\n",
      "Number of queries in top 10: 11201\n",
      "Number of queries not in top 10: 3052\n",
      "Evaluation results: {1: 0.6268855679506069, 5: 0.6795516733319301, 10: 0.6833366186344506}\n"
     ]
    }
   ],
   "source": [
    "df_query_dev_single = experiment_single_bm25(df_collection, df_query_combined, stemmer=stemmer, k=30)\n",
    "model_name = \"models/ms-marco-MiniLM-L6-v2-finetuned\"\n",
    "tokenizer, model = initialize_reranker(model_name)\n",
    "df_query = rerank_with_alibaba(df_query_dev_single, df_collection, tokenizer, model, k=10, batch_size=100)\n",
    "df_query.to_parquet(\"data/reranked_results_miniLM6_finetuned.parquet\")\n",
    "results = evaluate_reranked_results(df_query)\n",
    "print(f\"Evaluation results: {results}\")"
   ]
  },
  {
   "cell_type": "code",
   "execution_count": 40,
   "id": "e1bc22bd",
   "metadata": {},
   "outputs": [
    {
     "name": "stderr",
     "output_type": "stream",
     "text": [
      "                                                                            \r"
     ]
    },
    {
     "name": "stdout",
     "output_type": "stream",
     "text": [
      "Using GPU\n"
     ]
    },
    {
     "name": "stderr",
     "output_type": "stream",
     "text": [
      "Reranking: 100%|██████████| 14253/14253 [11:47<00:00, 20.15it/s]\n"
     ]
    },
    {
     "name": "stdout",
     "output_type": "stream",
     "text": [
      "k = 1\n",
      "Number of queries in top 1: 8159\n",
      "Number of queries not in top 1: 6094\n",
      "k = 5\n",
      "Number of queries in top 5: 10348\n",
      "Number of queries not in top 5: 3905\n",
      "k = 10\n",
      "Number of queries in top 10: 10970\n",
      "Number of queries not in top 10: 3283\n",
      "Evaluation results: {1: 0.5724408896372694, 5: 0.6330105942608573, 10: 0.6389655923175181}\n"
     ]
    }
   ],
   "source": [
    "df_query_dev_single = experiment_single_bm25(df_collection, df_query_combined, stemmer=stemmer, k=30)\n",
    "model_name = \"models/ms-marco-TinyBERT-L2-v2-finetuned\"\n",
    "tokenizer, model = initialize_reranker(model_name)\n",
    "df_query = rerank_with_alibaba(df_query_dev_single, df_collection, tokenizer, model, k=10, batch_size=100)\n",
    "df_query.to_parquet(\"data/reranked_results_tinyBERT_finetuned.parquet\")\n",
    "results = evaluate_reranked_results(df_query)\n",
    "print(f\"Evaluation results: {results}\")"
   ]
  },
  {
   "cell_type": "code",
   "execution_count": 41,
   "id": "2b096aa7",
   "metadata": {},
   "outputs": [
    {
     "name": "stderr",
     "output_type": "stream",
     "text": [
      "                                                                            \r"
     ]
    },
    {
     "name": "stdout",
     "output_type": "stream",
     "text": [
      "Using GPU\n"
     ]
    },
    {
     "name": "stderr",
     "output_type": "stream",
     "text": [
      "Reranking: 100%|██████████| 14253/14253 [59:01<00:00,  4.02it/s]\n"
     ]
    },
    {
     "name": "stdout",
     "output_type": "stream",
     "text": [
      "k = 1\n",
      "Number of queries in top 1: 7957\n",
      "Number of queries not in top 1: 6296\n",
      "k = 5\n",
      "Number of queries in top 5: 10281\n",
      "Number of queries not in top 5: 3972\n",
      "k = 10\n",
      "Number of queries in top 10: 10933\n",
      "Number of queries not in top 10: 3320\n",
      "Evaluation results: {1: 0.5582684347154985, 5: 0.6218129516592997, 10: 0.6280638495488}\n"
     ]
    }
   ],
   "source": [
    "df_query_dev_single = experiment_single_bm25(df_collection, df_query_combined, stemmer=stemmer, k=30)\n",
    "model_name = \"models/ms-marco-electra-base-finetuned\"\n",
    "tokenizer, model = initialize_reranker(model_name)\n",
    "df_query = rerank_with_alibaba(df_query_dev_single, df_collection, tokenizer, model, k=10, batch_size=50, max_length=None )\n",
    "df_query.to_parquet(\"data/reranked_results_electra_finetuned.parquet\")\n",
    "results = evaluate_reranked_results(df_query)\n",
    "print(f\"Evaluation results: {results}\")"
   ]
  },
  {
   "cell_type": "code",
   "execution_count": null,
   "id": "9fd9ba0c",
   "metadata": {},
   "outputs": [],
   "source": []
  }
 ],
 "metadata": {
  "kernelspec": {
   "display_name": "Python 3",
   "language": "python",
   "name": "python3"
  },
  "language_info": {
   "codemirror_mode": {
    "name": "ipython",
    "version": 3
   },
   "file_extension": ".py",
   "mimetype": "text/x-python",
   "name": "python",
   "nbconvert_exporter": "python",
   "pygments_lexer": "ipython3",
   "version": "3.12.10"
  }
 },
 "nbformat": 4,
 "nbformat_minor": 5
}
