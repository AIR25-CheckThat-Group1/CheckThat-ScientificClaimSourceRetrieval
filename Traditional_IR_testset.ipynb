{
 "cells": [
  {
   "cell_type": "code",
   "execution_count": 36,
   "metadata": {},
   "outputs": [],
   "source": [
    "import pandas as pd\n",
    "import numpy as np\n",
    "import re\n",
    "import nltk\n",
    "from nltk.corpus import stopwords, wordnet\n",
    "from nltk.stem import WordNetLemmatizer\n",
    "from rank_bm25 import BM25Okapi\n",
    "from collections import Counter"
   ]
  },
  {
   "cell_type": "code",
   "execution_count": 37,
   "metadata": {},
   "outputs": [],
   "source": [
    "test_df = pd.read_csv('subtask4b_query_tweets_test.tsv', sep='\\t')"
   ]
  },
  {
   "cell_type": "code",
   "execution_count": 38,
   "metadata": {},
   "outputs": [],
   "source": [
    "df_collection = pd.read_pickle('subtask4b_collection_data.pkl')"
   ]
  },
  {
   "cell_type": "code",
   "execution_count": 39,
   "metadata": {},
   "outputs": [
    {
     "name": "stderr",
     "output_type": "stream",
     "text": [
      "[nltk_data] Downloading package stopwords to\n",
      "[nltk_data]     /Users/mataonbas/nltk_data...\n",
      "[nltk_data]   Package stopwords is already up-to-date!\n",
      "[nltk_data] Downloading package wordnet to\n",
      "[nltk_data]     /Users/mataonbas/nltk_data...\n",
      "[nltk_data]   Package wordnet is already up-to-date!\n",
      "[nltk_data] Downloading package omw-1.4 to\n",
      "[nltk_data]     /Users/mataonbas/nltk_data...\n",
      "[nltk_data]   Package omw-1.4 is already up-to-date!\n"
     ]
    }
   ],
   "source": [
    "# Setup preprocessing\n",
    "nltk.download('stopwords')\n",
    "nltk.download('wordnet')\n",
    "nltk.download('omw-1.4')\n",
    "\n",
    "stop_words = set(stopwords.words('english'))\n",
    "lemmatizer = WordNetLemmatizer()\n",
    "\n",
    "def preprocess(text):\n",
    "    tokens = re.findall(r'\\b\\w+\\b', str(text).lower())\n",
    "    return [lemmatizer.lemmatize(w) for w in tokens if w not in stop_words]\n",
    "\n",
    "def merge_fields(title, abstract, title_weight=3.0, abstract_weight=1.0):\n",
    "    title_tokens = preprocess(title)\n",
    "    abstract_tokens = preprocess(abstract)\n",
    "    title_counter = Counter(title_tokens)\n",
    "    abstract_counter = Counter(abstract_tokens)\n",
    "    combined = Counter()\n",
    "    for token in set(title_counter) | set(abstract_counter):\n",
    "        combined[token] = title_weight * title_counter[token] + abstract_weight * abstract_counter[token]\n",
    "    weighted_tokens = []\n",
    "    for token, weight in combined.items():\n",
    "        weighted_tokens.extend([token] * round(weight))\n",
    "    return weighted_tokens\n",
    "\n",
    "# Prepare corpus\n",
    "tokenized_corpus = [\n",
    "    merge_fields(row['title'], row['abstract']) for _, row in df_collection.iterrows()\n",
    "]\n",
    "bm25 = BM25Okapi(tokenized_corpus, k1=2.0, b=0.6)"
   ]
  },
  {
   "cell_type": "code",
   "execution_count": 40,
   "metadata": {},
   "outputs": [],
   "source": [
    "def get_top_cord_uids(query):\n",
    "    tokenized_query = preprocess(query)\n",
    "    doc_scores = bm25.get_scores(tokenized_query)\n",
    "    indices = np.argsort(-doc_scores)[:5]\n",
    "    return df_collection.iloc[indices]['cord_uid'].tolist()"
   ]
  },
  {
   "cell_type": "code",
   "execution_count": 41,
   "metadata": {},
   "outputs": [],
   "source": [
    "# Get predictions for test set\n",
    "test_df['preds'] = test_df['tweet_text'].apply(lambda x: get_top_cord_uids(x))"
   ]
  },
  {
   "cell_type": "code",
   "execution_count": 42,
   "metadata": {},
   "outputs": [
    {
     "name": "stdout",
     "output_type": "stream",
     "text": [
      "Predictions saved to predictions_fromtestset.tsv\n"
     ]
    }
   ],
   "source": [
    "# Create DataFrame and save to TSV with exact format\n",
    "test_df[['post_id', 'preds']].to_csv('predictions_fromtestset.tsv', sep='\\t', index=False)\n",
    "\n",
    "print(\"Predictions saved to predictions_fromtestset.tsv\")"
   ]
  }
 ],
 "metadata": {
  "kernelspec": {
   "display_name": "base",
   "language": "python",
   "name": "python3"
  },
  "language_info": {
   "codemirror_mode": {
    "name": "ipython",
    "version": 3
   },
   "file_extension": ".py",
   "mimetype": "text/x-python",
   "name": "python",
   "nbconvert_exporter": "python",
   "pygments_lexer": "ipython3",
   "version": "3.12.4"
  }
 },
 "nbformat": 4,
 "nbformat_minor": 2
}
