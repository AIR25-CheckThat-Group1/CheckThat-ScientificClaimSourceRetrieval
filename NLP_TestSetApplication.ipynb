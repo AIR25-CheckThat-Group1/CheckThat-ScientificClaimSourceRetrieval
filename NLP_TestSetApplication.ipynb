{
 "cells": [
  {
   "cell_type": "code",
   "execution_count": 15,
   "metadata": {},
   "outputs": [
    {
     "name": "stdout",
     "output_type": "stream",
     "text": [
      "Using device: cpu\n"
     ]
    }
   ],
   "source": [
    "# Cell 1: Import Libraries\n",
    "import pandas as pd\n",
    "import pickle\n",
    "from sentence_transformers import SentenceTransformer\n",
    "import torch\n",
    "import numpy as np\n",
    "import os\n",
    "\n",
    "# Set device\n",
    "device = torch.device(\"cuda\" if torch.cuda.is_available() else \"cpu\")\n",
    "print(f\"Using device: {device}\")"
   ]
  },
  {
   "cell_type": "code",
   "execution_count": 16,
   "metadata": {},
   "outputs": [
    {
     "name": "stdout",
     "output_type": "stream",
     "text": [
      "Model loaded successfully\n"
     ]
    }
   ],
   "source": [
    "# Cell 2: Load Fine-tuned Model\n",
    "model_path = \"/Users/mataonbas/AIR-CheckThat!-GroupProject/CheckThat-ScientificClaimSourceRetrieval/fine_tuned_sbert\"\n",
    "model = SentenceTransformer(model_path)\n",
    "model.to(device)\n",
    "print(\"Model loaded successfully\")"
   ]
  },
  {
   "cell_type": "code",
   "execution_count": 17,
   "metadata": {},
   "outputs": [
    {
     "name": "stdout",
     "output_type": "stream",
     "text": [
      "Loaded 1446 test examples\n",
      "Loaded 7718 papers\n"
     ]
    }
   ],
   "source": [
    "# Cell 3: Load Test Data and Papers\n",
    "# Load test data\n",
    "test_df = pd.read_csv('/Users/mataonbas/AIR-CheckThat!-GroupProject/CheckThat-ScientificClaimSourceRetrieval/subtask4b_query_tweets_test.tsv', sep='\\t')\n",
    "print(f\"Loaded {len(test_df)} test examples\")\n",
    "\n",
    "# Load papers data\n",
    "with open('/Users/mataonbas/AIR-CheckThat!-GroupProject/CheckThat-ScientificClaimSourceRetrieval/subtask4b_collection_data.pkl', 'rb') as f:\n",
    "    papers_df = pickle.load(f)\n",
    "papers_df['text'] = papers_df['title'] + '. ' + papers_df['abstract']\n",
    "print(f\"Loaded {len(papers_df)} papers\")"
   ]
  },
  {
   "cell_type": "code",
   "execution_count": 18,
   "metadata": {},
   "outputs": [],
   "source": [
    "# Cell 4: Define Prediction Function\n",
    "def get_predictions(model, test_df, papers_df, top_k=5):\n",
    "    # Convert all text to string type\n",
    "    test_texts = [str(text) for text in test_df['tweet_text'].tolist()]\n",
    "    paper_texts = [str(text) for text in papers_df['text'].tolist()]\n",
    "    \n",
    "    print(\"Encoding test queries...\")\n",
    "    # Encode test queries\n",
    "    query_embeddings = model.encode(\n",
    "        test_texts, \n",
    "        show_progress_bar=True, \n",
    "        convert_to_tensor=True,\n",
    "        device=device\n",
    "    )\n",
    "    \n",
    "    print(\"Encoding papers...\")\n",
    "    # Encode papers\n",
    "    paper_embeddings = model.encode(\n",
    "        paper_texts, \n",
    "        show_progress_bar=True, \n",
    "        convert_to_tensor=True,\n",
    "        device=device\n",
    "    )\n",
    "    \n",
    "    print(\"Computing similarities and generating predictions...\")\n",
    "    # Compute similarity\n",
    "    paper_norm = torch.nn.functional.normalize(paper_embeddings, p=2, dim=1)\n",
    "    paper_ids = papers_df['cord_uid'].tolist()\n",
    "    predictions = []\n",
    "    \n",
    "    for query_emb in query_embeddings:\n",
    "        query_norm = torch.nn.functional.normalize(query_emb.unsqueeze(0), p=2, dim=1)\n",
    "        similarity = torch.matmul(query_norm, paper_norm.T).squeeze()\n",
    "        top_indices = torch.topk(similarity, k=min(top_k, len(paper_norm))).indices.tolist()\n",
    "        preds = [paper_ids[i] for i in top_indices]\n",
    "        predictions.append(preds)\n",
    "    \n",
    "    return predictions"
   ]
  },
  {
   "cell_type": "code",
   "execution_count": 19,
   "metadata": {},
   "outputs": [
    {
     "name": "stdout",
     "output_type": "stream",
     "text": [
      "Generating predictions...\n",
      "Encoding test queries...\n"
     ]
    },
    {
     "name": "stderr",
     "output_type": "stream",
     "text": [
      "Batches: 100%|██████████| 46/46 [00:26<00:00,  1.71it/s]\n"
     ]
    },
    {
     "name": "stdout",
     "output_type": "stream",
     "text": [
      "Encoding papers...\n"
     ]
    },
    {
     "name": "stderr",
     "output_type": "stream",
     "text": [
      "Batches: 100%|██████████| 242/242 [26:09<00:00,  6.49s/it]\n"
     ]
    },
    {
     "name": "stdout",
     "output_type": "stream",
     "text": [
      "Computing similarities and generating predictions...\n",
      "Generated predictions for 1446 test examples\n"
     ]
    }
   ],
   "source": [
    "# Cell 5: Generate Predictions\n",
    "print(\"Generating predictions...\")\n",
    "predictions = get_predictions(model, test_df, papers_df)\n",
    "print(f\"Generated predictions for {len(predictions)} test examples\")"
   ]
  },
  {
   "cell_type": "code",
   "execution_count": 20,
   "metadata": {},
   "outputs": [
    {
     "name": "stdout",
     "output_type": "stream",
     "text": [
      "Predictions saved to predictions_fromfinetunedmodel.tsv\n",
      "\n",
      "Sample predictions:\n",
      "   post_id                                              preds\n",
      "0        1  ['qgwu9fsk', 'bv7hvc1e', 'x4zuv4jo', '0oq0xmzr...\n",
      "1        2  ['wubcq0xx', 'mm2aotem', 'u4ntxo0y', '4vkkaqhz...\n",
      "2        3  ['gtp5daep', 'vh3qs9xv', 'm3m2n3fw', 'hdk02l2r...\n",
      "3        4  ['ru2ty1y9', 'enlj85zc', 'zs78ndoa', '609b8j39...\n",
      "4        5  ['f5p37j7g', 'nzat41wu', 'x9zg7ulr', 'n9zqc1gm...\n"
     ]
    }
   ],
   "source": [
    "# Cell 6: Save Predictions\n",
    "# Create output DataFrame\n",
    "output_data = []\n",
    "for i, preds in enumerate(predictions):\n",
    "    output_data.append({\n",
    "        'post_id': test_df.iloc[i]['post_id'],\n",
    "        'preds': str(preds)\n",
    "    })\n",
    "\n",
    "output_df = pd.DataFrame(output_data)\n",
    "\n",
    "# Save to TSV file\n",
    "output_df.to_csv('predictions_fromfinetunedmodel.tsv', \n",
    "                 sep='\\t', \n",
    "                 index=False, \n",
    "                 header=True)  # Include header\n",
    "print(\"Predictions saved to predictions_fromfinetunedmodel.tsv\")\n",
    "\n",
    "# Print sample of predictions\n",
    "print(\"\\nSample predictions:\")\n",
    "print(output_df.head())"
   ]
  }
 ],
 "metadata": {
  "kernelspec": {
   "display_name": "sbert-env",
   "language": "python",
   "name": "python3"
  },
  "language_info": {
   "codemirror_mode": {
    "name": "ipython",
    "version": 3
   },
   "file_extension": ".py",
   "mimetype": "text/x-python",
   "name": "python",
   "nbconvert_exporter": "python",
   "pygments_lexer": "ipython3",
   "version": "3.10.16"
  }
 },
 "nbformat": 4,
 "nbformat_minor": 2
}
