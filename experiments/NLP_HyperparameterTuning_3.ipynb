{
 "cells": [
  {
   "cell_type": "markdown",
   "metadata": {},
   "source": [
    "# SBERT Hyperparameter Tuning Experiment 4\n",
    "\n",
    "**Experiment focus:** Testing different data augmentation techniques for SBERT fine-tuning.\n",
    "\n",
    "This notebook explores the effect of different data augmentation methods on SBERT performance for scientific claim source retrieval."
   ]
  },
  {
   "cell_type": "code",
   "execution_count": 6,
   "metadata": {},
   "outputs": [
    {
     "name": "stdout",
     "output_type": "stream",
     "text": [
      "Using device: cpu\n"
     ]
    },
    {
     "name": "stderr",
     "output_type": "stream",
     "text": [
      "[nltk_data] Downloading package punkt to /Users/mataonbas/nltk_data...\n",
      "[nltk_data]   Package punkt is already up-to-date!\n",
      "[nltk_data] Downloading package wordnet to\n",
      "[nltk_data]     /Users/mataonbas/nltk_data...\n",
      "[nltk_data]   Package wordnet is already up-to-date!\n",
      "[nltk_data] Downloading package averaged_perceptron_tagger to\n",
      "[nltk_data]     /Users/mataonbas/nltk_data...\n",
      "[nltk_data]   Package averaged_perceptron_tagger is already up-to-\n",
      "[nltk_data]       date!\n"
     ]
    }
   ],
   "source": [
    "import pandas as pd\n",
    "import pickle\n",
    "from sentence_transformers import SentenceTransformer, InputExample, losses\n",
    "from torch.utils.data import DataLoader\n",
    "import torch\n",
    "import numpy as np\n",
    "import random\n",
    "import nltk\n",
    "from nltk.corpus import wordnet\n",
    "from nltk.tokenize import word_tokenize\n",
    "import re\n",
    "import os\n",
    "\n",
    "# Download required NLTK data\n",
    "nltk.download('punkt')\n",
    "nltk.download('wordnet')\n",
    "nltk.download('averaged_perceptron_tagger')\n",
    "\n",
    "# Set device and environment variables\n",
    "device = torch.device(\"cuda\" if torch.cuda.is_available() else \"cpu\")\n",
    "print(f\"Using device: {device}\")\n",
    "\n",
    "# Disable PyTorch compilation for stability\n",
    "os.environ['TORCH_COMPILE_DISABLE'] = '1'\n",
    "os.environ['TORCH_DYNAMO_DISABLE'] = '1'"
   ]
  },
  {
   "cell_type": "markdown",
   "metadata": {},
   "source": [
    "## Data Augmentation Functions\n",
    "\n",
    "Define different data augmentation techniques."
   ]
  },
  {
   "cell_type": "code",
   "execution_count": 7,
   "metadata": {},
   "outputs": [],
   "source": [
    "def clean_text(text):\n",
    "    # Remove URLs\n",
    "    text = re.sub(r'http\\S+|www\\S+|https\\S+', '', text, flags=re.MULTILINE)\n",
    "    # Remove special characters and digits\n",
    "    text = re.sub(r'[^\\w\\s]', '', text)\n",
    "    # Remove extra whitespace\n",
    "    text = ' '.join(text.split())\n",
    "    return text\n",
    "\n",
    "def get_synonyms(word):\n",
    "    synonyms = set()\n",
    "    for syn in wordnet.synsets(word):\n",
    "        for lemma in syn.lemmas():\n",
    "            synonym = lemma.name().replace('_', ' ')\n",
    "            if synonym != word:\n",
    "                synonyms.add(synonym)\n",
    "    return synonyms\n",
    "\n",
    "def synonym_replacement(text, n=1):\n",
    "    words = text.split()\n",
    "    new_words = words.copy()\n",
    "    random_word_list = list(set([word for word in words if wordnet.synsets(word)]))\n",
    "    random.shuffle(random_word_list)\n",
    "    num_replaced = 0\n",
    "    \n",
    "    for random_word in random_word_list:\n",
    "        synonyms = get_synonyms(random_word)\n",
    "        if len(synonyms) >= 1:\n",
    "            synonym = random.choice(list(synonyms))\n",
    "            new_words = [synonym if word == random_word else word for word in new_words]\n",
    "            num_replaced += 1\n",
    "        if num_replaced >= n:\n",
    "            break\n",
    "    \n",
    "    return ' '.join(new_words)"
   ]
  },
  {
   "cell_type": "markdown",
   "metadata": {},
   "source": [
    "## Data Loading and Augmentation\n",
    "\n",
    "Load the data and apply different augmentation techniques."
   ]
  },
  {
   "cell_type": "code",
   "execution_count": 8,
   "metadata": {},
   "outputs": [],
   "source": [
    "# Load train and dev data\n",
    "train_df = pd.read_csv('/Users/mataonbas/AIR-CheckThat!-GroupProject/CheckThat-ScientificClaimSourceRetrieval/subtask4b_query_tweets_train.tsv', \n",
    "                      sep='\\t', \n",
    "                      names=['post_id', 'tweet_text', 'cord_uid'])\n",
    "dev_df = pd.read_csv('/Users/mataonbas/AIR-CheckThat!-GroupProject/CheckThat-ScientificClaimSourceRetrieval/subtask4b_query_tweets_dev.tsv', \n",
    "                    sep='\\t', \n",
    "                    names=['post_id', 'tweet_text', 'cord_uid'])\n",
    "\n",
    "# Load papers data\n",
    "with open('/Users/mataonbas/AIR-CheckThat!-GroupProject/CheckThat-ScientificClaimSourceRetrieval/subtask4b_collection_data.pkl', 'rb') as f:\n",
    "    papers_df = pickle.load(f)\n",
    "papers_df['text'] = papers_df['title'] + '. ' + papers_df['abstract']\n",
    "paper_dict = dict(zip(papers_df['cord_uid'], papers_df['text']))\n",
    "\n",
    "# Define augmentation strategies\n",
    "augmentation_strategies = {\n",
    "    'baseline': lambda x: x,\n",
    "    'cleaning': clean_text,\n",
    "    'synonym_replacement': lambda x: synonym_replacement(x, n=2),\n",
    "}\n",
    "\n",
    "# Prepare training examples with different augmentation strategies\n",
    "train_samples = {}\n",
    "for strategy_name, strategy_func in augmentation_strategies.items():\n",
    "    samples = []\n",
    "    for _, row in train_df.iterrows():\n",
    "        if row['cord_uid'] in paper_dict:\n",
    "            tweet = strategy_func(row['tweet_text'])\n",
    "            paper = paper_dict[row['cord_uid']]\n",
    "            samples.append(InputExample(texts=[tweet, paper]))\n",
    "    train_samples[strategy_name] = samples\n",
    "\n",
    "# Prepare dev examples\n",
    "dev_samples = []\n",
    "for _, row in dev_df.iterrows():\n",
    "    if row['cord_uid'] in paper_dict:\n",
    "        tweet = row['tweet_text']\n",
    "        paper = paper_dict[row['cord_uid']]\n",
    "        dev_samples.append(InputExample(texts=[tweet, paper]))"
   ]
  },
  {
   "cell_type": "markdown",
   "metadata": {},
   "source": [
    "## Training Configuration\n",
    "\n",
    "Set up the training parameters."
   ]
  },
  {
   "cell_type": "code",
   "execution_count": 10,
   "metadata": {},
   "outputs": [
    {
     "name": "stdout",
     "output_type": "stream",
     "text": [
      "Training Configuration:\n",
      "Model: multi-qa-mpnet-base-cos-v1\n",
      "Learning rate: 2e-05\n",
      "Batch size: 16\n",
      "Epochs: 4\n",
      "Warmup steps: 100\n"
     ]
    }
   ],
   "source": [
    "# Fixed hyperparameters\n",
    "learning_rate = 2e-5\n",
    "batch_size = 16\n",
    "epochs = 4\n",
    "warmup_steps = 100\n",
    "model_name = 'multi-qa-mpnet-base-cos-v1'\n",
    "\n",
    "# Print configuration\n",
    "print(\"Training Configuration:\")\n",
    "print(f\"Model: {model_name}\")\n",
    "print(f\"Learning rate: {learning_rate}\")\n",
    "print(f\"Batch size: {batch_size}\")\n",
    "print(f\"Epochs: {epochs}\")\n",
    "print(f\"Warmup steps: {warmup_steps}\")"
   ]
  },
  {
   "cell_type": "markdown",
   "metadata": {},
   "source": [
    "## Training and Evaluation Loop\n",
    "\n",
    "Train and evaluate models with different augmentation strategies."
   ]
  },
  {
   "cell_type": "code",
   "execution_count": 11,
   "metadata": {},
   "outputs": [],
   "source": [
    "def evaluate_mrr(model, dev_df, papers_df, top_k=5):\n",
    "    # Encode dev queries\n",
    "    query_embeddings = model.encode(dev_df['tweet_text'].tolist(), show_progress_bar=True, convert_to_tensor=True)\n",
    "    # Encode papers\n",
    "    paper_embeddings = model.encode(papers_df['text'].tolist(), show_progress_bar=True, convert_to_tensor=True)\n",
    "    # Compute similarity\n",
    "    paper_norm = torch.nn.functional.normalize(paper_embeddings, p=2, dim=1)\n",
    "    paper_ids = papers_df['cord_uid'].tolist()\n",
    "    predictions = []\n",
    "    for query_emb in query_embeddings:\n",
    "        query_norm = torch.nn.functional.normalize(query_emb.unsqueeze(0), p=2, dim=1)\n",
    "        similarity = torch.matmul(query_norm, paper_norm.T).squeeze()\n",
    "        top_indices = torch.topk(similarity, k=min(top_k, len(paper_norm))).indices.tolist()\n",
    "        preds = [paper_ids[i] for i in top_indices]\n",
    "        predictions.append(preds)\n",
    "    # Calculate MRR\n",
    "    scores = []\n",
    "    for i, row in dev_df.iterrows():\n",
    "        gold = row['cord_uid']\n",
    "        preds = predictions[i]\n",
    "        if gold in preds:\n",
    "            rank = preds.index(gold) + 1\n",
    "            scores.append(1.0 / rank)\n",
    "        else:\n",
    "            scores.append(0.0)\n",
    "    return np.mean(scores) if scores else 0.0"
   ]
  },
  {
   "cell_type": "code",
   "execution_count": null,
   "metadata": {},
   "outputs": [
    {
     "name": "stdout",
     "output_type": "stream",
     "text": [
      "Verifying data and model setup...\n",
      "Number of training samples for each strategy:\n",
      "baseline: 12853 samples\n",
      "cleaning: 12853 samples\n",
      "synonym_replacement: 12853 samples\n",
      "\n",
      "Number of dev samples: 1400\n",
      "Number of papers: 7718\n",
      "\n",
      "Training multi-qa-mpnet-base-cos-v1 with baseline augmentation\n",
      "Total samples: 12853\n",
      "Number of batches per epoch: 803\n"
     ]
    },
    {
     "name": "stderr",
     "output_type": "stream",
     "text": [
      "Epoch:   0%|          | 0/4 [00:00<?, ?it/s]"
     ]
    }
   ],
   "source": [
    "# Training loop\n",
    "print(\"Verifying data and model setup...\")\n",
    "print(f\"Number of training samples for each strategy:\")\n",
    "for strategy_name, samples in train_samples.items():\n",
    "    print(f\"{strategy_name}: {len(samples)} samples\")\n",
    "print(f\"\\nNumber of dev samples: {len(dev_samples)}\")\n",
    "print(f\"Number of papers: {len(paper_dict)}\")\n",
    "results = []\n",
    "for strategy_name, samples in train_samples.items():\n",
    "    print(f'\\nTraining {model_name} with {strategy_name} augmentation')\n",
    "    print(f'Total samples: {len(samples)}')\n",
    "    print(f'Number of batches per epoch: {len(samples) // batch_size}')\n",
    "    \n",
    "    # Initialize model with specific device\n",
    "    model = SentenceTransformer(model_name)\n",
    "    model.to(device)\n",
    "    \n",
    "    # Create dataloader with minimal configuration\n",
    "    train_dataloader = DataLoader(\n",
    "        samples, \n",
    "        shuffle=True, \n",
    "        batch_size=batch_size,\n",
    "        num_workers=0,\n",
    "        pin_memory=False\n",
    "    )\n",
    "    \n",
    "    train_loss = losses.MultipleNegativesRankingLoss(model)\n",
    "    \n",
    "    # Basic training configuration with progress tracking\n",
    "    model.fit(\n",
    "        train_objectives=[(train_dataloader, train_loss)],\n",
    "        epochs=epochs,\n",
    "        warmup_steps=warmup_steps,\n",
    "        show_progress_bar=True,\n",
    "        optimizer_params={'lr': learning_rate},\n",
    "        use_amp=False,\n",
    "        checkpoint_path=None,\n",
    "        checkpoint_save_steps=0,\n",
    "        checkpoint_save_total_limit=0,\n",
    "        callback=lambda epoch, steps, loss: print(f'Epoch {epoch+1}/{epochs}, Step {steps}, Loss: {loss:.4f}')\n",
    "    )\n",
    "    \n",
    "    print(f'\\nEvaluating {strategy_name} model...')\n",
    "    mrr = evaluate_mrr(model, dev_df, papers_df, top_k=5)\n",
    "    results.append({\n",
    "        'model': model_name,\n",
    "        'augmentation_strategy': strategy_name,\n",
    "        'learning_rate': learning_rate,\n",
    "        'batch_size': batch_size,\n",
    "        'epochs': epochs,\n",
    "        'warmup_steps': warmup_steps,\n",
    "        'dev_mrr': mrr\n",
    "    })\n",
    "    print(f'Result for {strategy_name}: MRR={mrr:.4f}')\n",
    "    print('-' * 50)"
   ]
  },
  {
   "cell_type": "markdown",
   "metadata": {},
   "source": [
    "## Save Results\n",
    "\n",
    "Save the results to a CSV file for later analysis."
   ]
  },
  {
   "cell_type": "code",
   "execution_count": null,
   "metadata": {},
   "outputs": [],
   "source": [
    "# Save results to CSV\n",
    "pd.DataFrame(results).to_csv('hyperparam_results_4.csv', index=False)\n",
    "print('Results saved to hyperparam_results_4.csv')\n",
    "\n",
    "# Display results\n",
    "print(\"\\nFinal Results:\")\n",
    "print(pd.DataFrame(results))"
   ]
  }
 ],
 "metadata": {
  "kernelspec": {
   "display_name": "sbert-env",
   "language": "python",
   "name": "python3"
  },
  "language_info": {
   "codemirror_mode": {
    "name": "ipython",
    "version": 3
   },
   "file_extension": ".py",
   "mimetype": "text/x-python",
   "name": "python",
   "nbconvert_exporter": "python",
   "pygments_lexer": "ipython3",
   "version": "3.10.16"
  }
 },
 "nbformat": 4,
 "nbformat_minor": 2
}
