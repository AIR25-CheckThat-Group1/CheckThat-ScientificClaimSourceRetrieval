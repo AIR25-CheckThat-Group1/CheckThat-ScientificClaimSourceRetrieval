{
 "cells": [
  {
   "cell_type": "code",
   "execution_count": null,
   "metadata": {},
   "outputs": [],
   "source": [
    "# Cell 1: Import Libraries\n",
    "import pandas as pd\n",
    "import pickle\n",
    "from sentence_transformers import SentenceTransformer, InputExample, losses\n",
    "from torch.utils.data import DataLoader\n",
    "import torch\n",
    "import numpy as np\n",
    "import re\n",
    "import os\n",
    "\n",
    "# Set device and environment variables\n",
    "device = torch.device(\"cuda\" if torch.cuda.is_available() else \"cpu\")\n",
    "print(f\"Using device: {device}\")\n",
    "\n",
    "# Disable PyTorch compilation for stability\n",
    "os.environ['TORCH_COMPILE_DISABLE'] = '1'\n",
    "os.environ['TORCH_DYNAMO_DISABLE'] = '1'"
   ]
  },
  {
   "cell_type": "markdown",
   "metadata": {},
   "source": [
    "# Cell 2: Data Augmentation Function\n",
    "This cell defines the clean_text function that will be used for data augmentation. It removes URLs, special characters, digits, and extra whitespace from the text."
   ]
  },
  {
   "cell_type": "code",
   "execution_count": 2,
   "metadata": {},
   "outputs": [],
   "source": [
    "# Cell 2: Data Augmentation Function\n",
    "def clean_text(text):\n",
    "    # Remove URLs\n",
    "    text = re.sub(r'http\\S+|www\\S+|https\\S+', '', text, flags=re.MULTILINE)\n",
    "    # Remove special characters and digits\n",
    "    text = re.sub(r'[^\\w\\s]', '', text)\n",
    "    # Remove extra whitespace\n",
    "    text = ' '.join(text.split())\n",
    "    return text"
   ]
  },
  {
   "cell_type": "markdown",
   "metadata": {},
   "source": [
    "# Cell 3: Data Loading\n",
    "This cell loads the training and development datasets, as well as the papers data. It also prepares the text data by combining title and abstract for papers."
   ]
  },
  {
   "cell_type": "code",
   "execution_count": 3,
   "metadata": {},
   "outputs": [],
   "source": [
    "# Cell 3: Data Loading\n",
    "# Load train and dev data\n",
    "train_df = pd.read_csv('../subtask4b_query_tweets_train.tsv', \n",
    "                      sep='\\t', \n",
    "                      names=['post_id', 'tweet_text', 'cord_uid'])\n",
    "dev_df = pd.read_csv('../subtask4b_query_tweets_dev.tsv', \n",
    "                    sep='\\t', \n",
    "                    names=['post_id', 'tweet_text', 'cord_uid'])\n",
    "\n",
    "# Load papers data\n",
    "with open('../subtask4b_collection_data.pkl', 'rb') as f:\n",
    "    papers_df = pickle.load(f)\n",
    "papers_df['text'] = papers_df['title'] + '. ' + papers_df['abstract']\n",
    "paper_dict = dict(zip(papers_df['cord_uid'], papers_df['text']))"
   ]
  },
  {
   "cell_type": "markdown",
   "metadata": {},
   "source": [
    "# Cell 4: Data Preparation\n",
    "This cell prepares the training and development examples, applying the clean_text augmentation to the training data."
   ]
  },
  {
   "cell_type": "code",
   "execution_count": 4,
   "metadata": {},
   "outputs": [],
   "source": [
    "# Cell 4: Data Preparation (Updated)\n",
    "# Prepare training examples with clean_text augmentation\n",
    "train_samples = []\n",
    "for _, row in train_df.iterrows():\n",
    "    if row['cord_uid'] in paper_dict:\n",
    "        tweet = clean_text(row['tweet_text'])\n",
    "        paper = paper_dict[row['cord_uid']]\n",
    "        # Convert to string to ensure proper encoding\n",
    "        tweet = str(tweet)\n",
    "        paper = str(paper)\n",
    "        train_samples.append(InputExample(texts=[tweet, paper]))\n",
    "\n",
    "# Prepare dev examples\n",
    "dev_samples = []\n",
    "for _, row in dev_df.iterrows():\n",
    "    if row['cord_uid'] in paper_dict:\n",
    "        tweet = str(row['tweet_text'])  # Convert to string\n",
    "        paper = str(paper_dict[row['cord_uid']])  # Convert to string\n",
    "        dev_samples.append(InputExample(texts=[tweet, paper]))"
   ]
  },
  {
   "cell_type": "code",
   "execution_count": null,
   "metadata": {},
   "outputs": [],
   "source": [
    "# Debug: Check data types\n",
    "print(\"Sample train example:\")\n",
    "sample = train_samples[0]\n",
    "print(f\"Tweet type: {type(sample.texts[0])}\")\n",
    "print(f\"Paper type: {type(sample.texts[1])}\")\n",
    "print(f\"Tweet content: {sample.texts[0][:100]}...\")\n",
    "print(f\"Paper content: {sample.texts[1][:100]}...\")"
   ]
  },
  {
   "cell_type": "markdown",
   "metadata": {},
   "source": [
    "# Cell 5: Training Configuration\n",
    "This cell sets up the hyperparameters for training and prints the configuration."
   ]
  },
  {
   "cell_type": "code",
   "execution_count": null,
   "metadata": {},
   "outputs": [],
   "source": [
    "# Cell 5: Training Configuration\n",
    "# Hyperparameters\n",
    "learning_rate = 2e-5\n",
    "batch_size = 16\n",
    "epochs = 8\n",
    "warmup_steps = 200\n",
    "model_name = 'multi-qa-mpnet-base-cos-v1'\n",
    "\n",
    "# Print configuration\n",
    "print(\"Training Configuration:\")\n",
    "print(f\"Model: {model_name}\")\n",
    "print(f\"Learning rate: {learning_rate}\")\n",
    "print(f\"Batch size: {batch_size}\")\n",
    "print(f\"Epochs: {epochs}\")\n",
    "print(f\"Warmup steps: {warmup_steps}\")"
   ]
  },
  {
   "cell_type": "markdown",
   "metadata": {},
   "source": [
    "# Cell 6: Model Initialization and Training\n",
    "This cell initializes the model, creates the data loader, and starts the training process."
   ]
  },
  {
   "cell_type": "code",
   "execution_count": null,
   "metadata": {},
   "outputs": [],
   "source": [
    "# Cell 6: Model Initialization and Training\n",
    "# Initialize model\n",
    "model = SentenceTransformer(model_name)\n",
    "model.to(device)\n",
    "\n",
    "# Create data loader with proper batch size\n",
    "train_dataloader = DataLoader(\n",
    "    train_samples, \n",
    "    shuffle=True, \n",
    "    batch_size=batch_size,\n",
    "    drop_last=True\n",
    ")\n",
    "\n",
    "# Initialize loss function with CosineSimilarityLoss and explicit dtype\n",
    "train_loss = losses.CosineSimilarityLoss(model, loss_fct=torch.nn.CosineSimilarity(dim=0))\n",
    "\n",
    "# Train the model\n",
    "model.fit(\n",
    "    train_objectives=[(train_dataloader, train_loss)],\n",
    "    epochs=epochs,\n",
    "    warmup_steps=warmup_steps,\n",
    "    optimizer_params={'lr': learning_rate},\n",
    "    show_progress_bar=True,\n",
    "    max_grad_norm=1.0\n",
    ")"
   ]
  },
  {
   "cell_type": "code",
   "execution_count": null,
   "metadata": {},
   "outputs": [],
   "source": [
    "# Debug: Check model configuration\n",
    "print(\"Model configuration:\")\n",
    "print(f\"Model device: {next(model.parameters()).device}\")\n",
    "print(f\"Model dtype: {next(model.parameters()).dtype}\")"
   ]
  },
  {
   "cell_type": "markdown",
   "metadata": {},
   "source": [
    "# Cell 7: Evaluation Function\n",
    "This cell defines the evaluation function that calculates the Mean Reciprocal Rank (MRR) score."
   ]
  },
  {
   "cell_type": "code",
   "execution_count": null,
   "metadata": {},
   "outputs": [],
   "source": [
    "# Cell 7: Evaluation Function (Updated)\n",
    "def evaluate_mrr(model, dev_df, papers_df, top_k=5):\n",
    "    # Convert all text to string type\n",
    "    dev_texts = [str(text) for text in dev_df['tweet_text'].tolist()]\n",
    "    paper_texts = [str(text) for text in papers_df['text'].tolist()]\n",
    "    \n",
    "    # Encode dev queries\n",
    "    query_embeddings = model.encode(\n",
    "        dev_texts, \n",
    "        show_progress_bar=True, \n",
    "        convert_to_tensor=True,\n",
    "        device=device\n",
    "    )\n",
    "    \n",
    "    # Encode papers\n",
    "    paper_embeddings = model.encode(\n",
    "        paper_texts, \n",
    "        show_progress_bar=True, \n",
    "        convert_to_tensor=True,\n",
    "        device=device\n",
    "    )\n",
    "    \n",
    "    # Compute similarity\n",
    "    paper_norm = torch.nn.functional.normalize(paper_embeddings, p=2, dim=1)\n",
    "    paper_ids = papers_df['cord_uid'].tolist()\n",
    "    predictions = []\n",
    "    \n",
    "    for query_emb in query_embeddings:\n",
    "        query_norm = torch.nn.functional.normalize(query_emb.unsqueeze(0), p=2, dim=1)\n",
    "        similarity = torch.matmul(query_norm, paper_norm.T).squeeze()\n",
    "        top_indices = torch.topk(similarity, k=min(top_k, len(paper_norm))).indices.tolist()\n",
    "        preds = [paper_ids[i] for i in top_indices]\n",
    "        predictions.append(preds)\n",
    "    \n",
    "    # Calculate MRR\n",
    "    mrr = 0\n",
    "    for i, preds in enumerate(predictions):\n",
    "        if dev_df.iloc[i]['cord_uid'] in preds:\n",
    "            rank = preds.index(dev_df.iloc[i]['cord_uid']) + 1\n",
    "            mrr += 1.0 / rank\n",
    "    mrr /= len(predictions)\n",
    "    \n",
    "    return mrr"
   ]
  },
  {
   "cell_type": "markdown",
   "metadata": {},
   "source": [
    "# Cell 8: Model Evaluation and Saving\n",
    "This cell evaluates the model on the development set and saves the fine-tuned model."
   ]
  },
  {
   "cell_type": "code",
   "execution_count": null,
   "metadata": {},
   "outputs": [],
   "source": [
    "# Cell 8: Model Evaluation and Saving\n",
    "# Evaluate model\n",
    "mrr_score = evaluate_mrr(model, dev_df, papers_df)\n",
    "print(f\"MRR Score: {mrr_score:.4f}\")\n",
    "\n",
    "# Save model\n",
    "model_save_path = f\"../models/{model_name}_finetuned_clean_text\"\n",
    "model.save(model_save_path)\n",
    "print(f\"Model saved to {model_save_path}\")"
   ]
  }
 ],
 "metadata": {
  "kernelspec": {
   "display_name": "sbert-env",
   "language": "python",
   "name": "python3"
  },
  "language_info": {
   "codemirror_mode": {
    "name": "ipython",
    "version": 3
   },
   "file_extension": ".py",
   "mimetype": "text/x-python",
   "name": "python",
   "nbconvert_exporter": "python",
   "pygments_lexer": "ipython3",
   "version": "3.10.16"
  }
 },
 "nbformat": 4,
 "nbformat_minor": 2
}
