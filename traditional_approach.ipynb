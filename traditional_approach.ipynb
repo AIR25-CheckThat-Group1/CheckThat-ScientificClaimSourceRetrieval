{
 "cells": [
  {
   "cell_type": "code",
   "execution_count": 44,
   "id": "7c9faa2b",
   "metadata": {},
   "outputs": [],
   "source": [
    "import numpy as np\n",
    "import pandas as pd\n",
    "import bm25s\n",
    "from pathlib import Path\n",
    "import random"
   ]
  },
  {
   "cell_type": "code",
   "execution_count": 2,
   "id": "e9450729",
   "metadata": {},
   "outputs": [],
   "source": [
    "data_path = Path('data/')\n",
    "\n",
    "collection_data_path = data_path / 'subtask4b_collection_data.pkl' \n",
    "query_dev_data_path = data_path / 'subtask4b_query_tweets_dev.tsv'\n",
    "query_train_data_path = data_path / 'subtask4b_query_tweets_train.tsv'"
   ]
  },
  {
   "cell_type": "code",
   "execution_count": 3,
   "id": "3a23884f",
   "metadata": {},
   "outputs": [
    {
     "data": {
      "text/html": [
       "<div>\n",
       "<style scoped>\n",
       "    .dataframe tbody tr th:only-of-type {\n",
       "        vertical-align: middle;\n",
       "    }\n",
       "\n",
       "    .dataframe tbody tr th {\n",
       "        vertical-align: top;\n",
       "    }\n",
       "\n",
       "    .dataframe thead th {\n",
       "        text-align: right;\n",
       "    }\n",
       "</style>\n",
       "<table border=\"1\" class=\"dataframe\">\n",
       "  <thead>\n",
       "    <tr style=\"text-align: right;\">\n",
       "      <th></th>\n",
       "      <th>cord_uid</th>\n",
       "      <th>source_x</th>\n",
       "      <th>title</th>\n",
       "      <th>doi</th>\n",
       "      <th>pmcid</th>\n",
       "      <th>pubmed_id</th>\n",
       "      <th>license</th>\n",
       "      <th>abstract</th>\n",
       "      <th>publish_time</th>\n",
       "      <th>authors</th>\n",
       "      <th>journal</th>\n",
       "      <th>mag_id</th>\n",
       "      <th>who_covidence_id</th>\n",
       "      <th>arxiv_id</th>\n",
       "      <th>label</th>\n",
       "      <th>time</th>\n",
       "      <th>timet</th>\n",
       "    </tr>\n",
       "  </thead>\n",
       "  <tbody>\n",
       "    <tr>\n",
       "      <th>162</th>\n",
       "      <td>umvrwgaw</td>\n",
       "      <td>PMC</td>\n",
       "      <td>Professional and Home-Made Face Masks Reduce E...</td>\n",
       "      <td>10.1371/journal.pone.0002618</td>\n",
       "      <td>PMC2440799</td>\n",
       "      <td>18612429</td>\n",
       "      <td>cc-by</td>\n",
       "      <td>BACKGROUND: Governments are preparing for a po...</td>\n",
       "      <td>2008-07-09</td>\n",
       "      <td>van der Sande, Marianne; Teunis, Peter; Sabel,...</td>\n",
       "      <td>PLoS One</td>\n",
       "      <td>NaN</td>\n",
       "      <td>NaN</td>\n",
       "      <td>NaN</td>\n",
       "      <td>umvrwgaw</td>\n",
       "      <td>2008-07-09</td>\n",
       "      <td>1215561600</td>\n",
       "    </tr>\n",
       "    <tr>\n",
       "      <th>611</th>\n",
       "      <td>spiud6ok</td>\n",
       "      <td>PMC</td>\n",
       "      <td>The Failure of R (0)</td>\n",
       "      <td>10.1155/2011/527610</td>\n",
       "      <td>PMC3157160</td>\n",
       "      <td>21860658</td>\n",
       "      <td>cc-by</td>\n",
       "      <td>The basic reproductive ratio, R (0), is one of...</td>\n",
       "      <td>2011-08-16</td>\n",
       "      <td>Li, Jing; Blakeley, Daniel; Smith?, Robert J.</td>\n",
       "      <td>Comput Math Methods Med</td>\n",
       "      <td>NaN</td>\n",
       "      <td>NaN</td>\n",
       "      <td>NaN</td>\n",
       "      <td>spiud6ok</td>\n",
       "      <td>2011-08-16</td>\n",
       "      <td>1313452800</td>\n",
       "    </tr>\n",
       "    <tr>\n",
       "      <th>918</th>\n",
       "      <td>aclzp3iy</td>\n",
       "      <td>PMC</td>\n",
       "      <td>Pulmonary sequelae in a patient recovered from...</td>\n",
       "      <td>10.4103/0970-2113.99118</td>\n",
       "      <td>PMC3424870</td>\n",
       "      <td>22919170</td>\n",
       "      <td>cc-by-nc-sa</td>\n",
       "      <td>The pandemic of swine flu (H1N1) influenza spr...</td>\n",
       "      <td>2012</td>\n",
       "      <td>Singh, Virendra; Sharma, Bharat Bhushan; Patel...</td>\n",
       "      <td>Lung India</td>\n",
       "      <td>NaN</td>\n",
       "      <td>NaN</td>\n",
       "      <td>NaN</td>\n",
       "      <td>aclzp3iy</td>\n",
       "      <td>2012-01-01</td>\n",
       "      <td>1325376000</td>\n",
       "    </tr>\n",
       "    <tr>\n",
       "      <th>993</th>\n",
       "      <td>ycxyn2a2</td>\n",
       "      <td>PMC</td>\n",
       "      <td>What was the primary mode of smallpox transmis...</td>\n",
       "      <td>10.3389/fcimb.2012.00150</td>\n",
       "      <td>PMC3509329</td>\n",
       "      <td>23226686</td>\n",
       "      <td>cc-by</td>\n",
       "      <td>The mode of infection transmission has profoun...</td>\n",
       "      <td>2012-11-29</td>\n",
       "      <td>Milton, Donald K.</td>\n",
       "      <td>Front Cell Infect Microbiol</td>\n",
       "      <td>NaN</td>\n",
       "      <td>NaN</td>\n",
       "      <td>NaN</td>\n",
       "      <td>ycxyn2a2</td>\n",
       "      <td>2012-11-29</td>\n",
       "      <td>1354147200</td>\n",
       "    </tr>\n",
       "    <tr>\n",
       "      <th>1053</th>\n",
       "      <td>zxe95qy9</td>\n",
       "      <td>PMC</td>\n",
       "      <td>Lessons from the History of Quarantine, from P...</td>\n",
       "      <td>10.3201/eid1902.120312</td>\n",
       "      <td>PMC3559034</td>\n",
       "      <td>23343512</td>\n",
       "      <td>no-cc</td>\n",
       "      <td>In the new millennium, the centuries-old strat...</td>\n",
       "      <td>2013-02-03</td>\n",
       "      <td>Tognotti, Eugenia</td>\n",
       "      <td>Emerg Infect Dis</td>\n",
       "      <td>NaN</td>\n",
       "      <td>NaN</td>\n",
       "      <td>NaN</td>\n",
       "      <td>zxe95qy9</td>\n",
       "      <td>2013-02-03</td>\n",
       "      <td>1359849600</td>\n",
       "    </tr>\n",
       "  </tbody>\n",
       "</table>\n",
       "</div>"
      ],
      "text/plain": [
       "      cord_uid source_x                                              title  \\\n",
       "162   umvrwgaw      PMC  Professional and Home-Made Face Masks Reduce E...   \n",
       "611   spiud6ok      PMC                               The Failure of R (0)   \n",
       "918   aclzp3iy      PMC  Pulmonary sequelae in a patient recovered from...   \n",
       "993   ycxyn2a2      PMC  What was the primary mode of smallpox transmis...   \n",
       "1053  zxe95qy9      PMC  Lessons from the History of Quarantine, from P...   \n",
       "\n",
       "                               doi       pmcid pubmed_id      license  \\\n",
       "162   10.1371/journal.pone.0002618  PMC2440799  18612429        cc-by   \n",
       "611            10.1155/2011/527610  PMC3157160  21860658        cc-by   \n",
       "918        10.4103/0970-2113.99118  PMC3424870  22919170  cc-by-nc-sa   \n",
       "993       10.3389/fcimb.2012.00150  PMC3509329  23226686        cc-by   \n",
       "1053        10.3201/eid1902.120312  PMC3559034  23343512        no-cc   \n",
       "\n",
       "                                               abstract publish_time  \\\n",
       "162   BACKGROUND: Governments are preparing for a po...   2008-07-09   \n",
       "611   The basic reproductive ratio, R (0), is one of...   2011-08-16   \n",
       "918   The pandemic of swine flu (H1N1) influenza spr...         2012   \n",
       "993   The mode of infection transmission has profoun...   2012-11-29   \n",
       "1053  In the new millennium, the centuries-old strat...   2013-02-03   \n",
       "\n",
       "                                                authors  \\\n",
       "162   van der Sande, Marianne; Teunis, Peter; Sabel,...   \n",
       "611       Li, Jing; Blakeley, Daniel; Smith?, Robert J.   \n",
       "918   Singh, Virendra; Sharma, Bharat Bhushan; Patel...   \n",
       "993                                   Milton, Donald K.   \n",
       "1053                                  Tognotti, Eugenia   \n",
       "\n",
       "                          journal  mag_id who_covidence_id arxiv_id     label  \\\n",
       "162                      PLoS One     NaN              NaN      NaN  umvrwgaw   \n",
       "611       Comput Math Methods Med     NaN              NaN      NaN  spiud6ok   \n",
       "918                    Lung India     NaN              NaN      NaN  aclzp3iy   \n",
       "993   Front Cell Infect Microbiol     NaN              NaN      NaN  ycxyn2a2   \n",
       "1053             Emerg Infect Dis     NaN              NaN      NaN  zxe95qy9   \n",
       "\n",
       "           time       timet  \n",
       "162  2008-07-09  1215561600  \n",
       "611  2011-08-16  1313452800  \n",
       "918  2012-01-01  1325376000  \n",
       "993  2012-11-29  1354147200  \n",
       "1053 2013-02-03  1359849600  "
      ]
     },
     "execution_count": 3,
     "metadata": {},
     "output_type": "execute_result"
    }
   ],
   "source": [
    "df_collection = pd.read_pickle(collection_data_path)\n",
    "df_collection.head(5)"
   ]
  },
  {
   "cell_type": "code",
   "execution_count": 4,
   "id": "0b0a4580",
   "metadata": {},
   "outputs": [
    {
     "data": {
      "text/html": [
       "<div>\n",
       "<style scoped>\n",
       "    .dataframe tbody tr th:only-of-type {\n",
       "        vertical-align: middle;\n",
       "    }\n",
       "\n",
       "    .dataframe tbody tr th {\n",
       "        vertical-align: top;\n",
       "    }\n",
       "\n",
       "    .dataframe thead th {\n",
       "        text-align: right;\n",
       "    }\n",
       "</style>\n",
       "<table border=\"1\" class=\"dataframe\">\n",
       "  <thead>\n",
       "    <tr style=\"text-align: right;\">\n",
       "      <th></th>\n",
       "      <th>post_id</th>\n",
       "      <th>tweet_text</th>\n",
       "      <th>cord_uid</th>\n",
       "    </tr>\n",
       "  </thead>\n",
       "  <tbody>\n",
       "    <tr>\n",
       "      <th>0</th>\n",
       "      <td>16</td>\n",
       "      <td>covid recovery: this study from the usa reveal...</td>\n",
       "      <td>3qvh482o</td>\n",
       "    </tr>\n",
       "    <tr>\n",
       "      <th>1</th>\n",
       "      <td>69</td>\n",
       "      <td>\"Among 139 clients exposed to two symptomatic ...</td>\n",
       "      <td>r58aohnu</td>\n",
       "    </tr>\n",
       "    <tr>\n",
       "      <th>2</th>\n",
       "      <td>73</td>\n",
       "      <td>I recall early on reading that researchers who...</td>\n",
       "      <td>sts48u9i</td>\n",
       "    </tr>\n",
       "    <tr>\n",
       "      <th>3</th>\n",
       "      <td>93</td>\n",
       "      <td>You know you're credible when NIH website has ...</td>\n",
       "      <td>3sr2exq9</td>\n",
       "    </tr>\n",
       "    <tr>\n",
       "      <th>4</th>\n",
       "      <td>96</td>\n",
       "      <td>Resistance to antifungal medications is a grow...</td>\n",
       "      <td>ybwwmyqy</td>\n",
       "    </tr>\n",
       "    <tr>\n",
       "      <th>...</th>\n",
       "      <td>...</td>\n",
       "      <td>...</td>\n",
       "      <td>...</td>\n",
       "    </tr>\n",
       "    <tr>\n",
       "      <th>1395</th>\n",
       "      <td>14193</td>\n",
       "      <td>Residents at high risk of covid-19: effectiven...</td>\n",
       "      <td>0gn3b98n</td>\n",
       "    </tr>\n",
       "    <tr>\n",
       "      <th>1396</th>\n",
       "      <td>14196</td>\n",
       "      <td>61% of teenagers hospitalized for covid were \"...</td>\n",
       "      <td>25bdifv6</td>\n",
       "    </tr>\n",
       "    <tr>\n",
       "      <th>1397</th>\n",
       "      <td>14203</td>\n",
       "      <td>\"fresh evidence backing melatonin against covi...</td>\n",
       "      <td>qn6wawxk</td>\n",
       "    </tr>\n",
       "    <tr>\n",
       "      <th>1398</th>\n",
       "      <td>14233</td>\n",
       "      <td>the vaccine doesn't halt the spread, it is pro...</td>\n",
       "      <td>3u3i5myh</td>\n",
       "    </tr>\n",
       "    <tr>\n",
       "      <th>1399</th>\n",
       "      <td>14236</td>\n",
       "      <td>\"Great commentary from K. Carvalho,  black pre...</td>\n",
       "      <td>nih4l4ok</td>\n",
       "    </tr>\n",
       "  </tbody>\n",
       "</table>\n",
       "<p>1400 rows × 3 columns</p>\n",
       "</div>"
      ],
      "text/plain": [
       "      post_id                                         tweet_text  cord_uid\n",
       "0          16  covid recovery: this study from the usa reveal...  3qvh482o\n",
       "1          69  \"Among 139 clients exposed to two symptomatic ...  r58aohnu\n",
       "2          73  I recall early on reading that researchers who...  sts48u9i\n",
       "3          93  You know you're credible when NIH website has ...  3sr2exq9\n",
       "4          96  Resistance to antifungal medications is a grow...  ybwwmyqy\n",
       "...       ...                                                ...       ...\n",
       "1395    14193  Residents at high risk of covid-19: effectiven...  0gn3b98n\n",
       "1396    14196  61% of teenagers hospitalized for covid were \"...  25bdifv6\n",
       "1397    14203  \"fresh evidence backing melatonin against covi...  qn6wawxk\n",
       "1398    14233  the vaccine doesn't halt the spread, it is pro...  3u3i5myh\n",
       "1399    14236  \"Great commentary from K. Carvalho,  black pre...  nih4l4ok\n",
       "\n",
       "[1400 rows x 3 columns]"
      ]
     },
     "metadata": {},
     "output_type": "display_data"
    },
    {
     "data": {
      "text/html": [
       "<div>\n",
       "<style scoped>\n",
       "    .dataframe tbody tr th:only-of-type {\n",
       "        vertical-align: middle;\n",
       "    }\n",
       "\n",
       "    .dataframe tbody tr th {\n",
       "        vertical-align: top;\n",
       "    }\n",
       "\n",
       "    .dataframe thead th {\n",
       "        text-align: right;\n",
       "    }\n",
       "</style>\n",
       "<table border=\"1\" class=\"dataframe\">\n",
       "  <thead>\n",
       "    <tr style=\"text-align: right;\">\n",
       "      <th></th>\n",
       "      <th>post_id</th>\n",
       "      <th>tweet_text</th>\n",
       "      <th>cord_uid</th>\n",
       "    </tr>\n",
       "  </thead>\n",
       "  <tbody>\n",
       "    <tr>\n",
       "      <th>0</th>\n",
       "      <td>0</td>\n",
       "      <td>Oral care in rehabilitation medicine: oral vul...</td>\n",
       "      <td>htlvpvz5</td>\n",
       "    </tr>\n",
       "    <tr>\n",
       "      <th>1</th>\n",
       "      <td>1</td>\n",
       "      <td>this study isn't receiving sufficient attentio...</td>\n",
       "      <td>4kfl29ul</td>\n",
       "    </tr>\n",
       "    <tr>\n",
       "      <th>2</th>\n",
       "      <td>2</td>\n",
       "      <td>thanks, xi jinping. a reminder that this study...</td>\n",
       "      <td>jtwb17u8</td>\n",
       "    </tr>\n",
       "    <tr>\n",
       "      <th>3</th>\n",
       "      <td>3</td>\n",
       "      <td>Taiwan - a population of 23 million has had ju...</td>\n",
       "      <td>0w9k8iy1</td>\n",
       "    </tr>\n",
       "    <tr>\n",
       "      <th>4</th>\n",
       "      <td>4</td>\n",
       "      <td>Obtaining a diagnosis of autism in lower incom...</td>\n",
       "      <td>tiqksd69</td>\n",
       "    </tr>\n",
       "    <tr>\n",
       "      <th>...</th>\n",
       "      <td>...</td>\n",
       "      <td>...</td>\n",
       "      <td>...</td>\n",
       "    </tr>\n",
       "    <tr>\n",
       "      <th>12848</th>\n",
       "      <td>14248</td>\n",
       "      <td>\"evidence on covid-19 reveals a growing body o...</td>\n",
       "      <td>9169o29b</td>\n",
       "    </tr>\n",
       "    <tr>\n",
       "      <th>12849</th>\n",
       "      <td>14249</td>\n",
       "      <td>Outdoor lighting has detrimental impacts on lo...</td>\n",
       "      <td>s2bpha8l</td>\n",
       "    </tr>\n",
       "    <tr>\n",
       "      <th>12850</th>\n",
       "      <td>14250</td>\n",
       "      <td>26/ and influenza virus (and other pathogens, ...</td>\n",
       "      <td>atloc9th</td>\n",
       "    </tr>\n",
       "    <tr>\n",
       "      <th>12851</th>\n",
       "      <td>14251</td>\n",
       "      <td>does it?'sars-cov-2-naïve vaccinees had a 13.0...</td>\n",
       "      <td>t4y1ylb3</td>\n",
       "    </tr>\n",
       "    <tr>\n",
       "      <th>12852</th>\n",
       "      <td>14252</td>\n",
       "      <td>when \"the airway immune cells of children are ...</td>\n",
       "      <td>nlsv8bin</td>\n",
       "    </tr>\n",
       "  </tbody>\n",
       "</table>\n",
       "<p>12853 rows × 3 columns</p>\n",
       "</div>"
      ],
      "text/plain": [
       "       post_id                                         tweet_text  cord_uid\n",
       "0            0  Oral care in rehabilitation medicine: oral vul...  htlvpvz5\n",
       "1            1  this study isn't receiving sufficient attentio...  4kfl29ul\n",
       "2            2  thanks, xi jinping. a reminder that this study...  jtwb17u8\n",
       "3            3  Taiwan - a population of 23 million has had ju...  0w9k8iy1\n",
       "4            4  Obtaining a diagnosis of autism in lower incom...  tiqksd69\n",
       "...        ...                                                ...       ...\n",
       "12848    14248  \"evidence on covid-19 reveals a growing body o...  9169o29b\n",
       "12849    14249  Outdoor lighting has detrimental impacts on lo...  s2bpha8l\n",
       "12850    14250  26/ and influenza virus (and other pathogens, ...  atloc9th\n",
       "12851    14251  does it?'sars-cov-2-naïve vaccinees had a 13.0...  t4y1ylb3\n",
       "12852    14252  when \"the airway immune cells of children are ...  nlsv8bin\n",
       "\n",
       "[12853 rows x 3 columns]"
      ]
     },
     "metadata": {},
     "output_type": "display_data"
    }
   ],
   "source": [
    "df_query_dev = pd.read_csv(query_dev_data_path, sep='\\t')\n",
    "df_query_train = pd.read_csv(query_train_data_path, sep='\\t')\n",
    "display(df_query_dev)\n",
    "display(df_query_train)"
   ]
  },
  {
   "cell_type": "code",
   "execution_count": 5,
   "id": "57d78eba",
   "metadata": {},
   "outputs": [],
   "source": [
    "df_collection['last_names'] = df_collection['authors'].str.split(';').apply(\n",
    "    lambda authors: [author.split(',')[0].strip() for author in authors] if isinstance(authors, list) else authors\n",
    ")\n",
    "df_collection['publish_year'] = df_collection['publish_time'].str.split('-').str[0]"
   ]
  },
  {
   "cell_type": "code",
   "execution_count": 6,
   "id": "20b36f0a",
   "metadata": {},
   "outputs": [],
   "source": [
    "def initialize_bm25(corpus: list[str], cord_uids:list[str], k1=1.5, b=0.75, method='lucene'):\n",
    "    tokenized_corpus = bm25s.tokenize(corpus)\n",
    "    bm25 = bm25s.BM25(corpus=cord_uids, k1=k1, b=b, method=method)\n",
    "    bm25.index(tokenized_corpus)\n",
    "    return bm25"
   ]
  },
  {
   "cell_type": "code",
   "execution_count": 7,
   "id": "b0d80417",
   "metadata": {},
   "outputs": [],
   "source": [
    "def experiment_single_bm25(df_collection, df_query, k1=1.5, b=0.75):\n",
    "    corpus = df_collection.apply(\n",
    "        lambda x: f\"{x['title']} {x['abstract']} {x['last_names']} {x['journal']} {x['publish_year']}\", axis=1\n",
    "    ).tolist()\n",
    "    bm25 = initialize_bm25(corpus, df_collection['cord_uid'].tolist(), k1, b)\n",
    "    tokenized_queries = bm25s.tokenize(df_query['tweet_text'])\n",
    "    doc_scores = bm25.retrieve(tokenized_queries, n_threads=-1)\n",
    "    df_query['bm25_topk'] = doc_scores.documents.tolist()\n",
    "    \n",
    "    return df_query"
   ]
  },
  {
   "cell_type": "code",
   "execution_count": 30,
   "id": "a33d26c5",
   "metadata": {},
   "outputs": [],
   "source": [
    "def experiment_ensemble_single_feature(df_collection, df_query, k1=1.5, b=0.75, weights=None):\n",
    "    features = ['title', 'abstract', 'last_names', 'journal', 'publish_year']\n",
    "    bm25_models = {}\n",
    "    \n",
    "    if weights is None:\n",
    "        weights = {feature: 1.0 for feature in features}\n",
    "    \n",
    "    for feature in features:\n",
    "        corpus = df_collection.apply(\n",
    "            lambda x: f\"{x[feature]}\", axis=1\n",
    "        ).tolist()\n",
    "        bm25_models[feature] = initialize_bm25(corpus, df_collection['cord_uid'].tolist(), k1, b)\n",
    "    \n",
    "    tokenized_queries = bm25s.tokenize(df_query['tweet_text'])\n",
    "    \n",
    "    all_scores = {feature: bm25.retrieve(tokenized_queries, n_threads=-1, k=200) for feature, bm25 in bm25_models.items()}\n",
    "    \n",
    "    ensemble_scores = []\n",
    "    for query_idx in range(len(df_query)):\n",
    "        scores = {cord_uid: 0 for cord_uid in df_collection['cord_uid']}\n",
    "        for feature, doc_scores in all_scores.items():\n",
    "            for cord_uid, score in zip(doc_scores.documents[query_idx], doc_scores.scores[query_idx]):\n",
    "                scores[cord_uid] += weights[feature] * score\n",
    "        sorted_scores = sorted(scores.items(), key=lambda x: x[1], reverse=True)\n",
    "        ensemble_scores.append([cord_uid for cord_uid, _ in sorted_scores[:10]])\n",
    "    \n",
    "    df_query['bm25_topk'] = ensemble_scores\n",
    "    return df_query"
   ]
  },
  {
   "cell_type": "code",
   "execution_count": 39,
   "id": "990f412e",
   "metadata": {},
   "outputs": [],
   "source": [
    "def experiment_ensemble_all_features(df_collection, df_query, param_sets):\n",
    "    bm25_models = {}\n",
    "    corpus = df_collection.apply(\n",
    "        lambda x: f\"{x['title']} {x['abstract']} {x['last_names']} {x['journal']} {x['publish_year']}\", axis=1\n",
    "    ).tolist()\n",
    "    for param in param_sets:\n",
    "        if 'method' in param:\n",
    "            method = param['method']\n",
    "        else:\n",
    "            method = \"AHHH no method??\"\n",
    "        bm25_models[method] = initialize_bm25(corpus, df_collection['cord_uid'].tolist(), **param)\n",
    "\n",
    "    tokenized_queries = bm25s.tokenize(df_query['tweet_text'])\n",
    "\n",
    "    all_scores = {model: bm25.retrieve(tokenized_queries, n_threads=-1, k=100) for model, bm25 in bm25_models.items()}\n",
    "    \n",
    "    ensemble_scores = []\n",
    "    for query_idx in range(len(df_query)):\n",
    "        scores = {cord_uid: 0 for cord_uid in df_collection['cord_uid']}\n",
    "        for feature, doc_scores in all_scores.items():\n",
    "            for cord_uid, score in zip(doc_scores.documents[query_idx], doc_scores.scores[query_idx]):\n",
    "                scores[cord_uid] += score\n",
    "        sorted_scores = sorted(scores.items(), key=lambda x: x[1], reverse=True)\n",
    "        ensemble_scores.append([cord_uid for cord_uid, _ in sorted_scores[:10]])\n",
    "\n",
    "    df_query['bm25_topk'] = ensemble_scores\n",
    "    return df_query"
   ]
  },
  {
   "cell_type": "code",
   "execution_count": 11,
   "id": "58f2f531",
   "metadata": {},
   "outputs": [],
   "source": [
    "def get_performance_mrr(data, col_gold, col_pred, list_k = [1, 5, 10]):\n",
    "    d_performance = {}\n",
    "    for k in list_k:\n",
    "        data[\"in_topx\"] = data.apply(lambda x: (1/([i for i in x[col_pred][:k]].index(x[col_gold]) + 1) if x[col_gold] in [i for i in x[col_pred][:k]] else 0), axis=1)\n",
    "        d_performance[k] = data[\"in_topx\"].mean()\n",
    "    return d_performance"
   ]
  },
  {
   "cell_type": "code",
   "execution_count": 32,
   "id": "b8316439",
   "metadata": {},
   "outputs": [],
   "source": [
    "def evaluate_experiment(df_query_train, df_query_dev, experiment_name):\n",
    "    results = get_performance_mrr(df_query_train, 'cord_uid', 'bm25_topk')\n",
    "    print(f\"Results for {experiment_name}, train: {results}\")\n",
    "    results = get_performance_mrr(df_query_dev, 'cord_uid', 'bm25_topk')\n",
    "    print(f\"Results for {experiment_name}, dev: {results}\")\n",
    "    return results"
   ]
  },
  {
   "cell_type": "code",
   "execution_count": 33,
   "id": "de45e144",
   "metadata": {},
   "outputs": [
    {
     "name": "stderr",
     "output_type": "stream",
     "text": [
      "                                                                            \r"
     ]
    },
    {
     "name": "stdout",
     "output_type": "stream",
     "text": [
      "Results for Single BM25 with all features, train: {1: np.float64(0.586711273632615), 5: np.float64(0.6348012137244223), 10: np.float64(0.6403489272469277)}\n",
      "Results for Single BM25 with all features, dev: {1: np.float64(0.5928571428571429), 5: np.float64(0.6401190476190476), 10: np.float64(0.6454557823129252)}\n"
     ]
    },
    {
     "data": {
      "text/plain": [
       "{1: np.float64(0.5928571428571429),\n",
       " 5: np.float64(0.6401190476190476),\n",
       " 10: np.float64(0.6454557823129252)}"
      ]
     },
     "execution_count": 33,
     "metadata": {},
     "output_type": "execute_result"
    }
   ],
   "source": [
    "# Experiment 1: Single BM25 with all features\n",
    "df_query_train_single = experiment_single_bm25(df_collection, df_query_train)\n",
    "df_query_dev_single = experiment_single_bm25(df_collection, df_query_dev)\n",
    "evaluate_experiment(df_query_train_single, df_query_dev_single, \"Single BM25 with all features\")"
   ]
  },
  {
   "cell_type": "code",
   "execution_count": 34,
   "id": "4c01ca0f",
   "metadata": {},
   "outputs": [
    {
     "name": "stderr",
     "output_type": "stream",
     "text": [
      "                                                                            \r"
     ]
    },
    {
     "name": "stdout",
     "output_type": "stream",
     "text": [
      "Results for Ensemble BM25 with single features, train: {1: np.float64(0.5687388158406598), 5: np.float64(0.6185144842967919), 10: np.float64(0.6240079828191553)}\n",
      "Results for Ensemble BM25 with single features, dev: {1: np.float64(0.5707142857142857), 5: np.float64(0.6254404761904762), 10: np.float64(0.6302525510204081)}\n"
     ]
    },
    {
     "data": {
      "text/plain": [
       "{1: np.float64(0.5707142857142857),\n",
       " 5: np.float64(0.6254404761904762),\n",
       " 10: np.float64(0.6302525510204081)}"
      ]
     },
     "execution_count": 34,
     "metadata": {},
     "output_type": "execute_result"
    }
   ],
   "source": [
    "weights = {\n",
    "    'title': 1.0,\n",
    "    'abstract': 1.0,\n",
    "    'last_names': 1.0,\n",
    "    'journal': 1.0,\n",
    "    'publish_year': 1.0\n",
    "}\n",
    "\n",
    "# Experiment 2: Ensemble of BM25 models, each trained on one feature\n",
    "df_query_train_ensemble_single = experiment_ensemble_single_feature(df_collection, df_query_train, weights=weights)\n",
    "df_query_dev_ensemble_single = experiment_ensemble_single_feature(df_collection, df_query_dev, weights=weights)\n",
    "evaluate_experiment(df_query_train_ensemble_single, df_query_dev_ensemble_single, \"Ensemble BM25 with single features\")"
   ]
  },
  {
   "cell_type": "code",
   "execution_count": 37,
   "id": "0c6b332c",
   "metadata": {},
   "outputs": [
    {
     "name": "stderr",
     "output_type": "stream",
     "text": [
      "                                                                            \r"
     ]
    },
    {
     "name": "stdout",
     "output_type": "stream",
     "text": [
      "Results for Ensemble BM25 with single features, train: {1: np.float64(0.5706060841826811), 5: np.float64(0.6195337016001453), 10: np.float64(0.6250072554242787)}\n",
      "Results for Ensemble BM25 with single features, dev: {1: np.float64(0.5735714285714286), 5: np.float64(0.6275476190476191), 10: np.float64(0.63234268707483)}\n"
     ]
    },
    {
     "name": "stderr",
     "output_type": "stream",
     "text": [
      "                                                                            \r"
     ]
    },
    {
     "name": "stdout",
     "output_type": "stream",
     "text": [
      "Results for Ensemble BM25 with single features, train: {1: np.float64(0.5693612386213336), 5: np.float64(0.6186999144168677), 10: np.float64(0.624236729365882)}\n",
      "Results for Ensemble BM25 with single features, dev: {1: np.float64(0.5721428571428572), 5: np.float64(0.6266071428571428), 10: np.float64(0.6315274943310658)}\n"
     ]
    },
    {
     "data": {
      "text/plain": [
       "{1: np.float64(0.5721428571428572),\n",
       " 5: np.float64(0.6266071428571428),\n",
       " 10: np.float64(0.6315274943310658)}"
      ]
     },
     "execution_count": 37,
     "metadata": {},
     "output_type": "execute_result"
    }
   ],
   "source": [
    "weights = {\n",
    "    'title': 1.0,\n",
    "    'abstract': 1.0,\n",
    "    'last_names': 0.5,\n",
    "    'journal': 0.2,\n",
    "    'publish_year': 0.05\n",
    "}\n",
    "df_query_train_ensemble_single = experiment_ensemble_single_feature(df_collection, df_query_train, weights=weights)\n",
    "df_query_dev_ensemble_single = experiment_ensemble_single_feature(df_collection, df_query_dev, weights=weights)\n",
    "evaluate_experiment(df_query_train_ensemble_single, df_query_dev_ensemble_single, \"Ensemble BM25 with single features\")\n",
    "\n",
    "weights = {\n",
    "    'title': 1.0,\n",
    "    'abstract': 1.0,\n",
    "    'last_names': 1.0,\n",
    "    'journal': 0.7,\n",
    "    'publish_year': 0.05\n",
    "}\n",
    "df_query_train_ensemble_single = experiment_ensemble_single_feature(df_collection, df_query_train, weights=weights)\n",
    "df_query_dev_ensemble_single = experiment_ensemble_single_feature(df_collection, df_query_dev, weights=weights)\n",
    "evaluate_experiment(df_query_train_ensemble_single,df_query_dev_ensemble_single, \"Ensemble BM25 with single features\")"
   ]
  },
  {
   "cell_type": "code",
   "execution_count": 42,
   "id": "b539e25b",
   "metadata": {},
   "outputs": [
    {
     "name": "stderr",
     "output_type": "stream",
     "text": [
      "                                                                            \r"
     ]
    },
    {
     "name": "stdout",
     "output_type": "stream",
     "text": [
      "Results for Ensemble BM25 with all features and different models, train: {1: np.float64(0.5781529603983506), 5: np.float64(0.6287624160377603), 10: np.float64(0.6342932105283308)}\n",
      "Results for Ensemble BM25 with all features and different models, dev: {1: np.float64(0.5857142857142857), 5: np.float64(0.6357142857142857), 10: np.float64(0.641640873015873)}\n"
     ]
    },
    {
     "data": {
      "text/plain": [
       "{1: np.float64(0.5857142857142857),\n",
       " 5: np.float64(0.6357142857142857),\n",
       " 10: np.float64(0.641640873015873)}"
      ]
     },
     "execution_count": 42,
     "metadata": {},
     "output_type": "execute_result"
    }
   ],
   "source": [
    "param_sets = [\n",
    "    {'method': 'robertson', 'k1': 2.0, 'b': 0.6},\n",
    "    {'method': 'lucene', 'k1': 2.0, 'b': 0.6},\n",
    "    {'method': 'atire', 'k1': 2.0, 'b': 0.6},\n",
    "    {'method': 'bm25l', 'k1': 2.0, 'b': 0.6},\n",
    "    {'method': 'bm25+', 'k1': 2.0, 'b': 0.6}\n",
    "]\n",
    "\n",
    "# Experiment 3: Ensemble of slightly different BM25 models, all trained on all features\n",
    "df_query_train_ensemble_all = experiment_ensemble_all_features(df_collection, df_query_train, param_sets)\n",
    "df_query_dev_ensemble_all = experiment_ensemble_all_features(df_collection, df_query_dev, param_sets)\n",
    "evaluate_experiment(df_query_train_ensemble_all, df_query_dev_ensemble_all, \"Ensemble BM25 with all features and different models\")"
   ]
  },
  {
   "cell_type": "code",
   "execution_count": 50,
   "id": "fe7481d0",
   "metadata": {},
   "outputs": [],
   "source": [
    "methods = ['robertson', 'lucene', 'atire', 'bm25l', 'bm25+']\n",
    "param_sets = []\n",
    "for _ in range(20):\n",
    "    k1 = round(random.uniform(1.0, 3.0), 2)  # Random k1 between 1.0 and 3.0\n",
    "    b = round(random.uniform(0.0, 1.0), 2)   # Random b between 0.0 and 1.0\n",
    "    param_set = []\n",
    "    for method in methods:\n",
    "        param_set.append({'method': method, 'k1': k1, 'b': b})\n",
    "    param_sets.append(param_set)"
   ]
  },
  {
   "cell_type": "code",
   "execution_count": 52,
   "id": "fdfbbb1d",
   "metadata": {},
   "outputs": [
    {
     "name": "stderr",
     "output_type": "stream",
     "text": [
      "                                                                            \r"
     ]
    },
    {
     "name": "stdout",
     "output_type": "stream",
     "text": [
      "Results for Ensemble BM25 with all features and different models, k1=1.7, b=0.07, train: {1: np.float64(0.5532560491713997), 5: np.float64(0.6043478824658315), 10: np.float64(0.6099020795589689)}\n",
      "Results for Ensemble BM25 with all features and different models, k1=1.7, b=0.07, dev: {1: np.float64(0.5635714285714286), 5: np.float64(0.6170833333333334), 10: np.float64(0.6226921768707483)}\n"
     ]
    },
    {
     "name": "stderr",
     "output_type": "stream",
     "text": [
      "                                                                            \r"
     ]
    },
    {
     "name": "stdout",
     "output_type": "stream",
     "text": [
      "Results for Ensemble BM25 with all features and different models, k1=1.12, b=0.27, train: {1: np.float64(0.573017972457792), 5: np.float64(0.6208770974350993), 10: np.float64(0.6261461717911574)}\n",
      "Results for Ensemble BM25 with all features and different models, k1=1.12, b=0.27, dev: {1: np.float64(0.5864285714285714), 5: np.float64(0.6324166666666666), 10: np.float64(0.6383531746031745)}\n"
     ]
    },
    {
     "name": "stderr",
     "output_type": "stream",
     "text": [
      "                                                                            \r"
     ]
    },
    {
     "name": "stdout",
     "output_type": "stream",
     "text": [
      "Results for Ensemble BM25 with all features and different models, k1=1.8, b=0.26, train: {1: np.float64(0.5680385902124018), 5: np.float64(0.6169454602038434), 10: np.float64(0.6226811046522398)}\n",
      "Results for Ensemble BM25 with all features and different models, k1=1.8, b=0.26, dev: {1: np.float64(0.5828571428571429), 5: np.float64(0.6305833333333333), 10: np.float64(0.6364951814058957)}\n"
     ]
    },
    {
     "name": "stderr",
     "output_type": "stream",
     "text": [
      "                                                                            \r"
     ]
    },
    {
     "name": "stdout",
     "output_type": "stream",
     "text": [
      "Results for Ensemble BM25 with all features and different models, k1=2.01, b=0.84, train: {1: np.float64(0.5819652999299775), 5: np.float64(0.6318265515184522), 10: np.float64(0.6377257363175047)}\n",
      "Results for Ensemble BM25 with all features and different models, k1=2.01, b=0.84, dev: {1: np.float64(0.5871428571428572), 5: np.float64(0.6364047619047619), 10: np.float64(0.6417165532879819)}\n"
     ]
    },
    {
     "name": "stderr",
     "output_type": "stream",
     "text": [
      "                                                                            \r"
     ]
    },
    {
     "name": "stdout",
     "output_type": "stream",
     "text": [
      "Results for Ensemble BM25 with all features and different models, k1=1.12, b=0.9, train: {1: np.float64(0.5864778650898623), 5: np.float64(0.6346041131772089), 10: np.float64(0.6396156354084465)}\n",
      "Results for Ensemble BM25 with all features and different models, k1=1.12, b=0.9, dev: {1: np.float64(0.5885714285714285), 5: np.float64(0.6372857142857143), 10: np.float64(0.6431935941043083)}\n"
     ]
    },
    {
     "name": "stderr",
     "output_type": "stream",
     "text": [
      "                                                                            \r"
     ]
    },
    {
     "name": "stdout",
     "output_type": "stream",
     "text": [
      "Results for Ensemble BM25 with all features and different models, k1=2.64, b=0.03, train: {1: np.float64(0.5364506340932078), 5: np.float64(0.5898921133846832), 10: np.float64(0.5959946970567059)}\n",
      "Results for Ensemble BM25 with all features and different models, k1=2.64, b=0.03, dev: {1: np.float64(0.5485714285714286), 5: np.float64(0.6026666666666667), 10: np.float64(0.6087800453514739)}\n"
     ]
    },
    {
     "name": "stderr",
     "output_type": "stream",
     "text": [
      "                                                                            \r"
     ]
    },
    {
     "name": "stdout",
     "output_type": "stream",
     "text": [
      "Results for Ensemble BM25 with all features and different models, k1=1.25, b=0.1, train: {1: np.float64(0.5615031510153271), 5: np.float64(0.6105293187063979), 10: np.float64(0.6158670262887177)}\n",
      "Results for Ensemble BM25 with all features and different models, k1=1.25, b=0.1, dev: {1: np.float64(0.5757142857142857), 5: np.float64(0.623202380952381), 10: np.float64(0.629829081632653)}\n"
     ]
    },
    {
     "name": "stderr",
     "output_type": "stream",
     "text": [
      "                                                                            \r"
     ]
    },
    {
     "name": "stdout",
     "output_type": "stream",
     "text": [
      "Results for Ensemble BM25 with all features and different models, k1=1.27, b=0.91, train: {1: np.float64(0.5852330195285147), 5: np.float64(0.6341619336601053), 10: np.float64(0.6393770708833341)}\n",
      "Results for Ensemble BM25 with all features and different models, k1=1.27, b=0.91, dev: {1: np.float64(0.5871428571428572), 5: np.float64(0.6379047619047619), 10: np.float64(0.6427290249433105)}\n"
     ]
    },
    {
     "name": "stderr",
     "output_type": "stream",
     "text": [
      "                                                                            \r"
     ]
    },
    {
     "name": "stdout",
     "output_type": "stream",
     "text": [
      "Results for Ensemble BM25 with all features and different models, k1=2.74, b=0.82, train: {1: np.float64(0.5756632692756555), 5: np.float64(0.6278923208589434), 10: np.float64(0.633484493151497)}\n",
      "Results for Ensemble BM25 with all features and different models, k1=2.74, b=0.82, dev: {1: np.float64(0.5764285714285714), 5: np.float64(0.6284880952380951), 10: np.float64(0.634344671201814)}\n"
     ]
    },
    {
     "name": "stderr",
     "output_type": "stream",
     "text": [
      "                                                                            \r"
     ]
    },
    {
     "name": "stdout",
     "output_type": "stream",
     "text": [
      "Results for Ensemble BM25 with all features and different models, k1=1.5, b=0.16, train: {1: np.float64(0.5636038279001011), 5: np.float64(0.6127752275733291), 10: np.float64(0.6184296421439501)}\n",
      "Results for Ensemble BM25 with all features and different models, k1=1.5, b=0.16, dev: {1: np.float64(0.5828571428571429), 5: np.float64(0.6292619047619048), 10: np.float64(0.6348205782312926)}\n"
     ]
    },
    {
     "name": "stderr",
     "output_type": "stream",
     "text": [
      "                                                                            \r"
     ]
    },
    {
     "name": "stdout",
     "output_type": "stream",
     "text": [
      "Results for Ensemble BM25 with all features and different models, k1=2.16, b=0.77, train: {1: np.float64(0.580409242978293), 5: np.float64(0.6309175549158432), 10: np.float64(0.6366455734502106)}\n",
      "Results for Ensemble BM25 with all features and different models, k1=2.16, b=0.77, dev: {1: np.float64(0.5857142857142857), 5: np.float64(0.6354880952380952), 10: np.float64(0.6405232426303855)}\n"
     ]
    },
    {
     "name": "stderr",
     "output_type": "stream",
     "text": [
      "                                                                            \r"
     ]
    },
    {
     "name": "stdout",
     "output_type": "stream",
     "text": [
      "Results for Ensemble BM25 with all features and different models, k1=1.65, b=0.3, train: {1: np.float64(0.5706838870302653), 5: np.float64(0.619597240592339), 10: np.float64(0.6253882115101286)}\n",
      "Results for Ensemble BM25 with all features and different models, k1=1.65, b=0.3, dev: {1: np.float64(0.585), 5: np.float64(0.6318928571428571), 10: np.float64(0.6382882653061224)}\n"
     ]
    },
    {
     "name": "stderr",
     "output_type": "stream",
     "text": [
      "                                                                            \r"
     ]
    },
    {
     "name": "stdout",
     "output_type": "stream",
     "text": [
      "Results for Ensemble BM25 with all features and different models, k1=1.02, b=0.14, train: {1: np.float64(0.5652376876993698), 5: np.float64(0.6137438730257527), 10: np.float64(0.6189707732985567)}\n",
      "Results for Ensemble BM25 with all features and different models, k1=1.02, b=0.14, dev: {1: np.float64(0.5807142857142857), 5: np.float64(0.6268571428571429), 10: np.float64(0.6335717120181406)}\n"
     ]
    },
    {
     "name": "stderr",
     "output_type": "stream",
     "text": [
      "                                                                            \r"
     ]
    },
    {
     "name": "stdout",
     "output_type": "stream",
     "text": [
      "Results for Ensemble BM25 with all features and different models, k1=1.95, b=0.82, train: {1: np.float64(0.5828989341009881), 5: np.float64(0.6325955029954097), 10: np.float64(0.6384105248728295)}\n",
      "Results for Ensemble BM25 with all features and different models, k1=1.95, b=0.82, dev: {1: np.float64(0.5871428571428572), 5: np.float64(0.6364642857142857), 10: np.float64(0.6417454648526076)}\n"
     ]
    },
    {
     "name": "stderr",
     "output_type": "stream",
     "text": [
      "                                                                            \r"
     ]
    },
    {
     "name": "stdout",
     "output_type": "stream",
     "text": [
      "Results for Ensemble BM25 with all features and different models, k1=2.35, b=0.44, train: {1: np.float64(0.5706060841826811), 5: np.float64(0.6212440675328718), 10: np.float64(0.6271673650398462)}\n",
      "Results for Ensemble BM25 with all features and different models, k1=2.35, b=0.44, dev: {1: np.float64(0.5778571428571428), 5: np.float64(0.6295952380952381), 10: np.float64(0.6353475056689342)}\n"
     ]
    },
    {
     "name": "stderr",
     "output_type": "stream",
     "text": [
      "                                                                            \r"
     ]
    },
    {
     "name": "stdout",
     "output_type": "stream",
     "text": [
      "Results for Ensemble BM25 with all features and different models, k1=1.04, b=0.35, train: {1: np.float64(0.5760522835135766), 5: np.float64(0.6240358930470189), 10: np.float64(0.6292141974142285)}\n",
      "Results for Ensemble BM25 with all features and different models, k1=1.04, b=0.35, dev: {1: np.float64(0.5878571428571429), 5: np.float64(0.6334642857142857), 10: np.float64(0.6393840702947845)}\n"
     ]
    },
    {
     "name": "stderr",
     "output_type": "stream",
     "text": [
      "                                                                            \r"
     ]
    },
    {
     "name": "stdout",
     "output_type": "stream",
     "text": [
      "Results for Ensemble BM25 with all features and different models, k1=1.44, b=0.89, train: {1: np.float64(0.5853886252236832), 5: np.float64(0.6343966389169843), 10: np.float64(0.6398440732137145)}\n",
      "Results for Ensemble BM25 with all features and different models, k1=1.44, b=0.89, dev: {1: np.float64(0.5857142857142857), 5: np.float64(0.6375714285714286), 10: np.float64(0.6426397392290248)}\n"
     ]
    },
    {
     "name": "stderr",
     "output_type": "stream",
     "text": [
      "                                                                            \r"
     ]
    },
    {
     "name": "stdout",
     "output_type": "stream",
     "text": [
      "Results for Ensemble BM25 with all features and different models, k1=1.25, b=0.1, train: {1: np.float64(0.5615031510153271), 5: np.float64(0.6105293187063979), 10: np.float64(0.6158670262887177)}\n",
      "Results for Ensemble BM25 with all features and different models, k1=1.25, b=0.1, dev: {1: np.float64(0.5757142857142857), 5: np.float64(0.623202380952381), 10: np.float64(0.629829081632653)}\n"
     ]
    },
    {
     "name": "stderr",
     "output_type": "stream",
     "text": [
      "                                                                            \r"
     ]
    },
    {
     "name": "stdout",
     "output_type": "stream",
     "text": [
      "Results for Ensemble BM25 with all features and different models, k1=2.62, b=0.3, train: {1: np.float64(0.5622811794911694), 5: np.float64(0.6131772089525143), 10: np.float64(0.6191934993868394)}\n",
      "Results for Ensemble BM25 with all features and different models, k1=2.62, b=0.3, dev: {1: np.float64(0.5721428571428572), 5: np.float64(0.6246904761904761), 10: np.float64(0.6301173469387756)}\n"
     ]
    },
    {
     "name": "stderr",
     "output_type": "stream",
     "text": [
      "                                                                            \r"
     ]
    },
    {
     "name": "stdout",
     "output_type": "stream",
     "text": [
      "Results for Ensemble BM25 with all features and different models, k1=2.31, b=0.66, train: {1: np.float64(0.5770637205321715), 5: np.float64(0.628273554812106), 10: np.float64(0.6340757330448453)}\n",
      "Results for Ensemble BM25 with all features and different models, k1=2.31, b=0.66, dev: {1: np.float64(0.5814285714285714), 5: np.float64(0.6335119047619048), 10: np.float64(0.639033163265306)}\n"
     ]
    }
   ],
   "source": [
    "for param_set in param_sets:\n",
    "    df_query_train_ensemble_all = experiment_ensemble_all_features(df_collection, df_query_train, param_set)\n",
    "    df_query_dev_ensemble_all = experiment_ensemble_all_features(df_collection, df_query_dev, param_set)\n",
    "    evaluate_experiment(df_query_train_ensemble_all, df_query_dev_ensemble_all, \n",
    "        f\"Ensemble BM25 with all features and different models, k1={param_set[0]['k1']}, b={param_set[0]['b']}\")"
   ]
  },
  {
   "cell_type": "code",
   "execution_count": 53,
   "id": "68dd5349",
   "metadata": {},
   "outputs": [],
   "source": [
    "methods = ['robertson', 'lucene', 'atire', 'bm25l', 'bm25+']\n",
    "param_sets = []\n",
    "for _ in range(20):\n",
    "    k1 = round(random.uniform(1.0, 3.0), 2)  # Random k1 between 1.0 and 3.0\n",
    "    b = round(random.uniform(0.7, 1.2), 2)   # Random b between 0.0 and 1.0\n",
    "    param_set = []\n",
    "    for method in methods:\n",
    "        param_set.append({'method': method, 'k1': k1, 'b': b})\n",
    "    param_sets.append(param_set)"
   ]
  },
  {
   "cell_type": "code",
   "execution_count": 54,
   "id": "5e9984d9",
   "metadata": {},
   "outputs": [
    {
     "name": "stderr",
     "output_type": "stream",
     "text": [
      "                                                                            \r"
     ]
    },
    {
     "name": "stdout",
     "output_type": "stream",
     "text": [
      "Results for Ensemble BM25 with all features and different models, k1=1.81, b=1.16, train: {1: np.float64(0.5669493503462226), 5: np.float64(0.6203908296376981), 10: np.float64(0.6263075818257487)}\n",
      "Results for Ensemble BM25 with all features and different models, k1=1.81, b=1.16, dev: {1: np.float64(0.57), 5: np.float64(0.6223809523809524), 10: np.float64(0.6289135487528346)}\n"
     ]
    },
    {
     "name": "stderr",
     "output_type": "stream",
     "text": [
      "                                                                            \r"
     ]
    },
    {
     "name": "stdout",
     "output_type": "stream",
     "text": [
      "Results for Ensemble BM25 with all features and different models, k1=2.03, b=0.82, train: {1: np.float64(0.5818874970823932), 5: np.float64(0.6319043543660364), 10: np.float64(0.6377702259616987)}\n",
      "Results for Ensemble BM25 with all features and different models, k1=2.03, b=0.82, dev: {1: np.float64(0.585), 5: np.float64(0.6352619047619048), 10: np.float64(0.6402859977324263)}\n"
     ]
    },
    {
     "name": "stderr",
     "output_type": "stream",
     "text": [
      "                                                                            \r"
     ]
    },
    {
     "name": "stdout",
     "output_type": "stream",
     "text": [
      "Results for Ensemble BM25 with all features and different models, k1=1.05, b=0.87, train: {1: np.float64(0.5863222593946938), 5: np.float64(0.6342838247879872), 10: np.float64(0.6394099518486821)}\n",
      "Results for Ensemble BM25 with all features and different models, k1=1.05, b=0.87, dev: {1: np.float64(0.59), 5: np.float64(0.6377619047619046), 10: np.float64(0.6435399659863945)}\n"
     ]
    },
    {
     "name": "stderr",
     "output_type": "stream",
     "text": [
      "                                                                            \r"
     ]
    },
    {
     "name": "stdout",
     "output_type": "stream",
     "text": [
      "Results for Ensemble BM25 with all features and different models, k1=1.43, b=1.12, train: {1: np.float64(0.578308566093519), 5: np.float64(0.6286859099043025), 10: np.float64(0.6344206898766146)}\n",
      "Results for Ensemble BM25 with all features and different models, k1=1.43, b=1.12, dev: {1: np.float64(0.5764285714285714), 5: np.float64(0.6298333333333334), 10: np.float64(0.6354172335600906)}\n"
     ]
    },
    {
     "name": "stderr",
     "output_type": "stream",
     "text": [
      "                                                                            \r"
     ]
    },
    {
     "name": "stdout",
     "output_type": "stream",
     "text": [
      "Results for Ensemble BM25 with all features and different models, k1=1.22, b=1.1, train: {1: np.float64(0.5822765113203143), 5: np.float64(0.6314647682771857), 10: np.float64(0.6369693814920611)}\n",
      "Results for Ensemble BM25 with all features and different models, k1=1.22, b=1.1, dev: {1: np.float64(0.5792857142857143), 5: np.float64(0.632702380952381), 10: np.float64(0.6382712585034014)}\n"
     ]
    },
    {
     "name": "stderr",
     "output_type": "stream",
     "text": [
      "                                                                            \r"
     ]
    },
    {
     "name": "stdout",
     "output_type": "stream",
     "text": [
      "Results for Ensemble BM25 with all features and different models, k1=2.48, b=1.09, train: {1: np.float64(0.5638372364428538), 5: np.float64(0.6180256230711377), 10: np.float64(0.6241184505130666)}\n",
      "Results for Ensemble BM25 with all features and different models, k1=2.48, b=1.09, dev: {1: np.float64(0.5685714285714286), 5: np.float64(0.6209285714285714), 10: np.float64(0.627985544217687)}\n"
     ]
    },
    {
     "name": "stderr",
     "output_type": "stream",
     "text": [
      "                                                                            \r"
     ]
    },
    {
     "name": "stdout",
     "output_type": "stream",
     "text": [
      "Results for Ensemble BM25 with all features and different models, k1=1.18, b=0.83, train: {1: np.float64(0.58569983661402), 5: np.float64(0.6339129645478357), 10: np.float64(0.6392742599775978)}\n",
      "Results for Ensemble BM25 with all features and different models, k1=1.18, b=0.83, dev: {1: np.float64(0.5914285714285714), 5: np.float64(0.6384285714285713), 10: np.float64(0.6442358276643991)}\n"
     ]
    },
    {
     "name": "stderr",
     "output_type": "stream",
     "text": [
      "                                                                            \r"
     ]
    },
    {
     "name": "stdout",
     "output_type": "stream",
     "text": [
      "Results for Ensemble BM25 with all features and different models, k1=1.55, b=0.74, train: {1: np.float64(0.584999610985762), 5: np.float64(0.6336652921496927), 10: np.float64(0.6392615398295005)}\n",
      "Results for Ensemble BM25 with all features and different models, k1=1.55, b=0.74, dev: {1: np.float64(0.5914285714285714), 5: np.float64(0.639452380952381), 10: np.float64(0.6450090702947846)}\n"
     ]
    },
    {
     "name": "stderr",
     "output_type": "stream",
     "text": [
      "                                                                            \r"
     ]
    },
    {
     "name": "stdout",
     "output_type": "stream",
     "text": [
      "Results for Ensemble BM25 with all features and different models, k1=1.32, b=0.72, train: {1: np.float64(0.58569983661402), 5: np.float64(0.6335965663009933), 10: np.float64(0.6392450530356079)}\n",
      "Results for Ensemble BM25 with all features and different models, k1=1.32, b=0.72, dev: {1: np.float64(0.5935714285714285), 5: np.float64(0.6392738095238095), 10: np.float64(0.6453611111111112)}\n"
     ]
    },
    {
     "name": "stderr",
     "output_type": "stream",
     "text": [
      "                                                                            \r"
     ]
    },
    {
     "name": "stdout",
     "output_type": "stream",
     "text": [
      "Results for Ensemble BM25 with all features and different models, k1=2.73, b=0.96, train: {1: np.float64(0.5707616898778495), 5: np.float64(0.6239023314919993), 10: np.float64(0.6298155022791294)}\n",
      "Results for Ensemble BM25 with all features and different models, k1=2.73, b=0.96, dev: {1: np.float64(0.5735714285714286), 5: np.float64(0.6260476190476191), 10: np.float64(0.6327089002267573)}\n"
     ]
    },
    {
     "name": "stderr",
     "output_type": "stream",
     "text": [
      "                                                                            \r"
     ]
    },
    {
     "name": "stdout",
     "output_type": "stream",
     "text": [
      "Results for Ensemble BM25 with all features and different models, k1=2.86, b=1.03, train: {1: np.float64(0.5640706449856064), 5: np.float64(0.6183588786016234), 10: np.float64(0.6245303424930749)}\n",
      "Results for Ensemble BM25 with all features and different models, k1=2.86, b=1.03, dev: {1: np.float64(0.5728571428571428), 5: np.float64(0.6215476190476189), 10: np.float64(0.629359977324263)}\n"
     ]
    },
    {
     "name": "stderr",
     "output_type": "stream",
     "text": [
      "                                                                            \r"
     ]
    },
    {
     "name": "stdout",
     "output_type": "stream",
     "text": [
      "Results for Ensemble BM25 with all features and different models, k1=1.31, b=0.86, train: {1: np.float64(0.5861666536995254), 5: np.float64(0.6348634560024896), 10: np.float64(0.6401320363722137)}\n",
      "Results for Ensemble BM25 with all features and different models, k1=1.31, b=0.86, dev: {1: np.float64(0.59), 5: np.float64(0.6387142857142858), 10: np.float64(0.6441179138321995)}\n"
     ]
    },
    {
     "name": "stderr",
     "output_type": "stream",
     "text": [
      "                                                                            \r"
     ]
    },
    {
     "name": "stdout",
     "output_type": "stream",
     "text": [
      "Results for Ensemble BM25 with all features and different models, k1=1.24, b=1.03, train: {1: np.float64(0.584999610985762), 5: np.float64(0.633647138151923), 10: np.float64(0.6388831462977576)}\n",
      "Results for Ensemble BM25 with all features and different models, k1=1.24, b=1.03, dev: {1: np.float64(0.5835714285714285), 5: np.float64(0.6343928571428571), 10: np.float64(0.6400960884353741)}\n"
     ]
    },
    {
     "name": "stderr",
     "output_type": "stream",
     "text": [
      "                                                                            \r"
     ]
    },
    {
     "name": "stdout",
     "output_type": "stream",
     "text": [
      "Results for Ensemble BM25 with all features and different models, k1=1.22, b=1.15, train: {1: np.float64(0.5800202287403718), 5: np.float64(0.6294639383801447), 10: np.float64(0.6350737706841341)}\n",
      "Results for Ensemble BM25 with all features and different models, k1=1.22, b=1.15, dev: {1: np.float64(0.5757142857142857), 5: np.float64(0.6305238095238095), 10: np.float64(0.6357176870748299)}\n"
     ]
    },
    {
     "name": "stderr",
     "output_type": "stream",
     "text": [
      "                                                                            \r"
     ]
    },
    {
     "name": "stdout",
     "output_type": "stream",
     "text": [
      "Results for Ensemble BM25 with all features and different models, k1=2.03, b=1.05, train: {1: np.float64(0.5740294094763868), 5: np.float64(0.6259329858139475), 10: np.float64(0.6318216116551135)}\n",
      "Results for Ensemble BM25 with all features and different models, k1=2.03, b=1.05, dev: {1: np.float64(0.5735714285714286), 5: np.float64(0.62625), 10: np.float64(0.6328988095238095)}\n"
     ]
    },
    {
     "name": "stderr",
     "output_type": "stream",
     "text": [
      "                                                                            \r"
     ]
    },
    {
     "name": "stdout",
     "output_type": "stream",
     "text": [
      "Results for Ensemble BM25 with all features and different models, k1=1.53, b=1.09, train: {1: np.float64(0.5796312145024508), 5: np.float64(0.6295871262221531), 10: np.float64(0.6353260433300113)}\n",
      "Results for Ensemble BM25 with all features and different models, k1=1.53, b=1.09, dev: {1: np.float64(0.5764285714285714), 5: np.float64(0.630047619047619), 10: np.float64(0.6353747165532879)}\n"
     ]
    },
    {
     "name": "stderr",
     "output_type": "stream",
     "text": [
      "                                                                            \r"
     ]
    },
    {
     "name": "stdout",
     "output_type": "stream",
     "text": [
      "Results for Ensemble BM25 with all features and different models, k1=2.04, b=1.1, train: {1: np.float64(0.5699058585544231), 5: np.float64(0.6226172877927332), 10: np.float64(0.6286082923015934)}\n",
      "Results for Ensemble BM25 with all features and different models, k1=2.04, b=1.1, dev: {1: np.float64(0.5714285714285714), 5: np.float64(0.6234642857142857), 10: np.float64(0.6306139455782312)}\n"
     ]
    },
    {
     "name": "stderr",
     "output_type": "stream",
     "text": [
      "                                                                            \r"
     ]
    },
    {
     "name": "stdout",
     "output_type": "stream",
     "text": [
      "Results for Ensemble BM25 with all features and different models, k1=1.59, b=0.84, train: {1: np.float64(0.5855442309188517), 5: np.float64(0.6345794756088072), 10: np.float64(0.6401674798916689)}\n",
      "Results for Ensemble BM25 with all features and different models, k1=1.59, b=0.84, dev: {1: np.float64(0.5871428571428572), 5: np.float64(0.6374642857142857), 10: np.float64(0.6423696145124717)}\n"
     ]
    },
    {
     "name": "stderr",
     "output_type": "stream",
     "text": [
      "                                                                            \r"
     ]
    },
    {
     "name": "stdout",
     "output_type": "stream",
     "text": [
      "Results for Ensemble BM25 with all features and different models, k1=2.41, b=1.09, train: {1: np.float64(0.5644596592235276), 5: np.float64(0.6187401125547862), 10: np.float64(0.6247427566166381)}\n",
      "Results for Ensemble BM25 with all features and different models, k1=2.41, b=1.09, dev: {1: np.float64(0.5678571428571428), 5: np.float64(0.6208095238095238), 10: np.float64(0.6277565192743764)}\n"
     ]
    },
    {
     "name": "stderr",
     "output_type": "stream",
     "text": [
      "                                                                            \r"
     ]
    },
    {
     "name": "stdout",
     "output_type": "stream",
     "text": [
      "Results for Ensemble BM25 with all features and different models, k1=1.49, b=0.71, train: {1: np.float64(0.5846883995954252), 5: np.float64(0.6333475971887237), 10: np.float64(0.6389197630347556)}\n",
      "Results for Ensemble BM25 with all features and different models, k1=1.49, b=0.71, dev: {1: np.float64(0.59), 5: np.float64(0.6384285714285713), 10: np.float64(0.6441303854875283)}\n"
     ]
    }
   ],
   "source": [
    "for param_set in param_sets:\n",
    "    df_query_train_ensemble_all = experiment_ensemble_all_features(df_collection, df_query_train, param_set)\n",
    "    df_query_dev_ensemble_all = experiment_ensemble_all_features(df_collection, df_query_dev, param_set)\n",
    "    evaluate_experiment(df_query_train_ensemble_all, df_query_dev_ensemble_all, \n",
    "        f\"Ensemble BM25 with all features and different models, k1={param_set[0]['k1']}, b={param_set[0]['b']}\")"
   ]
  },
  {
   "cell_type": "code",
   "execution_count": 56,
   "id": "475cec92",
   "metadata": {},
   "outputs": [],
   "source": [
    "def experiment_ensemble_some_features(df_collection, df_query, param_sets):\n",
    "    bm25_models = {}\n",
    "    corpus = df_collection.apply(\n",
    "        lambda x: f\"{x['title']} {x['abstract']}\", axis=1\n",
    "    ).tolist()\n",
    "    for param in param_sets:\n",
    "        if 'method' in param:\n",
    "            method = param['method']\n",
    "        else:\n",
    "            method = \"AHHH no method??\"\n",
    "        bm25_models[method] = initialize_bm25(corpus, df_collection['cord_uid'].tolist(), **param)\n",
    "\n",
    "    tokenized_queries = bm25s.tokenize(df_query['tweet_text'])\n",
    "\n",
    "    all_scores = {model: bm25.retrieve(tokenized_queries, n_threads=-1, k=100) for model, bm25 in bm25_models.items()}\n",
    "    \n",
    "    ensemble_scores = []\n",
    "    for query_idx in range(len(df_query)):\n",
    "        scores = {cord_uid: 0 for cord_uid in df_collection['cord_uid']}\n",
    "        for feature, doc_scores in all_scores.items():\n",
    "            for cord_uid, score in zip(doc_scores.documents[query_idx], doc_scores.scores[query_idx]):\n",
    "                scores[cord_uid] += score\n",
    "        sorted_scores = sorted(scores.items(), key=lambda x: x[1], reverse=True)\n",
    "        ensemble_scores.append([cord_uid for cord_uid, _ in sorted_scores[:10]])\n",
    "\n",
    "    df_query['bm25_topk'] = ensemble_scores\n",
    "    return df_query"
   ]
  },
  {
   "cell_type": "code",
   "execution_count": 57,
   "id": "ca96388c",
   "metadata": {},
   "outputs": [],
   "source": [
    "methods = ['robertson', 'lucene', 'atire', 'bm25l', 'bm25+']\n",
    "param_sets = []\n",
    "for _ in range(5):\n",
    "    k1 = round(random.uniform(1.0, 3.0), 2)  \n",
    "    b = round(random.uniform(0.65, 0.85), 2)  \n",
    "    param_set = []\n",
    "    for method in methods:\n",
    "        param_set.append({'method': method, 'k1': k1, 'b': b})\n",
    "    param_sets.append(param_set)"
   ]
  },
  {
   "cell_type": "code",
   "execution_count": 58,
   "id": "d666c048",
   "metadata": {},
   "outputs": [
    {
     "name": "stderr",
     "output_type": "stream",
     "text": [
      "                                                                            \r"
     ]
    },
    {
     "name": "stdout",
     "output_type": "stream",
     "text": [
      "Results for Ensemble BM25 with all features and different models, k1=1.39, b=0.82, train: {1: np.float64(0.5814984828444721), 5: np.float64(0.6309434891983713), 10: np.float64(0.6361636589073763)}\n",
      "Results for Ensemble BM25 with all features and different models, k1=1.39, b=0.82, dev: {1: np.float64(0.5871428571428572), 5: np.float64(0.6380476190476191), 10: np.float64(0.643187074829932)}\n"
     ]
    },
    {
     "name": "stderr",
     "output_type": "stream",
     "text": [
      "                                                                            \r"
     ]
    },
    {
     "name": "stdout",
     "output_type": "stream",
     "text": [
      "Results for Ensemble BM25 with all features and different models, k1=1.1, b=0.77, train: {1: np.float64(0.5821987084727301), 5: np.float64(0.6301952851474364), 10: np.float64(0.6354060999902438)}\n",
      "Results for Ensemble BM25 with all features and different models, k1=1.1, b=0.77, dev: {1: np.float64(0.59), 5: np.float64(0.6370119047619048), 10: np.float64(0.6430609410430839)}\n"
     ]
    },
    {
     "name": "stderr",
     "output_type": "stream",
     "text": [
      "                                                                            \r"
     ]
    },
    {
     "name": "stdout",
     "output_type": "stream",
     "text": [
      "Results for Ensemble BM25 with all features and different models, k1=2.72, b=0.8, train: {1: np.float64(0.5717731268964444), 5: np.float64(0.6244300941414456), 10: np.float64(0.629892070160879)}\n",
      "Results for Ensemble BM25 with all features and different models, k1=2.72, b=0.8, dev: {1: np.float64(0.5735714285714286), 5: np.float64(0.6278571428571429), 10: np.float64(0.6338432539682539)}\n"
     ]
    },
    {
     "name": "stderr",
     "output_type": "stream",
     "text": [
      "                                                                            \r"
     ]
    },
    {
     "name": "stdout",
     "output_type": "stream",
     "text": [
      "Results for Ensemble BM25 with all features and different models, k1=1.97, b=0.84, train: {1: np.float64(0.57721932622734), 5: np.float64(0.6279986514173086), 10: np.float64(0.6334984791395746)}\n",
      "Results for Ensemble BM25 with all features and different models, k1=1.97, b=0.84, dev: {1: np.float64(0.5792857142857143), 5: np.float64(0.63375), 10: np.float64(0.6390765306122449)}\n"
     ]
    },
    {
     "name": "stderr",
     "output_type": "stream",
     "text": [
      "                                                                            \r"
     ]
    },
    {
     "name": "stdout",
     "output_type": "stream",
     "text": [
      "Results for Ensemble BM25 with all features and different models, k1=1.95, b=0.83, train: {1: np.float64(0.5770637205321715), 5: np.float64(0.6279753105630332), 10: np.float64(0.6334749530404241)}\n",
      "Results for Ensemble BM25 with all features and different models, k1=1.95, b=0.83, dev: {1: np.float64(0.5807142857142857), 5: np.float64(0.6342619047619048), 10: np.float64(0.6398863378684807)}\n"
     ]
    }
   ],
   "source": [
    "for param_set in param_sets:\n",
    "    df_query_train_ensemble_some = experiment_ensemble_some_features(df_collection, df_query_train, param_set)\n",
    "    df_query_dev_ensemble_some = experiment_ensemble_some_features(df_collection, df_query_dev, param_set)\n",
    "    evaluate_experiment(df_query_train_ensemble_some, df_query_dev_ensemble_some, \n",
    "        f\"Ensemble BM25 with all features and different models, k1={param_set[0]['k1']}, b={param_set[0]['b']}\")"
   ]
  },
  {
   "cell_type": "code",
   "execution_count": 65,
   "id": "8e9704dc",
   "metadata": {},
   "outputs": [
    {
     "name": "stderr",
     "output_type": "stream",
     "text": [
      "                                                                            \r"
     ]
    },
    {
     "name": "stdout",
     "output_type": "stream",
     "text": [
      "Results for Ensemble BM25 with single features, train: {1: np.float64(0.5799424258927877), 5: np.float64(0.6291760678440831), 10: np.float64(0.6342819105909434)}\n",
      "Results for Ensemble BM25 with single features, dev: {1: np.float64(0.5878571428571429), 5: np.float64(0.6388095238095237), 10: np.float64(0.6432848639455782)}\n"
     ]
    },
    {
     "data": {
      "text/plain": [
       "{1: np.float64(0.5878571428571429),\n",
       " 5: np.float64(0.6388095238095237),\n",
       " 10: np.float64(0.6432848639455782)}"
      ]
     },
     "execution_count": 65,
     "metadata": {},
     "output_type": "execute_result"
    }
   ],
   "source": [
    "weights = {\n",
    "    'title': 1.0,\n",
    "    'abstract': 2.0,\n",
    "    'last_names': 0.3,\n",
    "    'journal': 0.1,\n",
    "    'publish_year': 0\n",
    "}\n",
    "df_query_train_ensemble_single = experiment_ensemble_single_feature(df_collection, df_query_train, weights=weights, k1=1.2, b=0.74)\n",
    "df_query_dev_ensemble_single = experiment_ensemble_single_feature(df_collection, df_query_dev, weights=weights)\n",
    "evaluate_experiment(df_query_train_ensemble_single,df_query_dev_ensemble_single, \"Ensemble BM25 with single features\")"
   ]
  },
  {
   "cell_type": "code",
   "execution_count": null,
   "id": "53474d98",
   "metadata": {},
   "outputs": [],
   "source": []
  }
 ],
 "metadata": {
  "kernelspec": {
   "display_name": "Python 3",
   "language": "python",
   "name": "python3"
  },
  "language_info": {
   "codemirror_mode": {
    "name": "ipython",
    "version": 3
   },
   "file_extension": ".py",
   "mimetype": "text/x-python",
   "name": "python",
   "nbconvert_exporter": "python",
   "pygments_lexer": "ipython3",
   "version": "3.12.10"
  }
 },
 "nbformat": 4,
 "nbformat_minor": 5
}
